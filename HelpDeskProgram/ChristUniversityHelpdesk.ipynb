{
 "cells": [
  {
   "cell_type": "markdown",
   "metadata": {
    "id": "bxcUSJf95Gtf"
   },
   "source": [
    "## Simple HelpDesk program in Python\n",
    "\n",
    "*   Author: Sanjay S Rao\n",
    "*   LinkedIn: https://www.linkedin.com/in/sanjay-srinivasa-rao-b67a771a0/\n"
   ]
  },
  {
   "cell_type": "code",
   "execution_count": null,
   "metadata": {
    "colab": {
     "base_uri": "https://localhost:8080/"
    },
    "id": "EuIqN0Fv6g-_",
    "outputId": "15878fb8-87d5-447e-bd13-847f6d60a1a3"
   },
   "outputs": [
    {
     "name": "stdout",
     "output_type": "stream",
     "text": [
      "Welcome to Christ helpdesk\n",
      "\n",
      "Please enter your name :Sanjay\n",
      "Thanks!  Sanjay\n"
     ]
    }
   ],
   "source": [
    "#Start of the program\n",
    "print(\"Welcome to Christ helpdesk\\n\")\n",
    "name = input(\"Please enter your name :\")\n",
    "if name.isdigit(): #to validate the input \n",
    "    print(\"Your name cannot be a number.\")\n",
    "elif name == \"\" :\n",
    "    print(\"Invalid input. Your name cannot be blank. \")\n",
    "else:\n",
    "    print(\"Thanks! \",name) #to greet the user"
   ]
  },
  {
   "cell_type": "code",
   "execution_count": null,
   "metadata": {
    "colab": {
     "base_uri": "https://localhost:8080/"
    },
    "id": "vjzFnieY6pnh",
    "outputId": "f47d05ea-56f1-47d0-aef3-1bac27f5fddf"
   },
   "outputs": [
    {
     "name": "stdout",
     "output_type": "stream",
     "text": [
      "Please select an option revelant to your search\n",
      " \n",
      "  1. About Christ University\n",
      "  2. Available programmes\n",
      "  3. Campuses\n",
      "  4. Hostel\n",
      "  5. Download CHRIST's android app\n",
      "  6. Exit\n"
     ]
    }
   ],
   "source": [
    "print(\"Please select an option revelant to your search\")\n",
    "print(\"\"\" \n",
    "  1. About Christ University\n",
    "  2. Available programmes\n",
    "  3. Campuses\n",
    "  4. Hostel\n",
    "  5. Download CHRIST's android app\n",
    "  6. None of the above\"\"\")"
   ]
  },
  {
   "cell_type": "code",
   "execution_count": null,
   "metadata": {
    "colab": {
     "base_uri": "https://localhost:8080/"
    },
    "id": "ut54u8ya6pku",
    "outputId": "ce8288f0-8164-4965-d94b-6a2a2fc5d5f8"
   },
   "outputs": [
    {
     "name": "stdout",
     "output_type": "stream",
     "text": [
      "Enter your choice:2\n",
      "\n",
      "  We have various programmes available for English communication.\n",
      "  You can choose from the following.\n",
      "  1. Certificate Courses.\n",
      "  2. Diploma Courses.\n",
      "  3. Degree Courses.\n",
      "  4. Online Platform.\n",
      "  The programmes are available at all our campuses. You can choose according to your comfort.\n",
      "Enter your choice here:4\n",
      "\n",
      "  ONLINE PROGRAMME\n",
      "  Do you have a talent for diving into a topic and finding intriguing connections?\n",
      "  Do you have a natural curiosity, a love for learning and a passion for storytelling?\n",
      "  If you answered yes to all of the above, you’re a perfect fit for Christ’s online \n",
      "  Bachelor of Arts (BA) in English Language and Literature.\n",
      "  Admission Registration fee of INR 5000/- (Non Refundable)\n",
      "  Duration: 9 months.\n",
      "  Fee structure: 300 USD\n"
     ]
    }
   ],
   "source": [
    "choice = int(input(\"Enter your choice:\"))\n",
    "if choice == 1:\n",
    "  print(intro) #done\n",
    "elif choice == 2:\n",
    "  print(available_programmes) #done\n",
    "  programmes()\n",
    "elif choice == 3:\n",
    "  print(Campuses) #done\n",
    "  campuses()\n",
    "elif choice == 4:\n",
    "  print(Hostel_info) #done\n",
    "elif choice == 5:\n",
    "  print(ChristApp) #done\n",
    "else:\n",
    "  print(\"I'm sorry for the inconvience.\")\n",
    "  #@title www.christuniversity.in\n",
    "  print(\"Please click the link for more information\") "
   ]
  },
  {
   "cell_type": "code",
   "execution_count": null,
   "metadata": {
    "id": "eZ8Fm7Kq69m1"
   },
   "outputs": [],
   "source": [
    "intro = (\"\"\"\n",
    "  HISTORY: \n",
    "  CHRIST (Deemed to be University) was born out of the educational vision\n",
    "  of St Kuriakose Elias Chavara, an educationalist and social reformer of\n",
    "  the nineteenth century in South India. He founded the first Catholic\n",
    "  indigenous congregation, Carmelites of Mary Immaculate (CMI), in 1831\n",
    "  which administers CHRIST (Deemed to be University) which was established in\n",
    "  1969 as Christ College.\n",
    "\n",
    "  VISION:\n",
    "  Excellence and Service.\n",
    "\n",
    "  MISSION:\n",
    "  CHRIST (Deemed to be University) is a nurturing ground for an individual's\n",
    "  holistic development to make an effective contribution to the society in a\n",
    "  dynamic environment.\n",
    "  \n",
    "  This first indigenous Catholic religious congregation of India today has more\n",
    "  than 3000 priests serving in different parts of the world. He was canonized \n",
    "  on 23 November 2014 in Rome by Pope Francis. The CMI congregation inspired \n",
    "  by the vision of St Chavara renders its service in educational, social,\n",
    "  health care and other sectors aiming at the integral development of the society.\n",
    "  \"\"\")"
   ]
  },
  {
   "cell_type": "code",
   "execution_count": null,
   "metadata": {
    "id": "xMXrhxkL7TEX"
   },
   "outputs": [],
   "source": [
    "available_programmes = (\"\"\"\n",
    "  We have various programmes available for English communication.\n",
    "  You can choose from the following.\n",
    "  1. Certificate Courses.\n",
    "  2. Diploma Courses.\n",
    "  3. Degree Courses.\n",
    "  4. Online Platform.\n",
    "  The programmes are available at all our campuses. You can choose according to your comfort.\"\"\")\n",
    "\n",
    "def programmes(): #a function to input the choice of selection from the user\n",
    "  value=int(input(\"Enter your choice here:\"))\n",
    "  if value == 1:\n",
    "    print(certificate_prog)\n",
    "  elif value == 2:\n",
    "    print(diploma_prog)\n",
    "  elif value == 3:\n",
    "    print(degree_prog)\n",
    "  else:\n",
    "    print(online_prog)\n",
    "\n",
    "certificate_prog = (\"\"\"\n",
    "  CERTIFICATE PROGRAMME\n",
    "  Students who complete this program will earn a certificate \n",
    "  proving their proficiency in English at the graduate academic level. \n",
    "  This certificate is officially recognized by Christ University* \n",
    "  and serves as an online alternative to standardized testing for international\n",
    "  students who are seeking admission.\n",
    "  Duration: 6 months.\n",
    "  Fee structure: 250 USD \"\"\")\n",
    "\n",
    "diploma_prog = (\"\"\"\n",
    "  DIPLOMA PROGRAMME\n",
    "  Literature is an important cultural product of a society or a nation. Hence, \n",
    "  the study of literature offers insights into the worldviews of different societies.\n",
    "  This course begins with traditional British literature to the present. The course also\n",
    "  introduces students to other literatures namely American world, postcolonial and also \n",
    "  the Indian literature in translation. The course also introduces students to interdisciplinary\n",
    "  studies in culture and gender helping them to gain insights from other disciplines like history,\n",
    "  anthropology, sociology etc.\n",
    "  Admission Registration fee of INR 500/- (Non Refundable)\n",
    "  Duration: 24 months.\n",
    "  Fee structure: 1000 USD\"\"\")\n",
    "\n",
    "degree_prog = (\"\"\"\n",
    "  DEGREE PROGRAMME\n",
    "  An English degree provides students with a comprehensive understanding of linguistics,\n",
    "  grammar, writing, and literary analysis. Enrollees explore the English language and its\n",
    "  applications while learning about the fundamentals of the written word.\n",
    "  Admission Registration fee of INR 5000/- (Non Refundable)\n",
    "  Duration: 36 months.\n",
    "  Fee structure: 3000 USD\"\"\")\n",
    "\n",
    "online_prog = (\"\"\"\n",
    "  ONLINE PROGRAMME\n",
    "  Do you have a talent for diving into a topic and finding intriguing connections?\n",
    "  Do you have a natural curiosity, a love for learning and a passion for storytelling?\n",
    "  If you answered yes to all of the above, you’re a perfect fit for Christ’s online \n",
    "  Bachelor of Arts (BA) in English Language and Literature.\n",
    "  Admission Registration fee of INR 5000/- (Non Refundable)\n",
    "  Duration: 9 months.\n",
    "  Fee structure: 300 USD\"\"\")"
   ]
  },
  {
   "cell_type": "code",
   "execution_count": null,
   "metadata": {
    "id": "OXaIhAWQ8a4m"
   },
   "outputs": [],
   "source": [
    "Campuses = (\"\"\"\n",
    "  1. Bangalore Main Campus.\n",
    "  2. Bangalore Bannerghatta Campus.\n",
    "  3. Delhi NCR Campus.\n",
    "  4. Pune Lavasa Campus.\"\"\")\n",
    "\n",
    "def campuses(): #a function to input the choice of selection from the user\n",
    "  value=int(input(\"Enter your choice here:\"))\n",
    "  if value == 1:\n",
    "    print(bangalore_bgr)\n",
    "  elif value == 2:\n",
    "    print(bangalore_bng)\n",
    "  elif value == 3:\n",
    "    print(delhi_ncr)\n",
    "  else:\n",
    "    print(pune_lavasa)\n",
    "\n",
    "bangalore_bgr = (\"\"\" \n",
    "    BANGALORE CENTRAL CAMPUS\n",
    "    The Office of Admissions,\n",
    "    CHRIST (Deemed to be University), Hosur Road,\n",
    "    Bengaluru - 560029, Karnataka, INDIA\n",
    "    Ph. No: +919243080800\n",
    "    Email: admissions@christuniversity.in\"\"\")\n",
    "\n",
    "bangalore_bng = (\"\"\"\n",
    "    BANGALORE BANNERGHATTA ROAD CAMPUS\n",
    "    CHRIST (Deemed to be University)\n",
    "    Hulimavu, Bannerghatta Road,\n",
    "    Bangalore, Karnataka 560076\n",
    "    Ph. No:  08046551306, 1307, 1308, 1309\n",
    "    Email: admissions.bgr@christuniversity.in\"\"\")\n",
    "\n",
    "delhi_ncr = (\"\"\"\n",
    "    DELHI NCR CAMPUS\n",
    "    CHRIST (Deemed to be University),\n",
    "    Mariam Nagar, Meerut Road,\n",
    "    Delhi NCR Ghaziabad - 201003\n",
    "    Ph. No: 1800-123-3212\n",
    "    Email : admission.ncr@christuniversity.in\"\"\")\n",
    "\n",
    "pune_lavasa = (\"\"\"\n",
    "    PUNE LAVASA CAMPUS\n",
    "    CHRIST (Deemed to be University),\n",
    "    Christ University Road, 30 Valor Court,\n",
    "    PO Dasve Lavasa, Mulshi, Pune - 412112, Maharashtra\n",
    "    Ph. No : 1800-123-2009,\n",
    "    Email : admission.lavasa@christuniversity.in\"\"\")\n",
    "  "
   ]
  },
  {
   "cell_type": "code",
   "execution_count": null,
   "metadata": {
    "id": "z-OBkmr28a19"
   },
   "outputs": [],
   "source": [
    "Hostel_info = (\"\"\"\n",
    "  STUDENT ACCOMMODATION SERVICES has well-furnished residence halls\n",
    "  for non-resident students. Keeping in view the University vision \n",
    "  of Excellence and Service. CHRIST(Deemed to be University) residence \n",
    "  halls focus on students' holistic development and provide them a \n",
    "  nurturing home away from home. It helps students to achieve academic \n",
    "  success and enables their participation in student development activities \n",
    "  such as extra/co-curricular activities and sports activities enthusiastically. \n",
    "  The residence halls also aim at developing leadership skills, personal, \n",
    "  interpersonal and cultural competence among the residents. \n",
    "  CHRIST (Deemed to be University) offers student accommodation \n",
    "  services on the first-come-first-serve basis. \n",
    "  Admission to the student accommodation facilities can be obtained only after \n",
    "  confirming your admission to the preferred programme.\"\"\")"
   ]
  },
  {
   "cell_type": "code",
   "execution_count": null,
   "metadata": {
    "id": "eD7Ij8zY8VD6"
   },
   "outputs": [],
   "source": [
    "ChristApp=(\"\"\"\n",
    "  Here's the link for the Christ App.\n",
    " #@title https://bit.ly/christprogrammesredirect \"\"\")"
   ]
  },
  {
   "cell_type": "code",
   "execution_count": null,
   "metadata": {
    "colab": {
     "base_uri": "https://localhost:8080/"
    },
    "id": "LsqjyofG9Lzk",
    "outputId": "0084c466-d7dd-41b8-8339-180c918c9c06"
   },
   "outputs": [
    {
     "name": "stdout",
     "output_type": "stream",
     "text": [
      "Collecting email-validator\n",
      "  Downloading email_validator-1.1.3-py2.py3-none-any.whl (18 kB)\n",
      "Collecting dnspython>=1.15.0\n",
      "  Downloading dnspython-2.1.0-py3-none-any.whl (241 kB)\n",
      "\u001b[?25l\r",
      "\u001b[K     |█▍                              | 10 kB 22.1 MB/s eta 0:00:01\r",
      "\u001b[K     |██▊                             | 20 kB 23.3 MB/s eta 0:00:01\r",
      "\u001b[K     |████                            | 30 kB 26.8 MB/s eta 0:00:01\r",
      "\u001b[K     |█████▍                          | 40 kB 28.3 MB/s eta 0:00:01\r",
      "\u001b[K     |██████▊                         | 51 kB 28.8 MB/s eta 0:00:01\r",
      "\u001b[K     |████████▏                       | 61 kB 31.7 MB/s eta 0:00:01\r",
      "\u001b[K     |█████████▌                      | 71 kB 25.5 MB/s eta 0:00:01\r",
      "\u001b[K     |██████████▉                     | 81 kB 26.3 MB/s eta 0:00:01\r",
      "\u001b[K     |████████████▏                   | 92 kB 28.0 MB/s eta 0:00:01\r",
      "\u001b[K     |█████████████▌                  | 102 kB 29.5 MB/s eta 0:00:01\r",
      "\u001b[K     |███████████████                 | 112 kB 29.5 MB/s eta 0:00:01\r",
      "\u001b[K     |████████████████▎               | 122 kB 29.5 MB/s eta 0:00:01\r",
      "\u001b[K     |█████████████████▋              | 133 kB 29.5 MB/s eta 0:00:01\r",
      "\u001b[K     |███████████████████             | 143 kB 29.5 MB/s eta 0:00:01\r",
      "\u001b[K     |████████████████████▎           | 153 kB 29.5 MB/s eta 0:00:01\r",
      "\u001b[K     |█████████████████████▋          | 163 kB 29.5 MB/s eta 0:00:01\r",
      "\u001b[K     |███████████████████████         | 174 kB 29.5 MB/s eta 0:00:01\r",
      "\u001b[K     |████████████████████████▍       | 184 kB 29.5 MB/s eta 0:00:01\r",
      "\u001b[K     |█████████████████████████▊      | 194 kB 29.5 MB/s eta 0:00:01\r",
      "\u001b[K     |███████████████████████████     | 204 kB 29.5 MB/s eta 0:00:01\r",
      "\u001b[K     |████████████████████████████▍   | 215 kB 29.5 MB/s eta 0:00:01\r",
      "\u001b[K     |█████████████████████████████▉  | 225 kB 29.5 MB/s eta 0:00:01\r",
      "\u001b[K     |███████████████████████████████▏| 235 kB 29.5 MB/s eta 0:00:01\r",
      "\u001b[K     |████████████████████████████████| 241 kB 29.5 MB/s \n",
      "\u001b[?25hRequirement already satisfied: idna>=2.0.0 in /usr/local/lib/python3.7/dist-packages (from email-validator) (2.10)\n",
      "Installing collected packages: dnspython, email-validator\n",
      "Successfully installed dnspython-2.1.0 email-validator-1.1.3\n"
     ]
    }
   ],
   "source": [
    "pip install email-validator"
   ]
  },
  {
   "cell_type": "code",
   "execution_count": null,
   "metadata": {
    "id": "TshwDHIr_f5X"
   },
   "outputs": [],
   "source": [
    "from email_validator import validate_email, EmailNotValidError\n",
    "final_data = {\"Name\":[],\"Email\":[],\"Age\":[],\"Country\":[],\"Course_type\":[],\"Campus\":[]} #empty dictionary"
   ]
  },
  {
   "cell_type": "code",
   "execution_count": null,
   "metadata": {
    "colab": {
     "base_uri": "https://localhost:8080/"
    },
    "id": "H84RuC2fU5fr",
    "outputId": "e49362c6-bbb1-4e18-e74d-75019dc3ff82"
   },
   "outputs": [
    {
     "name": "stdout",
     "output_type": "stream",
     "text": [
      "Please provide the following details in order to initialise the admission procedure.\n",
      "Enter a valid e-mail:sanjay@gmail.com\n",
      "Enter your age:21\n",
      "Enter your country:India\n",
      "Enter your choice of the course:Degree Course\n",
      "Enter the campus you wish to select:Central Campus\n"
     ]
    }
   ],
   "source": [
    "print(\"Please provide the following details in order to initialise the admission procedure.\")\n",
    "email = input(\"Enter a valid e-mail:\")\n",
    "try:\n",
    "  # Validate.\n",
    "    valid = validate_email(email)\n",
    "\n",
    "  # Update with the normalized form.\n",
    "    email = valid.email\n",
    "    age = int(input(\"Enter your age:\"))\n",
    "    if age in range(20,40):\n",
    "      country = input(\"Enter your country:\")\n",
    "      course_type = input(\"Enter your choice of the course:\")\n",
    "      campus = input(\"Enter the campus you wish to select:\")\n",
    "    else:\n",
    "      print(\"Sorry, you're beyond age limits for the course!\")\n",
    "except EmailNotValidError as e:\n",
    "  # email is not valid, exception message is human-readable\n",
    "    print(str(e))\n",
    "    email=(\"\")\n",
    "\n",
    "print(\"Thank you for showing your interest. We appreciate your response.\")\n",
    "print(\"Our admission councellor will get in touch with you shortly\")\n",
    "print(\"Have a great day!\")"
   ]
  },
  {
   "cell_type": "code",
   "execution_count": null,
   "metadata": {
    "id": "LLpVlROYtrmV"
   },
   "outputs": [],
   "source": [
    "#updating the dictionary with the applicant details.\n",
    "final_data[\"Name\"].append(name)\n",
    "final_data[\"Email\"].append(email)\n",
    "final_data[\"Age\"].append(age)\n",
    "final_data[\"Country\"].append(country)\n",
    "final_data[\"Course_type\"].append(course_type)\n",
    "final_data[\"Campus\"].append(campus)"
   ]
  },
  {
   "cell_type": "code",
   "execution_count": null,
   "metadata": {
    "colab": {
     "base_uri": "https://localhost:8080/"
    },
    "id": "h1P7pnQa9TjF",
    "outputId": "caca4d7f-c632-4c9e-d064-dd7143a58b46"
   },
   "outputs": [
    {
     "name": "stdout",
     "output_type": "stream",
     "text": [
      "{'Name': ['Sanjay'], 'Email': ['sanjay@gmail.com'], 'Age': [21], 'Country': ['India'], 'Course_type': ['Degree Course'], 'Campus': ['Central Campus']}\n"
     ]
    }
   ],
   "source": [
    "print(final_data) #print the details"
   ]
  },
  {
   "cell_type": "code",
   "execution_count": null,
   "metadata": {
    "id": "qSe_lNAe_rBz"
   },
   "outputs": [],
   "source": []
  }
 ],
 "metadata": {
  "colab": {
   "collapsed_sections": [],
   "name": "2021_08_27_P1_2148023.ipynb",
   "provenance": []
  },
  "kernelspec": {
   "display_name": "Python 3",
   "language": "python",
   "name": "python3"
  },
  "language_info": {
   "codemirror_mode": {
    "name": "ipython",
    "version": 3
   },
   "file_extension": ".py",
   "mimetype": "text/x-python",
   "name": "python",
   "nbconvert_exporter": "python",
   "pygments_lexer": "ipython3",
   "version": "3.8.8"
  }
 },
 "nbformat": 4,
 "nbformat_minor": 1
}
