{
 "cells": [
  {
   "cell_type": "markdown",
   "metadata": {
    "id": "AyY8_ru8-AN5"
   },
   "source": [
    "# EXCEPTION HANDLING IN PYTHON\n",
    "*   Author: Sanjay S Rao\n",
    "*   LinkedIn: https://www.linkedin.com/in/sanjay-srinivasa-rao-b67a771a0/"
   ]
  },
  {
   "cell_type": "markdown",
   "metadata": {
    "id": "IkoEamUA-RnU"
   },
   "source": [
    "Error in Python can be of two types i.e. Syntax errors and Exceptions. Errors are the problems in a program due to which the program will stop the execution. On the other hand, exceptions are raised when some internal events occur which changes the normal flow of the program. \n",
    "\n",
    "**Syntax Error:** As the name suggests this error is caused by the wrong syntax in the code. It leads to the termination of the program. \n",
    "\n",
    "**Exceptions:** Exceptions are raised when the program is syntactically correct, but the code resulted in an error. This error does not stop the execution of the program, however, it changes the normal flow of the program.\n",
    "\n",
    "**Try and Except Statement – Catching Exceptions**\n",
    "Try and except statements are used to catch and handle exceptions in Python. Statements that can raise exceptions are kept inside the try clause and the statements that handle the exception are written inside except clause."
   ]
  },
  {
   "cell_type": "markdown",
   "metadata": {
    "id": "O6ZiIa5M-v1q"
   },
   "source": [
    "## Importing necessary packages"
   ]
  },
  {
   "cell_type": "code",
   "execution_count": null,
   "metadata": {
    "colab": {
     "base_uri": "https://localhost:8080/"
    },
    "id": "6ihwi2pB9Cw8",
    "outputId": "ee8df482-da12-49b4-9f24-1b1147410075"
   },
   "outputs": [
    {
     "name": "stdout",
     "output_type": "stream",
     "text": [
      "Collecting twilio\n",
      "  Downloading twilio-7.0.0.tar.gz (489 kB)\n",
      "\u001b[K     |████████████████████████████████| 489 kB 5.1 MB/s \n",
      "\u001b[?25hRequirement already satisfied: pytz in /usr/local/lib/python3.7/dist-packages (from twilio) (2018.9)\n",
      "Requirement already satisfied: requests>=2.0.0 in /usr/local/lib/python3.7/dist-packages (from twilio) (2.23.0)\n",
      "Collecting PyJWT<3.0.0,>=2.0.0\n",
      "  Downloading PyJWT-2.1.0-py3-none-any.whl (16 kB)\n",
      "Requirement already satisfied: certifi>=2017.4.17 in /usr/local/lib/python3.7/dist-packages (from requests>=2.0.0->twilio) (2021.5.30)\n",
      "Requirement already satisfied: chardet<4,>=3.0.2 in /usr/local/lib/python3.7/dist-packages (from requests>=2.0.0->twilio) (3.0.4)\n",
      "Requirement already satisfied: urllib3!=1.25.0,!=1.25.1,<1.26,>=1.21.1 in /usr/local/lib/python3.7/dist-packages (from requests>=2.0.0->twilio) (1.24.3)\n",
      "Requirement already satisfied: idna<3,>=2.5 in /usr/local/lib/python3.7/dist-packages (from requests>=2.0.0->twilio) (2.10)\n",
      "Building wheels for collected packages: twilio\n",
      "  Building wheel for twilio (setup.py) ... \u001b[?25l\u001b[?25hdone\n",
      "  Created wheel for twilio: filename=twilio-7.0.0-py2.py3-none-any.whl size=1296532 sha256=192761ceb742ac8138bda88f7446440869cae2322c9f6339f88be4dfa35cf13c\n",
      "  Stored in directory: /root/.cache/pip/wheels/49/e0/5c/e27aa9f55ed9f6c682752442575a541bc7eba4dd0e58eb36b9\n",
      "Successfully built twilio\n",
      "Installing collected packages: PyJWT, twilio\n",
      "Successfully installed PyJWT-2.1.0 twilio-7.0.0\n"
     ]
    }
   ],
   "source": [
    "import pandas as pd \n",
    "import random \n",
    "!pip install twilio "
   ]
  },
  {
   "cell_type": "markdown",
   "metadata": {
    "id": "oPLVyo4ZE0ok"
   },
   "source": [
    "## Basic Database\n",
    "A predefined database for the cast of the **Big Bang Theory Sitcom.**"
   ]
  },
  {
   "cell_type": "code",
   "execution_count": null,
   "metadata": {
    "colab": {
     "base_uri": "https://localhost:8080/",
     "height": 300
    },
    "id": "Wzn8d_cj9Dv9",
    "outputId": "c9ec4412-250c-4782-c19d-49d2565dfc03"
   },
   "outputs": [
    {
     "data": {
      "text/html": [
       "<div>\n",
       "<style scoped>\n",
       "    .dataframe tbody tr th:only-of-type {\n",
       "        vertical-align: middle;\n",
       "    }\n",
       "\n",
       "    .dataframe tbody tr th {\n",
       "        vertical-align: top;\n",
       "    }\n",
       "\n",
       "    .dataframe thead th {\n",
       "        text-align: right;\n",
       "    }\n",
       "</style>\n",
       "<table border=\"1\" class=\"dataframe\">\n",
       "  <thead>\n",
       "    <tr style=\"text-align: right;\">\n",
       "      <th></th>\n",
       "      <th>Name</th>\n",
       "      <th>Age</th>\n",
       "      <th>Mobile</th>\n",
       "      <th>e-mail</th>\n",
       "      <th>userid</th>\n",
       "      <th>password</th>\n",
       "      <th>debitcard no</th>\n",
       "      <th>PIN</th>\n",
       "    </tr>\n",
       "    <tr>\n",
       "      <th>Account No.</th>\n",
       "      <th></th>\n",
       "      <th></th>\n",
       "      <th></th>\n",
       "      <th></th>\n",
       "      <th></th>\n",
       "      <th></th>\n",
       "      <th></th>\n",
       "      <th></th>\n",
       "    </tr>\n",
       "  </thead>\n",
       "  <tbody>\n",
       "    <tr>\n",
       "      <th>64021595928</th>\n",
       "      <td>Dr. Sheldon Cooper</td>\n",
       "      <td>27</td>\n",
       "      <td>8050200252</td>\n",
       "      <td>shelly@cooper.com</td>\n",
       "      <td>shelly123</td>\n",
       "      <td>$Helly</td>\n",
       "      <td>4988438843884305</td>\n",
       "      <td></td>\n",
       "    </tr>\n",
       "    <tr>\n",
       "      <th>64021595929</th>\n",
       "      <td>Dr. Leonard Hofstadter</td>\n",
       "      <td>26</td>\n",
       "      <td>9342519656</td>\n",
       "      <td>leonard@hofstadter.com</td>\n",
       "      <td>leonard123</td>\n",
       "      <td>peace</td>\n",
       "      <td>4988438843884306</td>\n",
       "      <td></td>\n",
       "    </tr>\n",
       "    <tr>\n",
       "      <th>64021595930</th>\n",
       "      <td>Dr. Raj Koothrapalli</td>\n",
       "      <td>29</td>\n",
       "      <td>9342519657</td>\n",
       "      <td>raj@gmail.com</td>\n",
       "      <td>rajkuth</td>\n",
       "      <td>indian</td>\n",
       "      <td>4988438843884307</td>\n",
       "      <td></td>\n",
       "    </tr>\n",
       "    <tr>\n",
       "      <th>64021595931</th>\n",
       "      <td>Howard Wolowitz</td>\n",
       "      <td>28</td>\n",
       "      <td>9342519658</td>\n",
       "      <td>howard@nasa.com</td>\n",
       "      <td>howard</td>\n",
       "      <td>astronout</td>\n",
       "      <td>4988438843884308</td>\n",
       "      <td></td>\n",
       "    </tr>\n",
       "    <tr>\n",
       "      <th>64021595932</th>\n",
       "      <td>Dr. Bernadette Rostenkowski</td>\n",
       "      <td>25</td>\n",
       "      <td>9342519659</td>\n",
       "      <td>berni@rostin.com</td>\n",
       "      <td>berni123</td>\n",
       "      <td>microbio</td>\n",
       "      <td>4988438843884309</td>\n",
       "      <td></td>\n",
       "    </tr>\n",
       "    <tr>\n",
       "      <th>64021595933</th>\n",
       "      <td>Dr. Amy Farah Fowler</td>\n",
       "      <td>26</td>\n",
       "      <td>9342519660</td>\n",
       "      <td>amy@farah.com</td>\n",
       "      <td>amy</td>\n",
       "      <td>tiara</td>\n",
       "      <td>4988438843884310</td>\n",
       "      <td></td>\n",
       "    </tr>\n",
       "    <tr>\n",
       "      <th>64021595934</th>\n",
       "      <td>Penny Blossom</td>\n",
       "      <td>24</td>\n",
       "      <td>9342519661</td>\n",
       "      <td>penny@blossom.com</td>\n",
       "      <td>penny</td>\n",
       "      <td>p123</td>\n",
       "      <td>4988438843884311</td>\n",
       "      <td></td>\n",
       "    </tr>\n",
       "  </tbody>\n",
       "</table>\n",
       "</div>"
      ],
      "text/plain": [
       "                                    Name  Age  ...      debitcard no PIN\n",
       "Account No.                                    ...                      \n",
       "64021595928           Dr. Sheldon Cooper   27  ...  4988438843884305    \n",
       "64021595929       Dr. Leonard Hofstadter   26  ...  4988438843884306    \n",
       "64021595930         Dr. Raj Koothrapalli   29  ...  4988438843884307    \n",
       "64021595931              Howard Wolowitz   28  ...  4988438843884308    \n",
       "64021595932  Dr. Bernadette Rostenkowski   25  ...  4988438843884309    \n",
       "64021595933         Dr. Amy Farah Fowler   26  ...  4988438843884310    \n",
       "64021595934                Penny Blossom   24  ...  4988438843884311    \n",
       "\n",
       "[7 rows x 8 columns]"
      ]
     },
     "execution_count": 20,
     "metadata": {},
     "output_type": "execute_result"
    }
   ],
   "source": [
    "customers = [[64021595928,\"Dr. Sheldon Cooper\",27,8050200252,\"shelly@cooper.com\",\"shelly123\",\"$Helly\",4988438843884305,''],\n",
    "             [64021595929,\"Dr. Leonard Hofstadter\",26,9342519656,\"leonard@hofstadter.com\",\"leonard123\",\"peace\",4988438843884306,''],\n",
    "             [64021595930,\"Dr. Raj Koothrapalli\",29,9342519657,\"raj@gmail.com\",\"rajkuth\",\"indian\",4988438843884307,''],\n",
    "             [64021595931,\"Howard Wolowitz\",28,9342519658,\"howard@nasa.com\",\"howard\",\"astronout\",4988438843884308,''],\n",
    "             [64021595932,\"Dr. Bernadette Rostenkowski\",25,9342519659,\"berni@rostin.com\",\"berni123\",\"microbio\",4988438843884309,''],\n",
    "             [64021595933,\"Dr. Amy Farah Fowler\",26,9342519660,\"amy@farah.com\",\"amy\",\"tiara\",4988438843884310,''],\n",
    "             [64021595934,\"Penny Blossom\",24,9342519661,\"penny@blossom.com\",\"penny\",\"p123\",4988438843884311,''],\n",
    "            ]\n",
    "sbi_database = pd.DataFrame(customers, columns = ['Account No.','Name','Age','Mobile',\n",
    "                                                  'e-mail','userid','password','debitcard no','PIN'])\n",
    "sbi_database = sbi_database.set_index('Account No.')\n",
    "sbi_database\n"
   ]
  },
  {
   "cell_type": "markdown",
   "metadata": {
    "id": "XT7rhzroE5v_"
   },
   "source": [
    "## Twilio API \n",
    "\n",
    "Twilio's APIs (Application Programming Interfaces) power its platform for communications. Behind these APIs is a software layer connecting and optimizing communications networks around the world to allow your users to call and message anyone, globally. Twilio has a whole host of APIs, from SMS to Voice to Wireless."
   ]
  },
  {
   "cell_type": "code",
   "execution_count": null,
   "metadata": {
    "id": "80jMT7nC9GWA"
   },
   "outputs": [],
   "source": [
    "from twilio.rest import Client\n",
    "#Your new Phone Number is +16465536327\n",
    "# Find your Account SID and Auth Token at twilio.com/console\n",
    "account_sid = 'ACa359aac48762a6ab590d6c8a9dfcc9ab'\n",
    "auth_token = '37346260d74efc6ba8dd8b41ad29e6b1'\n",
    "client = Client(account_sid, auth_token)"
   ]
  },
  {
   "cell_type": "markdown",
   "metadata": {
    "id": "W4WNjIGtE8vi"
   },
   "source": [
    "### Initialization\n",
    "Initilizing the customer account details."
   ]
  },
  {
   "cell_type": "code",
   "execution_count": null,
   "metadata": {
    "colab": {
     "base_uri": "https://localhost:8080/"
    },
    "id": "_hJOmYBwBdgC",
    "outputId": "224afcb3-7a8e-41cb-aae2-ad909cfb836d"
   },
   "outputs": [
    {
     "name": "stdout",
     "output_type": "stream",
     "text": [
      "Enter your account number: 64021595928\n",
      "Greetings Dr. Sheldon Cooper! Welcome to SBI.\n"
     ]
    }
   ],
   "source": [
    "try:\n",
    "  acc_no = int(input(\"Enter your account number: \"))\n",
    "  name = sbi_database.loc[acc_no]['Name']\n",
    "  mobile = sbi_database.loc[acc_no]['Mobile']\n",
    "  card = sbi_database.loc[acc_no]['debitcard no']\n",
    "  userid = sbi_database.loc[acc_no]['userid']\n",
    "  password = sbi_database.loc[acc_no]['password']\n",
    "  print(f\"Greetings {name}! Welcome to SBI.\")\n",
    "except:\n",
    "  print(\"Invalid input! Or Account not found!\") "
   ]
  },
  {
   "cell_type": "markdown",
   "metadata": {
    "id": "Etst4PRSFBCQ"
   },
   "source": [
    "## 1. ATM Service"
   ]
  },
  {
   "cell_type": "code",
   "execution_count": null,
   "metadata": {
    "id": "YHdTXAD39GTO"
   },
   "outputs": [],
   "source": [
    "#ATM Model for PIN Generation through ATM \n",
    "class ATM:\n",
    "  #global otp\n",
    "  def __init__(self):\n",
    "    self.intro = f\"Greetings {name}! Welcome to SBI ATM.\"\n",
    "    self.acc = f\"Account Number: {acc_no}\"\n",
    "    self.card = f\"Debit Card Number: {card}\"\n",
    "\n",
    "  def Pin_change(self):\n",
    "    try:\n",
    "      global otp\n",
    "      choice = input(\"Do you already have an OTP? (yes or no): \")\n",
    "      if choice == 'yes':\n",
    "        global otp\n",
    "        otp_in = int(input(f\"Enter the 6-digit OTP sent to *******{mobile % 1000}: \"))\n",
    "      elif choice == 'no': \n",
    "        global otp\n",
    "        otp = random.randint(100000,999999)\n",
    "        message = client.messages.create(\n",
    "              body=f\"OTP for SBI Debit card PIN generation is {otp}.Do not share it to anyone. State Bank of India\",\n",
    "              from_='+16465536327',\n",
    "              to= '+91'+str(mobile)\n",
    "              )\n",
    "        print(f\"OTP sent succesfully to *******{mobile % 1000}\")\n",
    "        otp_in = int(input(f\"Enter the 6-digit OTP sent to *******{mobile % 1000}: \"))\n",
    "      else:\n",
    "        print(\"Invalid input! Please try again.\")\n",
    "      #global otp\n",
    "      if otp_in == otp:\n",
    "        pin = int(input(\"Enter any 6-digit PIN: \"))\n",
    "        self.pin = str(pin)\n",
    "        if len(self.pin) == 6:\n",
    "          sbi_database.at[acc_no,'PIN'] = self.pin\n",
    "          print(f\"Your PIN is Successfully changed to {self.pin}\")\n",
    "        else:\n",
    "          raise ValueError\n",
    "      else:\n",
    "        raise ValueError\n",
    "    except ValueError:\n",
    "      print(\"Invalid Input!\")\n",
    "  \n",
    "\n",
    "atm = ATM() #object for ATM Class"
   ]
  },
  {
   "cell_type": "markdown",
   "metadata": {
    "id": "4HuGWbMvFLfV"
   },
   "source": [
    "## 2. IVRS Service\n",
    "(Interactive Voice Response Service)"
   ]
  },
  {
   "cell_type": "code",
   "execution_count": null,
   "metadata": {
    "id": "w4rOfGY-9NiO"
   },
   "outputs": [],
   "source": [
    "#Dummy IVRS Phone call method\n",
    "class IVRS:\n",
    "  def __init__(self):\n",
    "    self.account_num = f\"Account Number: {acc_no}\"\n",
    "    self.mobile_num = mobile \n",
    "    self.card_num = f\"Debit Card Number {card}\"\n",
    "\n",
    "  def call(self):\n",
    "    print(\"Calling... 1860 180 1290 \")\n",
    "    try:\n",
    "      global otp\n",
    "      last_acc = input(\"Enter the last 5 digits of your Account Number: \")\n",
    "      if len(last_acc) == 5:\n",
    "        last_acc = int(last_acc)\n",
    "        if last_acc == acc_no % 100000:\n",
    "          last_card = input(\"Enter the last 5 digits of your Debit Card Number: \")\n",
    "          last_card = int(last_card)\n",
    "          if last_card == card % 100000:\n",
    "            print(f\"\"\"\n",
    "            We are glad to have you {name}\"\"\")\n",
    "            print(\"\"\"\n",
    "            An OTP will be sent to your registered mobile number. \n",
    "            Kindly visit our nearest SBI ATM and opt for PIN Change option and\n",
    "            enter the OTP recieved. Please note that the OTP is valid only for \n",
    "            2 hours.\"\"\")\n",
    "            otp = random.randint(100000,999999)\n",
    "            message = client.messages.create(\n",
    "                     body=f\"OTP for SBI Debit card PIN generation is {otp}.Do not share it to anyone. State Bank of India\",\n",
    "                     from_='+16465536327',\n",
    "                     to= '+91'+str(mobile)\n",
    "                      )\n",
    "          else:\n",
    "            print(\"The entered card number is not registered on your Account\")\n",
    "        else:\n",
    "          print(\"This mobile is not linked to entered account number!\")\n",
    "      else:\n",
    "        raise ValueError\n",
    "    except ValueError:\n",
    "      print(\"Invalid Entry! Please try again.\")\n",
    "ivrs = IVRS()"
   ]
  },
  {
   "cell_type": "markdown",
   "metadata": {
    "id": "831LzaflFNz4"
   },
   "source": [
    "## 3. Internet Banking Service"
   ]
  },
  {
   "cell_type": "code",
   "execution_count": null,
   "metadata": {
    "id": "nSsXuzpK9Nft"
   },
   "outputs": [],
   "source": [
    "#fake internet banking portal\n",
    "class Netbanking:\n",
    "  def __init__(self):\n",
    "    self.userid = userid\n",
    "    self.password = password\n",
    "\n",
    "  def login(self):\n",
    "    inp_user = input(\"User ID: \")\n",
    "    inp_pass = input(\"Password: \")\n",
    "    if inp_user == userid:\n",
    "      if inp_pass == password:\n",
    "        print(\"Login Successful!\")\n",
    "        print(f\"Greetings {name}! Welcome to Online SBI\")\n",
    "        global otp\n",
    "        print(\"I see you navigated through eservices > ATM Card Services > ATM PIN Generation\")\n",
    "        print(\"\"\"\n",
    "          An OTP will be sent to your registered mobile number. \n",
    "          Kindly visit our nearest SBI ATM and opt for PIN Change option and\n",
    "          enter the OTP recieved. Please note that the OTP is valid only for \n",
    "          2 hours.\"\"\") \n",
    "        otp = random.randint(100000,999999)\n",
    "        message = client.messages.create(\n",
    "                     body=f\"OTP for SBI Debit card PIN generation is {otp}.Do not share it to anyone. State Bank of India\",\n",
    "                     from_='+16465536327',\n",
    "                     to= '+91'+str(mobile)\n",
    "                )\n",
    "      else:\n",
    "        print(\"Incorrect Password! Please try again.\")\n",
    "    else:\n",
    "      print(\"Incorrect User ID! Please try again.\")\n",
    "netbank = Netbanking() #object for NetBanking class"
   ]
  },
  {
   "cell_type": "markdown",
   "metadata": {
    "id": "PoDJKu4zFQ06"
   },
   "source": [
    "## 4. SMS Service"
   ]
  },
  {
   "cell_type": "code",
   "execution_count": null,
   "metadata": {
    "id": "OdlTnLMC9Nc0"
   },
   "outputs": [],
   "source": [
    "#fake sms portal\n",
    "class SMS:\n",
    "  def __init__(self):\n",
    "    self.account_num = f\"Account Number: {acc_no}\"\n",
    "    self.mobile_num = mobile \n",
    "    self.card_num = f\"Debit Card Number {card}\"\n",
    "    #global otp\n",
    "  \n",
    "  def send_SMS(self):\n",
    "    global otp\n",
    "    instruction = \"\"\"\n",
    "    ----------------------------INSTRUCTIONS------------------------------------\n",
    "    Step 1: From the registered mobile number, send an SMS to 567676 using the \n",
    "    format PIN <XXXX> <YYYY>\n",
    "    Step 2: Here XXXX denotes the last four digits of the SBI ATM card while \n",
    "    YYYY denotes the last four digits of SBI Account Number.\n",
    "    Step 3: Once the SMS is sent, the account holder will receive an OTP \n",
    "    (One Time Password) which the account holder can use within 2 days for \n",
    "    SBI PIN generate process at the nearest SBI ATM.\n",
    "    ----------------------------------------------------------------------------\n",
    "    \\n\"\"\"\n",
    "    print(instruction)\n",
    "    check_list = [f'PIN {str(card % 10000)} {str(acc_no % 10000)}']\n",
    "    msg = []\n",
    "    msg.append(input(\"Enter the message in the specified format: \"))\n",
    "    if check_list == msg:\n",
    "      print(\"PIN Generation request successfully registered.\")\n",
    "      print(\"\"\"\n",
    "      An OTP will be sent to your registered mobile number. \n",
    "      Kindly visit our nearest SBI ATM and opt for PIN Change option and\n",
    "      enter the OTP recieved. Please note that the OTP is valid only for \n",
    "      2 hours.\"\"\")\n",
    "      otp = random.randint(100000,999999)\n",
    "      message = client.messages.create(\n",
    "                     body=f\"OTP for SBI Debit card PIN generation is {otp}.Do not share it to anyone. State Bank of India\",\n",
    "                     from_='+16465536327',\n",
    "                     to= '+91'+str(mobile)\n",
    "                )\n",
    "    else:\n",
    "      print(\"\"\"\n",
    "      The current mobile number is not registered to the account \n",
    "      specified. Please try again or enter the correct details.\"\"\")\n",
    "\n",
    "sms = SMS() #object for SMS class"
   ]
  },
  {
   "cell_type": "markdown",
   "metadata": {
    "id": "_MkBrc7WFS9D"
   },
   "source": [
    "## Main method"
   ]
  },
  {
   "cell_type": "code",
   "execution_count": null,
   "metadata": {
    "colab": {
     "base_uri": "https://localhost:8080/"
    },
    "id": "ZVSxt4rc9GQl",
    "outputId": "ebdf5c37-e6b1-4012-d2e6-5bea362ec15c"
   },
   "outputs": [
    {
     "name": "stdout",
     "output_type": "stream",
     "text": [
      "\n",
      "-------------------------WELCOME TO STATE BANK OF INDIA-------------------------\n",
      "\n",
      "State Bank of India (SBI) is an Indian multinational public sector bank and \n",
      "financial services statutory body headquartered in Mumbai, Maharashtra. SBI is \n",
      "the 43rd largest bank in the world and ranked 221st in the Fortune Global 500 \n",
      "list of the world's biggest corporations of 2020, being the only Indian bank on \n",
      "the list.[6] It is a public sector bank and the largest bank in India with a 23%\n",
      "market share by assets and a 25% share of the total loan and deposits market.\n",
      "It is also the fifth largest employer in India with nearly 250,000 employees.\n",
      "\n",
      "\n",
      "\n",
      "  ------------------------------PIN GENERATION----------------------------------\n",
      "  How would you like to generate a new PIN for your Debit Card?\n",
      "  1. Using SBI ATM\n",
      "  2. Through Internet Banking\n",
      "  3. Through SMS\n",
      "  4. Through IVRS\n",
      "  \n",
      "Enter your choice: 4\n",
      "Calling... 1860 180 1290 \n",
      "Enter the last 5 digits of your Account Number: 95928\n",
      "Enter the last 5 digits of your Debit Card Number: 84305\n",
      "\n",
      "            We are glad to have you Dr. Sheldon Cooper\n",
      "\n",
      "            An OTP will be sent to your registered mobile number. \n",
      "            Kindly visit our nearest SBI ATM and opt for PIN Change option and\n",
      "            enter the OTP recieved. Please note that the OTP is valid only for \n",
      "            2 hours.\n"
     ]
    }
   ],
   "source": [
    "print(\"\"\"\n",
    "-------------------------WELCOME TO STATE BANK OF INDIA-------------------------\n",
    "\n",
    "State Bank of India (SBI) is an Indian multinational public sector bank and \n",
    "financial services statutory body headquartered in Mumbai, Maharashtra. SBI is \n",
    "the 43rd largest bank in the world and ranked 221st in the Fortune Global 500 \n",
    "list of the world's biggest corporations of 2020, being the only Indian bank on \n",
    "the list.[6] It is a public sector bank and the largest bank in India with a 23%\n",
    "market share by assets and a 25% share of the total loan and deposits market.\n",
    "It is also the fifth largest employer in India with nearly 250,000 employees.\n",
    "\n",
    "\"\"\")\n",
    "try:\n",
    "  global otp\n",
    "  print(\"\"\"\n",
    "  ------------------------------PIN GENERATION----------------------------------\n",
    "  How would you like to generate a new PIN for your Debit Card?\n",
    "  1. Using SBI ATM\n",
    "  2. Through Internet Banking\n",
    "  3. Through SMS\n",
    "  4. Through IVRS\n",
    "  \"\"\")\n",
    "  choice = int(input(\"Enter your choice: \"))\n",
    "  if choice == 1:\n",
    "    atm.Pin_change()\n",
    "  elif choice == 2:\n",
    "    netbank.login()\n",
    "  elif choice == 3:\n",
    "    sms.send_SMS()\n",
    "  elif choice == 4:\n",
    "    ivrs.call() \n",
    "  else:\n",
    "    raise ValueError\n",
    "except ValueError:\n",
    "  print(\"Invalid Input! Try again\")"
   ]
  },
  {
   "cell_type": "markdown",
   "metadata": {
    "id": "ZkkWK0FtFW6-"
   },
   "source": [
    "## Updated Database"
   ]
  },
  {
   "cell_type": "code",
   "execution_count": null,
   "metadata": {
    "colab": {
     "base_uri": "https://localhost:8080/",
     "height": 300
    },
    "id": "pqtiwYLA9GNt",
    "outputId": "687e3421-fc35-4b42-e224-52825205f6c3"
   },
   "outputs": [
    {
     "data": {
      "text/html": [
       "<div>\n",
       "<style scoped>\n",
       "    .dataframe tbody tr th:only-of-type {\n",
       "        vertical-align: middle;\n",
       "    }\n",
       "\n",
       "    .dataframe tbody tr th {\n",
       "        vertical-align: top;\n",
       "    }\n",
       "\n",
       "    .dataframe thead th {\n",
       "        text-align: right;\n",
       "    }\n",
       "</style>\n",
       "<table border=\"1\" class=\"dataframe\">\n",
       "  <thead>\n",
       "    <tr style=\"text-align: right;\">\n",
       "      <th></th>\n",
       "      <th>Name</th>\n",
       "      <th>Age</th>\n",
       "      <th>Mobile</th>\n",
       "      <th>e-mail</th>\n",
       "      <th>userid</th>\n",
       "      <th>password</th>\n",
       "      <th>debitcard no</th>\n",
       "      <th>PIN</th>\n",
       "    </tr>\n",
       "    <tr>\n",
       "      <th>Account No.</th>\n",
       "      <th></th>\n",
       "      <th></th>\n",
       "      <th></th>\n",
       "      <th></th>\n",
       "      <th></th>\n",
       "      <th></th>\n",
       "      <th></th>\n",
       "      <th></th>\n",
       "    </tr>\n",
       "  </thead>\n",
       "  <tbody>\n",
       "    <tr>\n",
       "      <th>64021595928</th>\n",
       "      <td>Dr. Sheldon Cooper</td>\n",
       "      <td>27</td>\n",
       "      <td>8050200252</td>\n",
       "      <td>shelly@cooper.com</td>\n",
       "      <td>shelly123</td>\n",
       "      <td>$Helly</td>\n",
       "      <td>4988438843884305</td>\n",
       "      <td>123456</td>\n",
       "    </tr>\n",
       "    <tr>\n",
       "      <th>64021595929</th>\n",
       "      <td>Dr. Leonard Hofstadter</td>\n",
       "      <td>26</td>\n",
       "      <td>9342519656</td>\n",
       "      <td>leonard@hofstadter.com</td>\n",
       "      <td>leonard123</td>\n",
       "      <td>peace</td>\n",
       "      <td>4988438843884306</td>\n",
       "      <td></td>\n",
       "    </tr>\n",
       "    <tr>\n",
       "      <th>64021595930</th>\n",
       "      <td>Dr. Raj Koothrapalli</td>\n",
       "      <td>29</td>\n",
       "      <td>9342519657</td>\n",
       "      <td>raj@gmail.com</td>\n",
       "      <td>rajkuth</td>\n",
       "      <td>indian</td>\n",
       "      <td>4988438843884307</td>\n",
       "      <td></td>\n",
       "    </tr>\n",
       "    <tr>\n",
       "      <th>64021595931</th>\n",
       "      <td>Howard Wolowitz</td>\n",
       "      <td>28</td>\n",
       "      <td>9342519658</td>\n",
       "      <td>howard@nasa.com</td>\n",
       "      <td>howard</td>\n",
       "      <td>astronout</td>\n",
       "      <td>4988438843884308</td>\n",
       "      <td></td>\n",
       "    </tr>\n",
       "    <tr>\n",
       "      <th>64021595932</th>\n",
       "      <td>Dr. Bernadette Rostenkowski</td>\n",
       "      <td>25</td>\n",
       "      <td>9342519659</td>\n",
       "      <td>berni@rostin.com</td>\n",
       "      <td>berni123</td>\n",
       "      <td>microbio</td>\n",
       "      <td>4988438843884309</td>\n",
       "      <td></td>\n",
       "    </tr>\n",
       "    <tr>\n",
       "      <th>64021595933</th>\n",
       "      <td>Dr. Amy Farah Fowler</td>\n",
       "      <td>26</td>\n",
       "      <td>9342519660</td>\n",
       "      <td>amy@farah.com</td>\n",
       "      <td>amy</td>\n",
       "      <td>tiara</td>\n",
       "      <td>4988438843884310</td>\n",
       "      <td></td>\n",
       "    </tr>\n",
       "    <tr>\n",
       "      <th>64021595934</th>\n",
       "      <td>Penny Blossom</td>\n",
       "      <td>24</td>\n",
       "      <td>9342519661</td>\n",
       "      <td>penny@blossom.com</td>\n",
       "      <td>penny</td>\n",
       "      <td>p123</td>\n",
       "      <td>4988438843884311</td>\n",
       "      <td></td>\n",
       "    </tr>\n",
       "  </tbody>\n",
       "</table>\n",
       "</div>"
      ],
      "text/plain": [
       "                                    Name  Age  ...      debitcard no     PIN\n",
       "Account No.                                    ...                          \n",
       "64021595928           Dr. Sheldon Cooper   27  ...  4988438843884305  123456\n",
       "64021595929       Dr. Leonard Hofstadter   26  ...  4988438843884306        \n",
       "64021595930         Dr. Raj Koothrapalli   29  ...  4988438843884307        \n",
       "64021595931              Howard Wolowitz   28  ...  4988438843884308        \n",
       "64021595932  Dr. Bernadette Rostenkowski   25  ...  4988438843884309        \n",
       "64021595933         Dr. Amy Farah Fowler   26  ...  4988438843884310        \n",
       "64021595934                Penny Blossom   24  ...  4988438843884311        \n",
       "\n",
       "[7 rows x 8 columns]"
      ]
     },
     "execution_count": 31,
     "metadata": {},
     "output_type": "execute_result"
    }
   ],
   "source": [
    "sbi_database"
   ]
  },
  {
   "cell_type": "markdown",
   "metadata": {
    "id": "rtndtlxiFdBx"
   },
   "source": [
    "## Validation"
   ]
  },
  {
   "cell_type": "code",
   "execution_count": null,
   "metadata": {
    "colab": {
     "base_uri": "https://localhost:8080/"
    },
    "id": "wVPDjv4vAEhp",
    "outputId": "8c3966ef-6c11-48c7-a4dd-6ac3ee4ae2a9"
   },
   "outputs": [
    {
     "name": "stdout",
     "output_type": "stream",
     "text": [
      "Enter your account number: 640215959112\n",
      "Invalid input! Or Account not found!\n"
     ]
    }
   ],
   "source": [
    "try:\n",
    "  acc_no = int(input(\"Enter your account number: \"))\n",
    "  name = sbi_database.loc[acc_no]['Name']\n",
    "  mobile = sbi_database.loc[acc_no]['Mobile']\n",
    "  card = sbi_database.loc[acc_no]['debitcard no']\n",
    "  userid = sbi_database.loc[acc_no]['userid']\n",
    "  password = sbi_database.loc[acc_no]['password']\n",
    "  print(f\"Greetings {name}! Welcome to SBI.\")\n",
    "except:\n",
    "  print(\"Invalid input! Or Account not found!\")"
   ]
  },
  {
   "cell_type": "code",
   "execution_count": null,
   "metadata": {
    "colab": {
     "base_uri": "https://localhost:8080/"
    },
    "id": "aH-jg9eA9GKH",
    "outputId": "6ee6de14-a357-4aab-ba43-096ed19c1c8a"
   },
   "outputs": [
    {
     "name": "stdout",
     "output_type": "stream",
     "text": [
      "\n",
      "-------------------------WELCOME TO STATE BANK OF INDIA-------------------------\n",
      "\n",
      "State Bank of India (SBI) is an Indian multinational public sector bank and \n",
      "financial services statutory body headquartered in Mumbai, Maharashtra. SBI is \n",
      "the 43rd largest bank in the world and ranked 221st in the Fortune Global 500 \n",
      "list of the world's biggest corporations of 2020, being the only Indian bank on \n",
      "the list.[6] It is a public sector bank and the largest bank in India with a 23%\n",
      "market share by assets and a 25% share of the total loan and deposits market.\n",
      "It is also the fifth largest employer in India with nearly 250,000 employees.\n",
      "\n",
      "\n",
      "\n",
      "  ------------------------------PIN GENERATION----------------------------------\n",
      "  How would you like to generate a new PIN for your Debit Card?\n",
      "  1. Using SBI ATM\n",
      "  2. Through Internet Banking\n",
      "  3. Through SMS\n",
      "  4. Through IVRS\n",
      "  \n",
      "Enter your choice: 6\n",
      "Invalid Input! Try again\n"
     ]
    }
   ],
   "source": [
    "print(\"\"\"\n",
    "-------------------------WELCOME TO STATE BANK OF INDIA-------------------------\n",
    "\n",
    "State Bank of India (SBI) is an Indian multinational public sector bank and \n",
    "financial services statutory body headquartered in Mumbai, Maharashtra. SBI is \n",
    "the 43rd largest bank in the world and ranked 221st in the Fortune Global 500 \n",
    "list of the world's biggest corporations of 2020, being the only Indian bank on \n",
    "the list.[6] It is a public sector bank and the largest bank in India with a 23%\n",
    "market share by assets and a 25% share of the total loan and deposits market.\n",
    "It is also the fifth largest employer in India with nearly 250,000 employees.\n",
    "\n",
    "\"\"\")\n",
    "try:\n",
    "  global otp\n",
    "  print(\"\"\"\n",
    "  ------------------------------PIN GENERATION----------------------------------\n",
    "  How would you like to generate a new PIN for your Debit Card?\n",
    "  1. Using SBI ATM\n",
    "  2. Through Internet Banking\n",
    "  3. Through SMS\n",
    "  4. Through IVRS\n",
    "  \"\"\")\n",
    "  choice = int(input(\"Enter your choice: \"))\n",
    "  if choice == 1:\n",
    "    atm.Pin_change()\n",
    "  elif choice == 2:\n",
    "    netbank.login()\n",
    "  elif choice == 3:\n",
    "    sms.send_SMS()\n",
    "  elif choice == 4:\n",
    "    ivrs.call() \n",
    "  else:\n",
    "    raise ValueError\n",
    "except ValueError:\n",
    "  print(\"Invalid Input! Try again\")"
   ]
  },
  {
   "cell_type": "code",
   "execution_count": null,
   "metadata": {
    "colab": {
     "base_uri": "https://localhost:8080/",
     "height": 755
    },
    "id": "TInsftliFrcP",
    "outputId": "903754d6-6753-41b1-a4af-50d6a55380a7"
   },
   "outputs": [
    {
     "name": "stdout",
     "output_type": "stream",
     "text": [
      "\n",
      "-------------------------WELCOME TO STATE BANK OF INDIA-------------------------\n",
      "\n",
      "State Bank of India (SBI) is an Indian multinational public sector bank and \n",
      "financial services statutory body headquartered in Mumbai, Maharashtra. SBI is \n",
      "the 43rd largest bank in the world and ranked 221st in the Fortune Global 500 \n",
      "list of the world's biggest corporations of 2020, being the only Indian bank on \n",
      "the list.[6] It is a public sector bank and the largest bank in India with a 23%\n",
      "market share by assets and a 25% share of the total loan and deposits market.\n",
      "It is also the fifth largest employer in India with nearly 250,000 employees.\n",
      "\n",
      "\n",
      "\n",
      "  ------------------------------PIN GENERATION----------------------------------\n",
      "  How would you like to generate a new PIN for your Debit Card?\n",
      "  1. Using SBI ATM\n",
      "  2. Through Internet Banking\n",
      "  3. Through SMS\n",
      "  4. Through IVRS\n",
      "  \n",
      "Enter your choice: 1\n",
      "Do you already have an OTP? (yes or no): cajshc\n",
      "Invalid input! Please try again.\n"
     ]
    },
    {
     "ename": "UnboundLocalError",
     "evalue": "ignored",
     "output_type": "error",
     "traceback": [
      "\u001b[0;31m---------------------------------------------------------------------------\u001b[0m",
      "\u001b[0;31mUnboundLocalError\u001b[0m                         Traceback (most recent call last)",
      "\u001b[0;32m<ipython-input-26-e7373c94ec57>\u001b[0m in \u001b[0;36m<module>\u001b[0;34m()\u001b[0m\n\u001b[1;32m     23\u001b[0m   \u001b[0mchoice\u001b[0m \u001b[0;34m=\u001b[0m \u001b[0mint\u001b[0m\u001b[0;34m(\u001b[0m\u001b[0minput\u001b[0m\u001b[0;34m(\u001b[0m\u001b[0;34m\"Enter your choice: \"\u001b[0m\u001b[0;34m)\u001b[0m\u001b[0;34m)\u001b[0m\u001b[0;34m\u001b[0m\u001b[0;34m\u001b[0m\u001b[0m\n\u001b[1;32m     24\u001b[0m   \u001b[0;32mif\u001b[0m \u001b[0mchoice\u001b[0m \u001b[0;34m==\u001b[0m \u001b[0;36m1\u001b[0m\u001b[0;34m:\u001b[0m\u001b[0;34m\u001b[0m\u001b[0;34m\u001b[0m\u001b[0m\n\u001b[0;32m---> 25\u001b[0;31m     \u001b[0matm\u001b[0m\u001b[0;34m.\u001b[0m\u001b[0mPin_change\u001b[0m\u001b[0;34m(\u001b[0m\u001b[0;34m)\u001b[0m\u001b[0;34m\u001b[0m\u001b[0;34m\u001b[0m\u001b[0m\n\u001b[0m\u001b[1;32m     26\u001b[0m   \u001b[0;32melif\u001b[0m \u001b[0mchoice\u001b[0m \u001b[0;34m==\u001b[0m \u001b[0;36m2\u001b[0m\u001b[0;34m:\u001b[0m\u001b[0;34m\u001b[0m\u001b[0;34m\u001b[0m\u001b[0m\n\u001b[1;32m     27\u001b[0m     \u001b[0mnetbank\u001b[0m\u001b[0;34m.\u001b[0m\u001b[0mlogin\u001b[0m\u001b[0;34m(\u001b[0m\u001b[0;34m)\u001b[0m\u001b[0;34m\u001b[0m\u001b[0;34m\u001b[0m\u001b[0m\n",
      "\u001b[0;32m<ipython-input-15-5d6fdbb7b8f5>\u001b[0m in \u001b[0;36mPin_change\u001b[0;34m(self)\u001b[0m\n\u001b[1;32m     27\u001b[0m         \u001b[0mprint\u001b[0m\u001b[0;34m(\u001b[0m\u001b[0;34m\"Invalid input! Please try again.\"\u001b[0m\u001b[0;34m)\u001b[0m\u001b[0;34m\u001b[0m\u001b[0;34m\u001b[0m\u001b[0m\n\u001b[1;32m     28\u001b[0m       \u001b[0;31m#global otp\u001b[0m\u001b[0;34m\u001b[0m\u001b[0;34m\u001b[0m\u001b[0;34m\u001b[0m\u001b[0m\n\u001b[0;32m---> 29\u001b[0;31m       \u001b[0;32mif\u001b[0m \u001b[0motp_in\u001b[0m \u001b[0;34m==\u001b[0m \u001b[0motp\u001b[0m\u001b[0;34m:\u001b[0m\u001b[0;34m\u001b[0m\u001b[0;34m\u001b[0m\u001b[0m\n\u001b[0m\u001b[1;32m     30\u001b[0m         \u001b[0mpin\u001b[0m \u001b[0;34m=\u001b[0m \u001b[0mint\u001b[0m\u001b[0;34m(\u001b[0m\u001b[0minput\u001b[0m\u001b[0;34m(\u001b[0m\u001b[0;34m\"Enter any 6-digit PIN: \"\u001b[0m\u001b[0;34m)\u001b[0m\u001b[0;34m)\u001b[0m\u001b[0;34m\u001b[0m\u001b[0;34m\u001b[0m\u001b[0m\n\u001b[1;32m     31\u001b[0m         \u001b[0mself\u001b[0m\u001b[0;34m.\u001b[0m\u001b[0mpin\u001b[0m \u001b[0;34m=\u001b[0m \u001b[0mstr\u001b[0m\u001b[0;34m(\u001b[0m\u001b[0mpin\u001b[0m\u001b[0;34m)\u001b[0m\u001b[0;34m\u001b[0m\u001b[0;34m\u001b[0m\u001b[0m\n",
      "\u001b[0;31mUnboundLocalError\u001b[0m: local variable 'otp_in' referenced before assignment"
     ]
    }
   ],
   "source": [
    "print(\"\"\"\n",
    "-------------------------WELCOME TO STATE BANK OF INDIA-------------------------\n",
    "\n",
    "State Bank of India (SBI) is an Indian multinational public sector bank and \n",
    "financial services statutory body headquartered in Mumbai, Maharashtra. SBI is \n",
    "the 43rd largest bank in the world and ranked 221st in the Fortune Global 500 \n",
    "list of the world's biggest corporations of 2020, being the only Indian bank on \n",
    "the list.[6] It is a public sector bank and the largest bank in India with a 23%\n",
    "market share by assets and a 25% share of the total loan and deposits market.\n",
    "It is also the fifth largest employer in India with nearly 250,000 employees.\n",
    "\n",
    "\"\"\")\n",
    "try:\n",
    "  global otp\n",
    "  print(\"\"\"\n",
    "  ------------------------------PIN GENERATION----------------------------------\n",
    "  How would you like to generate a new PIN for your Debit Card?\n",
    "  1. Using SBI ATM\n",
    "  2. Through Internet Banking\n",
    "  3. Through SMS\n",
    "  4. Through IVRS\n",
    "  \"\"\")\n",
    "  choice = int(input(\"Enter your choice: \"))\n",
    "  if choice == 1:\n",
    "    atm.Pin_change()\n",
    "  elif choice == 2:\n",
    "    netbank.login()\n",
    "  elif choice == 3:\n",
    "    sms.send_SMS()\n",
    "  elif choice == 4:\n",
    "    ivrs.call() \n",
    "  else:\n",
    "    raise ValueError\n",
    "except ValueError:\n",
    "  print(\"Invalid Input! Try again\")"
   ]
  },
  {
   "cell_type": "code",
   "execution_count": null,
   "metadata": {
    "colab": {
     "base_uri": "https://localhost:8080/"
    },
    "id": "Zc5MThUlFv0H",
    "outputId": "a650956f-cd4c-4129-cf42-9c151b1022b7"
   },
   "outputs": [
    {
     "name": "stdout",
     "output_type": "stream",
     "text": [
      "\n",
      "-------------------------WELCOME TO STATE BANK OF INDIA-------------------------\n",
      "\n",
      "State Bank of India (SBI) is an Indian multinational public sector bank and \n",
      "financial services statutory body headquartered in Mumbai, Maharashtra. SBI is \n",
      "the 43rd largest bank in the world and ranked 221st in the Fortune Global 500 \n",
      "list of the world's biggest corporations of 2020, being the only Indian bank on \n",
      "the list.[6] It is a public sector bank and the largest bank in India with a 23%\n",
      "market share by assets and a 25% share of the total loan and deposits market.\n",
      "It is also the fifth largest employer in India with nearly 250,000 employees.\n",
      "\n",
      "\n",
      "\n",
      "  ------------------------------PIN GENERATION----------------------------------\n",
      "  How would you like to generate a new PIN for your Debit Card?\n",
      "  1. Using SBI ATM\n",
      "  2. Through Internet Banking\n",
      "  3. Through SMS\n",
      "  4. Through IVRS\n",
      "  \n",
      "Enter your choice: 2\n",
      "User ID: shelly123\n",
      "Password: acjshguy\n",
      "Incorrect Password! Please try again.\n"
     ]
    }
   ],
   "source": [
    "print(\"\"\"\n",
    "-------------------------WELCOME TO STATE BANK OF INDIA-------------------------\n",
    "\n",
    "State Bank of India (SBI) is an Indian multinational public sector bank and \n",
    "financial services statutory body headquartered in Mumbai, Maharashtra. SBI is \n",
    "the 43rd largest bank in the world and ranked 221st in the Fortune Global 500 \n",
    "list of the world's biggest corporations of 2020, being the only Indian bank on \n",
    "the list.[6] It is a public sector bank and the largest bank in India with a 23%\n",
    "market share by assets and a 25% share of the total loan and deposits market.\n",
    "It is also the fifth largest employer in India with nearly 250,000 employees.\n",
    "\n",
    "\"\"\")\n",
    "try:\n",
    "  global otp\n",
    "  print(\"\"\"\n",
    "  ------------------------------PIN GENERATION----------------------------------\n",
    "  How would you like to generate a new PIN for your Debit Card?\n",
    "  1. Using SBI ATM\n",
    "  2. Through Internet Banking\n",
    "  3. Through SMS\n",
    "  4. Through IVRS\n",
    "  \"\"\")\n",
    "  choice = int(input(\"Enter your choice: \"))\n",
    "  if choice == 1:\n",
    "    atm.Pin_change()\n",
    "  elif choice == 2:\n",
    "    netbank.login()\n",
    "  elif choice == 3:\n",
    "    sms.send_SMS()\n",
    "  elif choice == 4:\n",
    "    ivrs.call() \n",
    "  else:\n",
    "    raise ValueError\n",
    "except ValueError:\n",
    "  print(\"Invalid Input! Try again\")"
   ]
  },
  {
   "cell_type": "code",
   "execution_count": null,
   "metadata": {
    "colab": {
     "base_uri": "https://localhost:8080/"
    },
    "id": "Qoyq_xjKF0Qg",
    "outputId": "98baef2f-e4bb-4c3b-df78-3993d71da15d"
   },
   "outputs": [
    {
     "name": "stdout",
     "output_type": "stream",
     "text": [
      "\n",
      "-------------------------WELCOME TO STATE BANK OF INDIA-------------------------\n",
      "\n",
      "State Bank of India (SBI) is an Indian multinational public sector bank and \n",
      "financial services statutory body headquartered in Mumbai, Maharashtra. SBI is \n",
      "the 43rd largest bank in the world and ranked 221st in the Fortune Global 500 \n",
      "list of the world's biggest corporations of 2020, being the only Indian bank on \n",
      "the list.[6] It is a public sector bank and the largest bank in India with a 23%\n",
      "market share by assets and a 25% share of the total loan and deposits market.\n",
      "It is also the fifth largest employer in India with nearly 250,000 employees.\n",
      "\n",
      "\n",
      "\n",
      "  ------------------------------PIN GENERATION----------------------------------\n",
      "  How would you like to generate a new PIN for your Debit Card?\n",
      "  1. Using SBI ATM\n",
      "  2. Through Internet Banking\n",
      "  3. Through SMS\n",
      "  4. Through IVRS\n",
      "  \n",
      "Enter your choice: 3\n",
      "\n",
      "    ----------------------------INSTRUCTIONS------------------------------------\n",
      "    Step 1: From the registered mobile number, send an SMS to 567676 using the \n",
      "    format PIN <XXXX> <YYYY>\n",
      "    Step 2: Here XXXX denotes the last four digits of the SBI ATM card while \n",
      "    YYYY denotes the last four digits of SBI Account Number.\n",
      "    Step 3: Once the SMS is sent, the account holder will receive an OTP \n",
      "    (One Time Password) which the account holder can use within 2 days for \n",
      "    SBI PIN generate process at the nearest SBI ATM.\n",
      "    ----------------------------------------------------------------------------\n",
      "    \n",
      "\n",
      "Enter the message in the specified format: PIN 5217 7dash\n",
      "\n",
      "      The current mobile number is not registered to the account \n",
      "      specified. Please try again or enter the correct details.\n"
     ]
    }
   ],
   "source": [
    "print(\"\"\"\n",
    "-------------------------WELCOME TO STATE BANK OF INDIA-------------------------\n",
    "\n",
    "State Bank of India (SBI) is an Indian multinational public sector bank and \n",
    "financial services statutory body headquartered in Mumbai, Maharashtra. SBI is \n",
    "the 43rd largest bank in the world and ranked 221st in the Fortune Global 500 \n",
    "list of the world's biggest corporations of 2020, being the only Indian bank on \n",
    "the list.[6] It is a public sector bank and the largest bank in India with a 23%\n",
    "market share by assets and a 25% share of the total loan and deposits market.\n",
    "It is also the fifth largest employer in India with nearly 250,000 employees.\n",
    "\n",
    "\"\"\")\n",
    "try:\n",
    "  global otp\n",
    "  print(\"\"\"\n",
    "  ------------------------------PIN GENERATION----------------------------------\n",
    "  How would you like to generate a new PIN for your Debit Card?\n",
    "  1. Using SBI ATM\n",
    "  2. Through Internet Banking\n",
    "  3. Through SMS\n",
    "  4. Through IVRS\n",
    "  \"\"\")\n",
    "  choice = int(input(\"Enter your choice: \"))\n",
    "  if choice == 1:\n",
    "    atm.Pin_change()\n",
    "  elif choice == 2:\n",
    "    netbank.login()\n",
    "  elif choice == 3:\n",
    "    sms.send_SMS()\n",
    "  elif choice == 4:\n",
    "    ivrs.call() \n",
    "  else:\n",
    "    raise ValueError\n",
    "except ValueError:\n",
    "  print(\"Invalid Input! Try again\")"
   ]
  },
  {
   "cell_type": "markdown",
   "metadata": {
    "id": "dJAA_eb5BLZ7"
   },
   "source": [
    "## OTP Validation\n",
    "OTP can be sent to any mobile and get it validated in the program."
   ]
  },
  {
   "cell_type": "code",
   "execution_count": null,
   "metadata": {
    "id": "AgxMXxAjBAZt"
   },
   "outputs": [],
   "source": [
    "otp = random.randint(100000,999999)\n",
    "message = client.messages.create(\n",
    "          body=f\"OTP for SBI Debit card PIN generation is {otp}.Do not share it to anyone. State Bank of India\",\n",
    "          from_='+16465536327',\n",
    "          to= '+91'+str(mobile) #change the to address with any Phone number \n",
    "          )"
   ]
  }
 ],
 "metadata": {
  "colab": {
   "collapsed_sections": [],
   "name": "P4_2148023.ipynb",
   "provenance": []
  },
  "kernelspec": {
   "display_name": "Python 3",
   "language": "python",
   "name": "python3"
  },
  "language_info": {
   "codemirror_mode": {
    "name": "ipython",
    "version": 3
   },
   "file_extension": ".py",
   "mimetype": "text/x-python",
   "name": "python",
   "nbconvert_exporter": "python",
   "pygments_lexer": "ipython3",
   "version": "3.8.8"
  }
 },
 "nbformat": 4,
 "nbformat_minor": 1
}
