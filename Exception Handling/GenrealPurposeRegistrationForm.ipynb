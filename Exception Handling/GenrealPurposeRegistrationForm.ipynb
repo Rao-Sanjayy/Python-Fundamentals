{
 "cells": [
  {
   "cell_type": "markdown",
   "metadata": {
    "id": "mJrOtlMkxPQF"
   },
   "source": [
    "# A general pupose Registration Form to show exception handling\n",
    "*   Author: Sanjay S Rao\n",
    "*   LinkedIn: https://www.linkedin.com/in/sanjay-srinivasa-rao-b67a771a0/"
   ]
  },
  {
   "cell_type": "code",
   "execution_count": 1,
   "metadata": {
    "colab": {
     "base_uri": "https://localhost:8080/"
    },
    "id": "L6-hW5z2xy0_",
    "outputId": "5335b40a-b82d-401f-bae1-ecc03451437c"
   },
   "outputs": [
    {
     "name": "stdout",
     "output_type": "stream",
     "text": [
      "Please fill out the following with correct details.\n",
      "Enter your name: Sanjay\n",
      "The name entered is :  Sanjay\n"
     ]
    }
   ],
   "source": [
    "print(\"Please fill out the following with correct details.\")\n",
    "name = input(\"Enter your name: \")\n",
    "check = name.isalpha()\n",
    "if check == True:\n",
    " print(\"The name entered is : \",name)\n",
    "else:\n",
    "  print(\"Please enter a valid name\")\n",
    "  name = ''"
   ]
  },
  {
   "cell_type": "code",
   "execution_count": 2,
   "metadata": {
    "colab": {
     "base_uri": "https://localhost:8080/"
    },
    "id": "yhsCU4lUsXAo",
    "outputId": "d19bac14-26f3-45b7-dba7-cb5fd32d4ac2"
   },
   "outputs": [
    {
     "name": "stdout",
     "output_type": "stream",
     "text": [
      "Enter your age: 43\n",
      "The age entered is:  43\n"
     ]
    }
   ],
   "source": [
    "try:\n",
    "  age = int(input(\"Enter your age: \"))\n",
    "  if age not in range(18,100):\n",
    "    raise ValueError(age)\n",
    "  else:\n",
    "    print(\"The age entered is: \",age)\n",
    "except ValueError:\n",
    "  print(f\"{age} is out of the range\")\n",
    "  print(\"Please enter a valid age between 18 and 100\")\n",
    "  age = ''"
   ]
  },
  {
   "cell_type": "code",
   "execution_count": 3,
   "metadata": {
    "colab": {
     "base_uri": "https://localhost:8080/"
    },
    "id": "FvzEv7v4KtjE",
    "outputId": "2222fe26-0fbc-464f-9658-333c2e45834d"
   },
   "outputs": [
    {
     "name": "stdout",
     "output_type": "stream",
     "text": [
      "Enter your Gender:\n",
      "1-Male 2-Female 3-Others : 1\n"
     ]
    }
   ],
   "source": [
    "try:\n",
    "  print(\"Enter your Gender:\")\n",
    "  choice = int(input(\"1-Male 2-Female 3-Others : \"))\n",
    "  if choice == 1:\n",
    "    gender = 'Male'\n",
    "  elif choice == 2:\n",
    "    gender = 'Female'\n",
    "  elif choice == 3:\n",
    "    gender = 'Others'\n",
    "  else:\n",
    "    raise ValueError\n",
    "except ValueError:\n",
    "  print(\"Invalid Input! Try again.\")\n",
    "  gender = ''"
   ]
  },
  {
   "cell_type": "code",
   "execution_count": 4,
   "metadata": {
    "colab": {
     "base_uri": "https://localhost:8080/"
    },
    "id": "VHrTKTycG3ES",
    "outputId": "850822d5-e051-405c-e3d7-fc840f10a42c"
   },
   "outputs": [
    {
     "name": "stdout",
     "output_type": "stream",
     "text": [
      "Enter your mobile number: 9988778877\n",
      "The mobile number entered is:  9988778877\n"
     ]
    }
   ],
   "source": [
    "phnno = input(\"Enter your mobile number: \")\n",
    "check = phnno.isalpha()\n",
    "if check == False:\n",
    "  try: \n",
    "    if len(phnno) != 10:\n",
    "      raise ValueError(phnno)\n",
    "  except ValueError:\n",
    "    print(f\"The entered mobile number {phnno} is not valid!\")\n",
    "    print(\"Please enter a valid mobile number\")\n",
    "    phnno = ''\n",
    "  else:\n",
    "    print(\"The mobile number entered is: \",phnno)\n",
    "else:\n",
    "  print(\"Only integers are allowed!\")\n",
    "  phnno = ''"
   ]
  },
  {
   "cell_type": "code",
   "execution_count": 5,
   "metadata": {
    "colab": {
     "base_uri": "https://localhost:8080/"
    },
    "id": "nbZIbYqtG9Rb",
    "outputId": "29b3940c-4d5f-4e8a-a249-3b46842d89a2"
   },
   "outputs": [
    {
     "name": "stdout",
     "output_type": "stream",
     "text": [
      "Enter your Aadhaar number: 782266112221\n",
      "The Aadhar number entered is:  782266112221\n"
     ]
    }
   ],
   "source": [
    "aadhar = input(\"Enter your Aadhaar number: \")\n",
    "check = aadhar.isalpha()\n",
    "if check == False:\n",
    "  try: \n",
    "    if len(aadhar) != 12:\n",
    "      raise ValueError(aadhar)\n",
    "  except ValueError:\n",
    "    print(f\"The entered Aadhar number {aadhar} is not valid!\")\n",
    "    print(\"Please enter a valid Aadhar number\")\n",
    "  else:\n",
    "    print(\"The Aadhar number entered is: \",aadhar)\n",
    "else:\n",
    "  print(\"Only integers are allowed!\")\n",
    "  aadhar = ''"
   ]
  },
  {
   "cell_type": "code",
   "execution_count": 6,
   "metadata": {
    "colab": {
     "base_uri": "https://localhost:8080/",
     "height": 81
    },
    "id": "iiQeKfckKHxd",
    "outputId": "3fdcdd66-7fa6-46b2-95a6-23584480c11e"
   },
   "outputs": [
    {
     "data": {
      "text/html": [
       "<div>\n",
       "<style scoped>\n",
       "    .dataframe tbody tr th:only-of-type {\n",
       "        vertical-align: middle;\n",
       "    }\n",
       "\n",
       "    .dataframe tbody tr th {\n",
       "        vertical-align: top;\n",
       "    }\n",
       "\n",
       "    .dataframe thead th {\n",
       "        text-align: right;\n",
       "    }\n",
       "</style>\n",
       "<table border=\"1\" class=\"dataframe\">\n",
       "  <thead>\n",
       "    <tr style=\"text-align: right;\">\n",
       "      <th></th>\n",
       "      <th>Name</th>\n",
       "      <th>Age</th>\n",
       "      <th>Gender</th>\n",
       "      <th>Phone</th>\n",
       "      <th>Aadhar</th>\n",
       "    </tr>\n",
       "  </thead>\n",
       "  <tbody>\n",
       "    <tr>\n",
       "      <th>0</th>\n",
       "      <td>Sanjay</td>\n",
       "      <td>43</td>\n",
       "      <td>Male</td>\n",
       "      <td>9988778877</td>\n",
       "      <td>782266112221</td>\n",
       "    </tr>\n",
       "  </tbody>\n",
       "</table>\n",
       "</div>"
      ],
      "text/plain": [
       "     Name Age Gender       Phone        Aadhar\n",
       "0  Sanjay  43   Male  9988778877  782266112221"
      ]
     },
     "execution_count": 6,
     "metadata": {},
     "output_type": "execute_result"
    }
   ],
   "source": [
    "import pandas as pd\n",
    "import numpy as np\n",
    "\n",
    "data = [[name],[age],[gender],[phnno],[aadhar]]\n",
    "trans = np.transpose(data)\n",
    "data_all = pd.DataFrame(trans,columns=['Name','Age','Gender','Phone','Aadhar'])\n",
    "data_all"
   ]
  },
  {
   "cell_type": "code",
   "execution_count": 7,
   "metadata": {
    "colab": {
     "base_uri": "https://localhost:8080/",
     "height": 462
    },
    "id": "H19Q7dBhLoDm",
    "outputId": "e3022633-3e52-4d84-b17b-55b2467870e6"
   },
   "outputs": [
    {
     "name": "stdout",
     "output_type": "stream",
     "text": [
      "Please fill out the following with correct details.\n",
      "Enter your name: Rajkumar\n",
      "The name entered is :  Rajkumar\n",
      "\n",
      "\n",
      "Enter your age: 21\n",
      "The age entered is:  21\n",
      "\n",
      "\n",
      "Enter your Gender:\n",
      "1-Male 2-Female 3-Others : 1\n",
      "Gender is Male\n",
      "\n",
      "\n",
      "Enter your mobile number: 8788776677\n",
      "The mobile number entered is:  8788776677\n",
      "\n",
      "\n",
      "Enter your Aadhaar number: 786755459878\n",
      "The Aadhar number entered is:  786755459878\n",
      "\n",
      "\n"
     ]
    },
    {
     "data": {
      "text/html": [
       "<div>\n",
       "<style scoped>\n",
       "    .dataframe tbody tr th:only-of-type {\n",
       "        vertical-align: middle;\n",
       "    }\n",
       "\n",
       "    .dataframe tbody tr th {\n",
       "        vertical-align: top;\n",
       "    }\n",
       "\n",
       "    .dataframe thead th {\n",
       "        text-align: right;\n",
       "    }\n",
       "</style>\n",
       "<table border=\"1\" class=\"dataframe\">\n",
       "  <thead>\n",
       "    <tr style=\"text-align: right;\">\n",
       "      <th></th>\n",
       "      <th>Name</th>\n",
       "      <th>Age</th>\n",
       "      <th>Gender</th>\n",
       "      <th>Phone</th>\n",
       "      <th>Aadhar</th>\n",
       "    </tr>\n",
       "  </thead>\n",
       "  <tbody>\n",
       "    <tr>\n",
       "      <th>0</th>\n",
       "      <td>Rajkumar</td>\n",
       "      <td>21</td>\n",
       "      <td>Male</td>\n",
       "      <td>8788776677</td>\n",
       "      <td>786755459878</td>\n",
       "    </tr>\n",
       "  </tbody>\n",
       "</table>\n",
       "</div>"
      ],
      "text/plain": [
       "       Name Age Gender       Phone        Aadhar\n",
       "0  Rajkumar  21   Male  8788776677  786755459878"
      ]
     },
     "execution_count": 7,
     "metadata": {},
     "output_type": "execute_result"
    }
   ],
   "source": [
    "print(\"Please fill out the following with correct details.\")\n",
    "name = input(\"Enter your name: \")\n",
    "check = name.isalpha()\n",
    "if check == True:\n",
    " print(\"The name entered is : \",name)\n",
    " print('\\n')\n",
    "else:\n",
    "  print(\"Please enter a valid name\")\n",
    "  name = ''\n",
    "\n",
    "try:\n",
    "  age = int(input(\"Enter your age: \"))\n",
    "  if age not in range(18,100):\n",
    "    raise ValueError(age)\n",
    "  else:\n",
    "    print(\"The age entered is: \",age)\n",
    "    print('\\n')\n",
    "except ValueError:\n",
    "  print(f\"{age} is out of the range\")\n",
    "  print(\"Please enter a valid age between 18 and 100\")\n",
    "  age = ''\n",
    "\n",
    "try:\n",
    "  print(\"Enter your Gender:\")\n",
    "  choice = int(input(\"1-Male 2-Female 3-Others : \"))\n",
    "  if choice == 1:\n",
    "    gender = 'Male'\n",
    "  elif choice == 2:\n",
    "    gender = 'Female'\n",
    "  elif choice == 3:\n",
    "    gender = 'Others'\n",
    "  else:\n",
    "    raise ValueError\n",
    "  print(f\"Gender is {gender}\")\n",
    "  print('\\n')\n",
    "except ValueError:\n",
    "  print(\"Invalid Input! Try again.\")\n",
    "  gender = ''\n",
    "\n",
    "\n",
    "phnno = input(\"Enter your mobile number: \")\n",
    "check = phnno.isalpha()\n",
    "if check == False:\n",
    "  try: \n",
    "    if len(phnno) != 10:\n",
    "      raise ValueError(phnno)\n",
    "  except ValueError:\n",
    "    print(f\"The entered mobile number {phnno} is not valid!\")\n",
    "    print(\"Please enter a valid mobile number\")\n",
    "    phnno = ''\n",
    "  else:\n",
    "    print(\"The mobile number entered is: \",phnno)\n",
    "    print('\\n')\n",
    "else:\n",
    "  print(\"Only integers are allowed!\")\n",
    "  phnno = ''\n",
    "\n",
    "\n",
    "aadhar = input(\"Enter your Aadhaar number: \")\n",
    "check = aadhar.isalpha()\n",
    "if check == False:\n",
    "  try: \n",
    "    if len(aadhar) != 12:\n",
    "      raise ValueError(aadhar)\n",
    "  except ValueError:\n",
    "    print(f\"The entered Aadhar number {aadhar} is not valid!\")\n",
    "    print(\"Please enter a valid Aadhar number\")\n",
    "  else:\n",
    "    print(\"The Aadhar number entered is: \",aadhar)\n",
    "    print('\\n')\n",
    "else:\n",
    "  print(\"Only integers are allowed!\")\n",
    "  aadhar = ''\n",
    "\n",
    "\n",
    "data = [[name],[age],[gender],[phnno],[aadhar]]\n",
    "trans = np.transpose(data)\n",
    "data_all = pd.DataFrame(trans,columns=['Name','Age','Gender','Phone','Aadhar'])\n",
    "data_all"
   ]
  }
 ],
 "metadata": {
  "colab": {
   "collapsed_sections": [],
   "name": "2148023_PL3.ipynb",
   "provenance": []
  },
  "kernelspec": {
   "display_name": "Python 3",
   "language": "python",
   "name": "python3"
  },
  "language_info": {
   "codemirror_mode": {
    "name": "ipython",
    "version": 3
   },
   "file_extension": ".py",
   "mimetype": "text/x-python",
   "name": "python",
   "nbconvert_exporter": "python",
   "pygments_lexer": "ipython3",
   "version": "3.8.8"
  }
 },
 "nbformat": 4,
 "nbformat_minor": 1
}
