{
 "cells": [
  {
   "cell_type": "markdown",
   "metadata": {},
   "source": [
    "# Pivot Tables in Python\n",
    "*   Author: Sanjay S Rao\n",
    "*   LinkedIn: https://www.linkedin.com/in/sanjay-srinivasa-rao-b67a771a0/"
   ]
  },
  {
   "cell_type": "code",
   "execution_count": 1,
   "metadata": {
    "colab": {
     "base_uri": "https://localhost:8080/",
     "height": 206
    },
    "id": "x3sBLDuFbVYT",
    "outputId": "eb09dcec-4eef-4f36-8a37-65ac4a6db8b8"
   },
   "outputs": [
    {
     "data": {
      "text/html": [
       "<div>\n",
       "<style scoped>\n",
       "    .dataframe tbody tr th:only-of-type {\n",
       "        vertical-align: middle;\n",
       "    }\n",
       "\n",
       "    .dataframe tbody tr th {\n",
       "        vertical-align: top;\n",
       "    }\n",
       "\n",
       "    .dataframe thead th {\n",
       "        text-align: right;\n",
       "    }\n",
       "</style>\n",
       "<table border=\"1\" class=\"dataframe\">\n",
       "  <thead>\n",
       "    <tr style=\"text-align: right;\">\n",
       "      <th></th>\n",
       "      <th>Date</th>\n",
       "      <th>Region</th>\n",
       "      <th>Type</th>\n",
       "      <th>Units</th>\n",
       "      <th>Sales</th>\n",
       "    </tr>\n",
       "  </thead>\n",
       "  <tbody>\n",
       "    <tr>\n",
       "      <th>0</th>\n",
       "      <td>2020-07-11</td>\n",
       "      <td>East</td>\n",
       "      <td>Children's Clothing</td>\n",
       "      <td>18.0</td>\n",
       "      <td>306</td>\n",
       "    </tr>\n",
       "    <tr>\n",
       "      <th>1</th>\n",
       "      <td>2020-09-23</td>\n",
       "      <td>North</td>\n",
       "      <td>Children's Clothing</td>\n",
       "      <td>14.0</td>\n",
       "      <td>448</td>\n",
       "    </tr>\n",
       "    <tr>\n",
       "      <th>2</th>\n",
       "      <td>2020-04-02</td>\n",
       "      <td>South</td>\n",
       "      <td>Women's Clothing</td>\n",
       "      <td>17.0</td>\n",
       "      <td>425</td>\n",
       "    </tr>\n",
       "    <tr>\n",
       "      <th>3</th>\n",
       "      <td>2020-02-28</td>\n",
       "      <td>East</td>\n",
       "      <td>Children's Clothing</td>\n",
       "      <td>26.0</td>\n",
       "      <td>832</td>\n",
       "    </tr>\n",
       "    <tr>\n",
       "      <th>4</th>\n",
       "      <td>2020-03-19</td>\n",
       "      <td>West</td>\n",
       "      <td>Women's Clothing</td>\n",
       "      <td>3.0</td>\n",
       "      <td>33</td>\n",
       "    </tr>\n",
       "  </tbody>\n",
       "</table>\n",
       "</div>"
      ],
      "text/plain": [
       "        Date Region                 Type  Units  Sales\n",
       "0 2020-07-11   East  Children's Clothing   18.0    306\n",
       "1 2020-09-23  North  Children's Clothing   14.0    448\n",
       "2 2020-04-02  South     Women's Clothing   17.0    425\n",
       "3 2020-02-28   East  Children's Clothing   26.0    832\n",
       "4 2020-03-19   West     Women's Clothing    3.0     33"
      ]
     },
     "execution_count": 1,
     "metadata": {},
     "output_type": "execute_result"
    }
   ],
   "source": [
    "import pandas as pd\n",
    "df = pd.read_excel(\"D:/Projects/JupyterNotebookFiles/Python Fundamentals/Database in Python/Datasets/sample_pivot.xlsx\", parse_dates=['Date'])\n",
    "df.head()"
   ]
  },
  {
   "cell_type": "markdown",
   "metadata": {
    "id": "-4xiDYuUbuZt"
   },
   "source": [
    "## Creating a Pivot Table in Pandas"
   ]
  },
  {
   "cell_type": "code",
   "execution_count": 2,
   "metadata": {
    "colab": {
     "base_uri": "https://localhost:8080/",
     "height": 206
    },
    "id": "UpflxlfCboTD",
    "outputId": "f4025289-0c72-4350-e873-168794476c88"
   },
   "outputs": [
    {
     "data": {
      "text/html": [
       "<div>\n",
       "<style scoped>\n",
       "    .dataframe tbody tr th:only-of-type {\n",
       "        vertical-align: middle;\n",
       "    }\n",
       "\n",
       "    .dataframe tbody tr th {\n",
       "        vertical-align: top;\n",
       "    }\n",
       "\n",
       "    .dataframe thead th {\n",
       "        text-align: right;\n",
       "    }\n",
       "</style>\n",
       "<table border=\"1\" class=\"dataframe\">\n",
       "  <thead>\n",
       "    <tr style=\"text-align: right;\">\n",
       "      <th></th>\n",
       "      <th>Sales</th>\n",
       "    </tr>\n",
       "    <tr>\n",
       "      <th>Region</th>\n",
       "      <th></th>\n",
       "    </tr>\n",
       "  </thead>\n",
       "  <tbody>\n",
       "    <tr>\n",
       "      <th>East</th>\n",
       "      <td>408.182482</td>\n",
       "    </tr>\n",
       "    <tr>\n",
       "      <th>North</th>\n",
       "      <td>438.924051</td>\n",
       "    </tr>\n",
       "    <tr>\n",
       "      <th>South</th>\n",
       "      <td>432.956204</td>\n",
       "    </tr>\n",
       "    <tr>\n",
       "      <th>West</th>\n",
       "      <td>452.029412</td>\n",
       "    </tr>\n",
       "  </tbody>\n",
       "</table>\n",
       "</div>"
      ],
      "text/plain": [
       "             Sales\n",
       "Region            \n",
       "East    408.182482\n",
       "North   438.924051\n",
       "South   432.956204\n",
       "West    452.029412"
      ]
     },
     "execution_count": 2,
     "metadata": {},
     "output_type": "execute_result"
    }
   ],
   "source": [
    "sales_by_region = pd.pivot_table(df, index = 'Region', values = 'Sales')\n",
    "sales_by_region"
   ]
  },
  {
   "cell_type": "markdown",
   "metadata": {
    "id": "pwBp4ukGb2ww"
   },
   "source": [
    "### The sum of all Sales across a region"
   ]
  },
  {
   "cell_type": "code",
   "execution_count": 3,
   "metadata": {
    "colab": {
     "base_uri": "https://localhost:8080/",
     "height": 206
    },
    "id": "cdsHAUFIbrhZ",
    "outputId": "c8a352f6-0462-4830-aa79-84b68fdc174c"
   },
   "outputs": [
    {
     "data": {
      "text/html": [
       "<div>\n",
       "<style scoped>\n",
       "    .dataframe tbody tr th:only-of-type {\n",
       "        vertical-align: middle;\n",
       "    }\n",
       "\n",
       "    .dataframe tbody tr th {\n",
       "        vertical-align: top;\n",
       "    }\n",
       "\n",
       "    .dataframe thead th {\n",
       "        text-align: right;\n",
       "    }\n",
       "</style>\n",
       "<table border=\"1\" class=\"dataframe\">\n",
       "  <thead>\n",
       "    <tr style=\"text-align: right;\">\n",
       "      <th></th>\n",
       "      <th>Sales</th>\n",
       "    </tr>\n",
       "    <tr>\n",
       "      <th>Region</th>\n",
       "      <th></th>\n",
       "    </tr>\n",
       "  </thead>\n",
       "  <tbody>\n",
       "    <tr>\n",
       "      <th>East</th>\n",
       "      <td>167763</td>\n",
       "    </tr>\n",
       "    <tr>\n",
       "      <th>North</th>\n",
       "      <td>138700</td>\n",
       "    </tr>\n",
       "    <tr>\n",
       "      <th>South</th>\n",
       "      <td>59315</td>\n",
       "    </tr>\n",
       "    <tr>\n",
       "      <th>West</th>\n",
       "      <td>61476</td>\n",
       "    </tr>\n",
       "  </tbody>\n",
       "</table>\n",
       "</div>"
      ],
      "text/plain": [
       "         Sales\n",
       "Region        \n",
       "East    167763\n",
       "North   138700\n",
       "South    59315\n",
       "West     61476"
      ]
     },
     "execution_count": 3,
     "metadata": {},
     "output_type": "execute_result"
    }
   ],
   "source": [
    "total_by_region = pd.pivot_table(df, index = 'Region', values = 'Sales', \n",
    "                                 aggfunc='sum')\n",
    "total_by_region"
   ]
  },
  {
   "cell_type": "markdown",
   "metadata": {
    "id": "7JSQibCib_Os"
   },
   "source": [
    "## Filtering Python Pivot Tables"
   ]
  },
  {
   "cell_type": "markdown",
   "metadata": {
    "id": "dIysHR2ccRXI"
   },
   "source": [
    "### The mean Sale price by Region"
   ]
  },
  {
   "cell_type": "code",
   "execution_count": 4,
   "metadata": {
    "colab": {
     "base_uri": "https://localhost:8080/",
     "height": 206
    },
    "id": "bN9Nct-ebysL",
    "outputId": "1974c42f-2093-4f71-f901-86e3a84f7c3e"
   },
   "outputs": [
    {
     "data": {
      "text/html": [
       "<div>\n",
       "<style scoped>\n",
       "    .dataframe tbody tr th:only-of-type {\n",
       "        vertical-align: middle;\n",
       "    }\n",
       "\n",
       "    .dataframe tbody tr th {\n",
       "        vertical-align: top;\n",
       "    }\n",
       "\n",
       "    .dataframe thead th {\n",
       "        text-align: right;\n",
       "    }\n",
       "</style>\n",
       "<table border=\"1\" class=\"dataframe\">\n",
       "  <thead>\n",
       "    <tr style=\"text-align: right;\">\n",
       "      <th></th>\n",
       "      <th>Sales</th>\n",
       "    </tr>\n",
       "    <tr>\n",
       "      <th>Region</th>\n",
       "      <th></th>\n",
       "    </tr>\n",
       "  </thead>\n",
       "  <tbody>\n",
       "    <tr>\n",
       "      <th>East</th>\n",
       "      <td>408.182482</td>\n",
       "    </tr>\n",
       "    <tr>\n",
       "      <th>North</th>\n",
       "      <td>438.924051</td>\n",
       "    </tr>\n",
       "    <tr>\n",
       "      <th>South</th>\n",
       "      <td>432.956204</td>\n",
       "    </tr>\n",
       "    <tr>\n",
       "      <th>West</th>\n",
       "      <td>452.029412</td>\n",
       "    </tr>\n",
       "  </tbody>\n",
       "</table>\n",
       "</div>"
      ],
      "text/plain": [
       "             Sales\n",
       "Region            \n",
       "East    408.182482\n",
       "North   438.924051\n",
       "South   432.956204\n",
       "West    452.029412"
      ]
     },
     "execution_count": 4,
     "metadata": {},
     "output_type": "execute_result"
    }
   ],
   "source": [
    "avg_region_price = pd.pivot_table(df, index = 'Region', values = 'Sales')\n",
    "avg_region_price"
   ]
  },
  {
   "cell_type": "code",
   "execution_count": 5,
   "metadata": {
    "colab": {
     "base_uri": "https://localhost:8080/",
     "height": 112
    },
    "id": "l3AoEB5ycDJK",
    "outputId": "b4785e16-d276-46ef-c97e-1cf33ff8a891"
   },
   "outputs": [
    {
     "data": {
      "text/html": [
       "<div>\n",
       "<style scoped>\n",
       "    .dataframe tbody tr th:only-of-type {\n",
       "        vertical-align: middle;\n",
       "    }\n",
       "\n",
       "    .dataframe tbody tr th {\n",
       "        vertical-align: top;\n",
       "    }\n",
       "\n",
       "    .dataframe thead th {\n",
       "        text-align: right;\n",
       "    }\n",
       "</style>\n",
       "<table border=\"1\" class=\"dataframe\">\n",
       "  <thead>\n",
       "    <tr style=\"text-align: right;\">\n",
       "      <th></th>\n",
       "      <th>Sales</th>\n",
       "    </tr>\n",
       "    <tr>\n",
       "      <th>Region</th>\n",
       "      <th></th>\n",
       "    </tr>\n",
       "  </thead>\n",
       "  <tbody>\n",
       "    <tr>\n",
       "      <th>West</th>\n",
       "      <td>452.029412</td>\n",
       "    </tr>\n",
       "  </tbody>\n",
       "</table>\n",
       "</div>"
      ],
      "text/plain": [
       "             Sales\n",
       "Region            \n",
       "West    452.029412"
      ]
     },
     "execution_count": 5,
     "metadata": {},
     "output_type": "execute_result"
    }
   ],
   "source": [
    "#region where the average sales is greater than 450\n",
    "avg_region_price[avg_region_price['Sales'] > 450]"
   ]
  },
  {
   "cell_type": "code",
   "execution_count": 6,
   "metadata": {
    "colab": {
     "base_uri": "https://localhost:8080/",
     "height": 143
    },
    "id": "vTw3f2XHcUsR",
    "outputId": "c9c2ac8d-2dea-420d-edd1-1048394ebb40"
   },
   "outputs": [
    {
     "data": {
      "text/html": [
       "<div>\n",
       "<style scoped>\n",
       "    .dataframe tbody tr th:only-of-type {\n",
       "        vertical-align: middle;\n",
       "    }\n",
       "\n",
       "    .dataframe tbody tr th {\n",
       "        vertical-align: top;\n",
       "    }\n",
       "\n",
       "    .dataframe thead th {\n",
       "        text-align: right;\n",
       "    }\n",
       "</style>\n",
       "<table border=\"1\" class=\"dataframe\">\n",
       "  <thead>\n",
       "    <tr style=\"text-align: right;\">\n",
       "      <th></th>\n",
       "      <th>Sales</th>\n",
       "    </tr>\n",
       "    <tr>\n",
       "      <th>Region</th>\n",
       "      <th></th>\n",
       "    </tr>\n",
       "  </thead>\n",
       "  <tbody>\n",
       "    <tr>\n",
       "      <th>East</th>\n",
       "      <td>408.182482</td>\n",
       "    </tr>\n",
       "    <tr>\n",
       "      <th>West</th>\n",
       "      <td>452.029412</td>\n",
       "    </tr>\n",
       "  </tbody>\n",
       "</table>\n",
       "</div>"
      ],
      "text/plain": [
       "             Sales\n",
       "Region            \n",
       "East    408.182482\n",
       "West    452.029412"
      ]
     },
     "execution_count": 6,
     "metadata": {},
     "output_type": "execute_result"
    }
   ],
   "source": [
    "#region where the average sales is greater than 450 and less than 430\n",
    "avg_region_price[(avg_region_price['Sales'] > 450) | \n",
    "                 (avg_region_price['Sales'] < 430)]"
   ]
  },
  {
   "cell_type": "markdown",
   "metadata": {
    "id": "h29VkDJ_clyQ"
   },
   "source": [
    "## Multi-indexing"
   ]
  },
  {
   "cell_type": "code",
   "execution_count": 7,
   "metadata": {
    "colab": {
     "base_uri": "https://localhost:8080/",
     "height": 457
    },
    "id": "5I1lVKUJcX1x",
    "outputId": "01d6c1ac-c9e4-4d43-a6f3-b336b7fa8cd6"
   },
   "outputs": [
    {
     "data": {
      "text/html": [
       "<div>\n",
       "<style scoped>\n",
       "    .dataframe tbody tr th:only-of-type {\n",
       "        vertical-align: middle;\n",
       "    }\n",
       "\n",
       "    .dataframe tbody tr th {\n",
       "        vertical-align: top;\n",
       "    }\n",
       "\n",
       "    .dataframe thead th {\n",
       "        text-align: right;\n",
       "    }\n",
       "</style>\n",
       "<table border=\"1\" class=\"dataframe\">\n",
       "  <thead>\n",
       "    <tr style=\"text-align: right;\">\n",
       "      <th></th>\n",
       "      <th></th>\n",
       "      <th>Sales</th>\n",
       "    </tr>\n",
       "    <tr>\n",
       "      <th>Region</th>\n",
       "      <th>Type</th>\n",
       "      <th></th>\n",
       "    </tr>\n",
       "  </thead>\n",
       "  <tbody>\n",
       "    <tr>\n",
       "      <th rowspan=\"3\" valign=\"top\">East</th>\n",
       "      <th>Children's Clothing</th>\n",
       "      <td>45849</td>\n",
       "    </tr>\n",
       "    <tr>\n",
       "      <th>Men's Clothing</th>\n",
       "      <td>51685</td>\n",
       "    </tr>\n",
       "    <tr>\n",
       "      <th>Women's Clothing</th>\n",
       "      <td>70229</td>\n",
       "    </tr>\n",
       "    <tr>\n",
       "      <th rowspan=\"3\" valign=\"top\">North</th>\n",
       "      <th>Children's Clothing</th>\n",
       "      <td>37306</td>\n",
       "    </tr>\n",
       "    <tr>\n",
       "      <th>Men's Clothing</th>\n",
       "      <td>39975</td>\n",
       "    </tr>\n",
       "    <tr>\n",
       "      <th>Women's Clothing</th>\n",
       "      <td>61419</td>\n",
       "    </tr>\n",
       "    <tr>\n",
       "      <th rowspan=\"3\" valign=\"top\">South</th>\n",
       "      <th>Children's Clothing</th>\n",
       "      <td>18570</td>\n",
       "    </tr>\n",
       "    <tr>\n",
       "      <th>Men's Clothing</th>\n",
       "      <td>18542</td>\n",
       "    </tr>\n",
       "    <tr>\n",
       "      <th>Women's Clothing</th>\n",
       "      <td>22203</td>\n",
       "    </tr>\n",
       "    <tr>\n",
       "      <th rowspan=\"3\" valign=\"top\">West</th>\n",
       "      <th>Children's Clothing</th>\n",
       "      <td>20182</td>\n",
       "    </tr>\n",
       "    <tr>\n",
       "      <th>Men's Clothing</th>\n",
       "      <td>19077</td>\n",
       "    </tr>\n",
       "    <tr>\n",
       "      <th>Women's Clothing</th>\n",
       "      <td>22217</td>\n",
       "    </tr>\n",
       "  </tbody>\n",
       "</table>\n",
       "</div>"
      ],
      "text/plain": [
       "                            Sales\n",
       "Region Type                      \n",
       "East   Children's Clothing  45849\n",
       "       Men's Clothing       51685\n",
       "       Women's Clothing     70229\n",
       "North  Children's Clothing  37306\n",
       "       Men's Clothing       39975\n",
       "       Women's Clothing     61419\n",
       "South  Children's Clothing  18570\n",
       "       Men's Clothing       18542\n",
       "       Women's Clothing     22203\n",
       "West   Children's Clothing  20182\n",
       "       Men's Clothing       19077\n",
       "       Women's Clothing     22217"
      ]
     },
     "execution_count": 7,
     "metadata": {},
     "output_type": "execute_result"
    }
   ],
   "source": [
    "multi_index = pd.pivot_table(df, index = ['Region', 'Type'], \n",
    "                             values = 'Sales', aggfunc = 'sum')\n",
    "multi_index"
   ]
  },
  {
   "cell_type": "markdown",
   "metadata": {
    "id": "FqvsHqm0cwks"
   },
   "source": [
    " ### The total sum of sales but also the count of sales."
   ]
  },
  {
   "cell_type": "code",
   "execution_count": 8,
   "metadata": {
    "colab": {
     "base_uri": "https://localhost:8080/",
     "height": 488
    },
    "id": "IKCySqPzcqJ6",
    "outputId": "6df8610e-976e-42ed-ad5c-aabe68930ef1"
   },
   "outputs": [
    {
     "data": {
      "text/html": [
       "<div>\n",
       "<style scoped>\n",
       "    .dataframe tbody tr th:only-of-type {\n",
       "        vertical-align: middle;\n",
       "    }\n",
       "\n",
       "    .dataframe tbody tr th {\n",
       "        vertical-align: top;\n",
       "    }\n",
       "\n",
       "    .dataframe thead tr th {\n",
       "        text-align: left;\n",
       "    }\n",
       "\n",
       "    .dataframe thead tr:last-of-type th {\n",
       "        text-align: right;\n",
       "    }\n",
       "</style>\n",
       "<table border=\"1\" class=\"dataframe\">\n",
       "  <thead>\n",
       "    <tr>\n",
       "      <th></th>\n",
       "      <th></th>\n",
       "      <th>sum</th>\n",
       "      <th>len</th>\n",
       "    </tr>\n",
       "    <tr>\n",
       "      <th></th>\n",
       "      <th></th>\n",
       "      <th>Sales</th>\n",
       "      <th>Sales</th>\n",
       "    </tr>\n",
       "    <tr>\n",
       "      <th>Region</th>\n",
       "      <th>Type</th>\n",
       "      <th></th>\n",
       "      <th></th>\n",
       "    </tr>\n",
       "  </thead>\n",
       "  <tbody>\n",
       "    <tr>\n",
       "      <th rowspan=\"3\" valign=\"top\">East</th>\n",
       "      <th>Children's Clothing</th>\n",
       "      <td>45849</td>\n",
       "      <td>113</td>\n",
       "    </tr>\n",
       "    <tr>\n",
       "      <th>Men's Clothing</th>\n",
       "      <td>51685</td>\n",
       "      <td>122</td>\n",
       "    </tr>\n",
       "    <tr>\n",
       "      <th>Women's Clothing</th>\n",
       "      <td>70229</td>\n",
       "      <td>176</td>\n",
       "    </tr>\n",
       "    <tr>\n",
       "      <th rowspan=\"3\" valign=\"top\">North</th>\n",
       "      <th>Children's Clothing</th>\n",
       "      <td>37306</td>\n",
       "      <td>85</td>\n",
       "    </tr>\n",
       "    <tr>\n",
       "      <th>Men's Clothing</th>\n",
       "      <td>39975</td>\n",
       "      <td>89</td>\n",
       "    </tr>\n",
       "    <tr>\n",
       "      <th>Women's Clothing</th>\n",
       "      <td>61419</td>\n",
       "      <td>142</td>\n",
       "    </tr>\n",
       "    <tr>\n",
       "      <th rowspan=\"3\" valign=\"top\">South</th>\n",
       "      <th>Children's Clothing</th>\n",
       "      <td>18570</td>\n",
       "      <td>45</td>\n",
       "    </tr>\n",
       "    <tr>\n",
       "      <th>Men's Clothing</th>\n",
       "      <td>18542</td>\n",
       "      <td>39</td>\n",
       "    </tr>\n",
       "    <tr>\n",
       "      <th>Women's Clothing</th>\n",
       "      <td>22203</td>\n",
       "      <td>53</td>\n",
       "    </tr>\n",
       "    <tr>\n",
       "      <th rowspan=\"3\" valign=\"top\">West</th>\n",
       "      <th>Children's Clothing</th>\n",
       "      <td>20182</td>\n",
       "      <td>42</td>\n",
       "    </tr>\n",
       "    <tr>\n",
       "      <th>Men's Clothing</th>\n",
       "      <td>19077</td>\n",
       "      <td>41</td>\n",
       "    </tr>\n",
       "    <tr>\n",
       "      <th>Women's Clothing</th>\n",
       "      <td>22217</td>\n",
       "      <td>53</td>\n",
       "    </tr>\n",
       "  </tbody>\n",
       "</table>\n",
       "</div>"
      ],
      "text/plain": [
       "                              sum   len\n",
       "                            Sales Sales\n",
       "Region Type                            \n",
       "East   Children's Clothing  45849   113\n",
       "       Men's Clothing       51685   122\n",
       "       Women's Clothing     70229   176\n",
       "North  Children's Clothing  37306    85\n",
       "       Men's Clothing       39975    89\n",
       "       Women's Clothing     61419   142\n",
       "South  Children's Clothing  18570    45\n",
       "       Men's Clothing       18542    39\n",
       "       Women's Clothing     22203    53\n",
       "West   Children's Clothing  20182    42\n",
       "       Men's Clothing       19077    41\n",
       "       Women's Clothing     22217    53"
      ]
     },
     "execution_count": 8,
     "metadata": {},
     "output_type": "execute_result"
    }
   ],
   "source": [
    "multi_functions = pd.pivot_table(df, index = ['Region', 'Type'], \n",
    "                                 values = 'Sales', aggfunc = ['sum', len])\n",
    "multi_functions"
   ]
  },
  {
   "cell_type": "markdown",
   "metadata": {
    "id": "CruNeN5edIcK"
   },
   "source": [
    " ### To see number of units sold by Type and by Region"
   ]
  },
  {
   "cell_type": "code",
   "execution_count": 9,
   "metadata": {
    "colab": {
     "base_uri": "https://localhost:8080/",
     "height": 175
    },
    "id": "sVYlupP1c5Rj",
    "outputId": "975782ae-b3de-4c92-ad1c-fe6231f4d7fa"
   },
   "outputs": [
    {
     "data": {
      "text/html": [
       "<div>\n",
       "<style scoped>\n",
       "    .dataframe tbody tr th:only-of-type {\n",
       "        vertical-align: middle;\n",
       "    }\n",
       "\n",
       "    .dataframe tbody tr th {\n",
       "        vertical-align: top;\n",
       "    }\n",
       "\n",
       "    .dataframe thead th {\n",
       "        text-align: right;\n",
       "    }\n",
       "</style>\n",
       "<table border=\"1\" class=\"dataframe\">\n",
       "  <thead>\n",
       "    <tr style=\"text-align: right;\">\n",
       "      <th>Region</th>\n",
       "      <th>East</th>\n",
       "      <th>North</th>\n",
       "      <th>South</th>\n",
       "      <th>West</th>\n",
       "    </tr>\n",
       "    <tr>\n",
       "      <th>Type</th>\n",
       "      <th></th>\n",
       "      <th></th>\n",
       "      <th></th>\n",
       "      <th></th>\n",
       "    </tr>\n",
       "  </thead>\n",
       "  <tbody>\n",
       "    <tr>\n",
       "      <th>Children's Clothing</th>\n",
       "      <td>2318.0</td>\n",
       "      <td>1763.0</td>\n",
       "      <td>1017.0</td>\n",
       "      <td>789.0</td>\n",
       "    </tr>\n",
       "    <tr>\n",
       "      <th>Men's Clothing</th>\n",
       "      <td>2420.0</td>\n",
       "      <td>0.0</td>\n",
       "      <td>725.0</td>\n",
       "      <td>829.0</td>\n",
       "    </tr>\n",
       "    <tr>\n",
       "      <th>Women's Clothing</th>\n",
       "      <td>3372.0</td>\n",
       "      <td>2596.0</td>\n",
       "      <td>1056.0</td>\n",
       "      <td>1006.0</td>\n",
       "    </tr>\n",
       "  </tbody>\n",
       "</table>\n",
       "</div>"
      ],
      "text/plain": [
       "Region                 East   North   South    West\n",
       "Type                                               \n",
       "Children's Clothing  2318.0  1763.0  1017.0   789.0\n",
       "Men's Clothing       2420.0     0.0   725.0   829.0\n",
       "Women's Clothing     3372.0  2596.0  1056.0  1006.0"
      ]
     },
     "execution_count": 9,
     "metadata": {},
     "output_type": "execute_result"
    }
   ],
   "source": [
    "columns_example = pd.pivot_table(df, index = 'Type', columns = 'Region', \n",
    "                                 values = 'Units', aggfunc = 'sum')\n",
    "columns_example"
   ]
  },
  {
   "cell_type": "markdown",
   "metadata": {
    "id": "LAp5tM8idWKA"
   },
   "source": [
    "## Plotting Pandas Pivot Tables"
   ]
  },
  {
   "cell_type": "code",
   "execution_count": 10,
   "metadata": {
    "colab": {
     "base_uri": "https://localhost:8080/",
     "height": 383
    },
    "id": "tvBoPgTuc5O0",
    "outputId": "6fc7075a-9117-4fba-ec2c-604fc23f180e"
   },
   "outputs": [
    {
     "data": {
      "text/plain": [
       "<AxesSubplot:xlabel='Type'>"
      ]
     },
     "execution_count": 10,
     "metadata": {},
     "output_type": "execute_result"
    },
    {
     "data": {
      "image/png": "[encoded data removed]",
      "text/plain": [
       "<Figure size 432x288 with 1 Axes>"
      ]
     },
     "metadata": {
      "needs_background": "light"
     },
     "output_type": "display_data"
    }
   ],
   "source": [
    "columns_example.plot(kind='bar')"
   ]
  },
  {
   "cell_type": "markdown",
   "metadata": {
    "id": "mk-eRhU8do02"
   },
   "source": [
    "## Handling Missing Data in Python Pivot Tables"
   ]
  },
  {
   "cell_type": "code",
   "execution_count": 11,
   "metadata": {
    "colab": {
     "base_uri": "https://localhost:8080/"
    },
    "id": "vmL8JZ0Rc5MG",
    "outputId": "204f5f3d-a9e0-493a-8dca-ed680e5b52e3"
   },
   "outputs": [
    {
     "name": "stdout",
     "output_type": "stream",
     "text": [
      "<class 'pandas.core.frame.DataFrame'>\n",
      "RangeIndex: 1000 entries, 0 to 999\n",
      "Data columns (total 5 columns):\n",
      " #   Column  Non-Null Count  Dtype         \n",
      "---  ------  --------------  -----         \n",
      " 0   Date    1000 non-null   datetime64[ns]\n",
      " 1   Region  1000 non-null   object        \n",
      " 2   Type    1000 non-null   object        \n",
      " 3   Units   911 non-null    float64       \n",
      " 4   Sales   1000 non-null   int64         \n",
      "dtypes: datetime64[ns](1), float64(1), int64(1), object(2)\n",
      "memory usage: 39.2+ KB\n"
     ]
    }
   ],
   "source": [
    "df.info()"
   ]
  },
  {
   "cell_type": "markdown",
   "metadata": {
    "id": "ByTIAQOidvg9"
   },
   "source": [
    "### We can see that Units is the only field with missing values."
   ]
  },
  {
   "cell_type": "code",
   "execution_count": 12,
   "metadata": {
    "colab": {
     "base_uri": "https://localhost:8080/",
     "height": 175
    },
    "id": "0oG23vg0duVs",
    "outputId": "3acac3c5-a85d-4594-a669-b482641d3b03"
   },
   "outputs": [
    {
     "data": {
      "text/html": [
       "<div>\n",
       "<style scoped>\n",
       "    .dataframe tbody tr th:only-of-type {\n",
       "        vertical-align: middle;\n",
       "    }\n",
       "\n",
       "    .dataframe tbody tr th {\n",
       "        vertical-align: top;\n",
       "    }\n",
       "\n",
       "    .dataframe thead th {\n",
       "        text-align: right;\n",
       "    }\n",
       "</style>\n",
       "<table border=\"1\" class=\"dataframe\">\n",
       "  <thead>\n",
       "    <tr style=\"text-align: right;\">\n",
       "      <th>Region</th>\n",
       "      <th>East</th>\n",
       "      <th>North</th>\n",
       "      <th>South</th>\n",
       "      <th>West</th>\n",
       "    </tr>\n",
       "    <tr>\n",
       "      <th>Type</th>\n",
       "      <th></th>\n",
       "      <th></th>\n",
       "      <th></th>\n",
       "      <th></th>\n",
       "    </tr>\n",
       "  </thead>\n",
       "  <tbody>\n",
       "    <tr>\n",
       "      <th>Children's Clothing</th>\n",
       "      <td>35.0</td>\n",
       "      <td>35.0</td>\n",
       "      <td>35.0</td>\n",
       "      <td>34.0</td>\n",
       "    </tr>\n",
       "    <tr>\n",
       "      <th>Men's Clothing</th>\n",
       "      <td>35.0</td>\n",
       "      <td>NaN</td>\n",
       "      <td>34.0</td>\n",
       "      <td>35.0</td>\n",
       "    </tr>\n",
       "    <tr>\n",
       "      <th>Women's Clothing</th>\n",
       "      <td>35.0</td>\n",
       "      <td>35.0</td>\n",
       "      <td>35.0</td>\n",
       "      <td>33.0</td>\n",
       "    </tr>\n",
       "  </tbody>\n",
       "</table>\n",
       "</div>"
      ],
      "text/plain": [
       "Region               East  North  South  West\n",
       "Type                                         \n",
       "Children's Clothing  35.0   35.0   35.0  34.0\n",
       "Men's Clothing       35.0    NaN   34.0  35.0\n",
       "Women's Clothing     35.0   35.0   35.0  33.0"
      ]
     },
     "execution_count": 12,
     "metadata": {},
     "output_type": "execute_result"
    }
   ],
   "source": [
    "pd.pivot_table(df, index = 'Type', values = 'Units', columns = 'Region', \n",
    "               aggfunc = 'max')"
   ]
  },
  {
   "cell_type": "markdown",
   "metadata": {
    "id": "NOx3WV_ad3kr"
   },
   "source": [
    "### To replace the NaN value with, suppose 'N/A'"
   ]
  },
  {
   "cell_type": "code",
   "execution_count": 13,
   "metadata": {
    "colab": {
     "base_uri": "https://localhost:8080/",
     "height": 175
    },
    "id": "bL-jfhyqd0Er",
    "outputId": "c9f1e4f4-f7ae-4b6f-c5f6-138560eef22f"
   },
   "outputs": [
    {
     "data": {
      "text/html": [
       "<div>\n",
       "<style scoped>\n",
       "    .dataframe tbody tr th:only-of-type {\n",
       "        vertical-align: middle;\n",
       "    }\n",
       "\n",
       "    .dataframe tbody tr th {\n",
       "        vertical-align: top;\n",
       "    }\n",
       "\n",
       "    .dataframe thead th {\n",
       "        text-align: right;\n",
       "    }\n",
       "</style>\n",
       "<table border=\"1\" class=\"dataframe\">\n",
       "  <thead>\n",
       "    <tr style=\"text-align: right;\">\n",
       "      <th>Region</th>\n",
       "      <th>East</th>\n",
       "      <th>North</th>\n",
       "      <th>South</th>\n",
       "      <th>West</th>\n",
       "    </tr>\n",
       "    <tr>\n",
       "      <th>Type</th>\n",
       "      <th></th>\n",
       "      <th></th>\n",
       "      <th></th>\n",
       "      <th></th>\n",
       "    </tr>\n",
       "  </thead>\n",
       "  <tbody>\n",
       "    <tr>\n",
       "      <th>Children's Clothing</th>\n",
       "      <td>35.0</td>\n",
       "      <td>35.0</td>\n",
       "      <td>35.0</td>\n",
       "      <td>34.0</td>\n",
       "    </tr>\n",
       "    <tr>\n",
       "      <th>Men's Clothing</th>\n",
       "      <td>35.0</td>\n",
       "      <td>N/A</td>\n",
       "      <td>34.0</td>\n",
       "      <td>35.0</td>\n",
       "    </tr>\n",
       "    <tr>\n",
       "      <th>Women's Clothing</th>\n",
       "      <td>35.0</td>\n",
       "      <td>35.0</td>\n",
       "      <td>35.0</td>\n",
       "      <td>33.0</td>\n",
       "    </tr>\n",
       "  </tbody>\n",
       "</table>\n",
       "</div>"
      ],
      "text/plain": [
       "Region               East North  South  West\n",
       "Type                                        \n",
       "Children's Clothing  35.0  35.0   35.0  34.0\n",
       "Men's Clothing       35.0   N/A   34.0  35.0\n",
       "Women's Clothing     35.0  35.0   35.0  33.0"
      ]
     },
     "execution_count": 13,
     "metadata": {},
     "output_type": "execute_result"
    }
   ],
   "source": [
    "pd.pivot_table(df, index = 'Type', values = 'Units', columns = 'Region', \n",
    "               aggfunc = 'max', fill_value = 'N/A')"
   ]
  },
  {
   "cell_type": "markdown",
   "metadata": {
    "id": "BK_HUxH8eI1-"
   },
   "source": [
    "### Adding Totals for Rows and Columns to Pandas Pivot Tables"
   ]
  },
  {
   "cell_type": "code",
   "execution_count": 14,
   "metadata": {
    "colab": {
     "base_uri": "https://localhost:8080/",
     "height": 206
    },
    "id": "M1q9396dd9hz",
    "outputId": "3179d9e5-bd11-4c47-effe-597213e525d1"
   },
   "outputs": [
    {
     "data": {
      "text/html": [
       "<div>\n",
       "<style scoped>\n",
       "    .dataframe tbody tr th:only-of-type {\n",
       "        vertical-align: middle;\n",
       "    }\n",
       "\n",
       "    .dataframe tbody tr th {\n",
       "        vertical-align: top;\n",
       "    }\n",
       "\n",
       "    .dataframe thead th {\n",
       "        text-align: right;\n",
       "    }\n",
       "</style>\n",
       "<table border=\"1\" class=\"dataframe\">\n",
       "  <thead>\n",
       "    <tr style=\"text-align: right;\">\n",
       "      <th>Region</th>\n",
       "      <th>East</th>\n",
       "      <th>North</th>\n",
       "      <th>South</th>\n",
       "      <th>West</th>\n",
       "      <th>Total</th>\n",
       "    </tr>\n",
       "    <tr>\n",
       "      <th>Type</th>\n",
       "      <th></th>\n",
       "      <th></th>\n",
       "      <th></th>\n",
       "      <th></th>\n",
       "      <th></th>\n",
       "    </tr>\n",
       "  </thead>\n",
       "  <tbody>\n",
       "    <tr>\n",
       "      <th>Children's Clothing</th>\n",
       "      <td>2318.0</td>\n",
       "      <td>1763.0</td>\n",
       "      <td>1017.0</td>\n",
       "      <td>789.0</td>\n",
       "      <td>5887.0</td>\n",
       "    </tr>\n",
       "    <tr>\n",
       "      <th>Men's Clothing</th>\n",
       "      <td>2420.0</td>\n",
       "      <td>0.0</td>\n",
       "      <td>725.0</td>\n",
       "      <td>829.0</td>\n",
       "      <td>3974.0</td>\n",
       "    </tr>\n",
       "    <tr>\n",
       "      <th>Women's Clothing</th>\n",
       "      <td>3372.0</td>\n",
       "      <td>2596.0</td>\n",
       "      <td>1056.0</td>\n",
       "      <td>1006.0</td>\n",
       "      <td>8030.0</td>\n",
       "    </tr>\n",
       "    <tr>\n",
       "      <th>Total</th>\n",
       "      <td>8110.0</td>\n",
       "      <td>4359.0</td>\n",
       "      <td>2798.0</td>\n",
       "      <td>2624.0</td>\n",
       "      <td>17891.0</td>\n",
       "    </tr>\n",
       "  </tbody>\n",
       "</table>\n",
       "</div>"
      ],
      "text/plain": [
       "Region                 East   North   South    West    Total\n",
       "Type                                                        \n",
       "Children's Clothing  2318.0  1763.0  1017.0   789.0   5887.0\n",
       "Men's Clothing       2420.0     0.0   725.0   829.0   3974.0\n",
       "Women's Clothing     3372.0  2596.0  1056.0  1006.0   8030.0\n",
       "Total                8110.0  4359.0  2798.0  2624.0  17891.0"
      ]
     },
     "execution_count": 14,
     "metadata": {},
     "output_type": "execute_result"
    }
   ],
   "source": [
    "pd.pivot_table(df, index = 'Type', values = 'Units', columns = 'Region', \n",
    "      aggfunc = 'sum', fill_value = 'N/A', margins = True, margins_name='Total')"
   ]
  }
 ],
 "metadata": {
  "colab": {
   "collapsed_sections": [],
   "name": "2148023_PivotTable.ipynb",
   "provenance": []
  },
  "kernelspec": {
   "display_name": "Python 3",
   "language": "python",
   "name": "python3"
  },
  "language_info": {
   "codemirror_mode": {
    "name": "ipython",
    "version": 3
   },
   "file_extension": ".py",
   "mimetype": "text/x-python",
   "name": "python",
   "nbconvert_exporter": "python",
   "pygments_lexer": "ipython3",
   "version": "3.8.8"
  }
 },
 "nbformat": 4,
 "nbformat_minor": 1
}
