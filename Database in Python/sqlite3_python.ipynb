{
 "cells": [
  {
   "cell_type": "markdown",
   "metadata": {
    "id": "f3e1l0p4KJjU"
   },
   "source": [
    "## PYTHON SQL\n",
    "*   Author: Sanjay S Rao\n",
    "*   LinkedIn: https://www.linkedin.com/in/sanjay-s-rao04/\n",
    "\n"
   ]
  },
  {
   "cell_type": "code",
   "execution_count": 1,
   "metadata": {
    "id": "Qr19WmMJzzKj"
   },
   "outputs": [],
   "source": [
    "import sqlite3"
   ]
  },
  {
   "cell_type": "code",
   "execution_count": 2,
   "metadata": {
    "id": "_spnPLMN1O3j"
   },
   "outputs": [],
   "source": [
    "def DB_Create():\n",
    "  # connecting to the database\n",
    "  connection = sqlite3.connect(\"Practice_Lab.db\") \n",
    "\n",
    "  # cursor\n",
    "  crsr = connection.cursor()\n",
    "\n",
    "  # print statement will execute if there are no errors\n",
    "  print(\"Connected to the database\")\n",
    "\n",
    "  # close the connection\n",
    "  connection.close()"
   ]
  },
  {
   "cell_type": "code",
   "execution_count": 3,
   "metadata": {
    "id": "SUFMFmd21bB_"
   },
   "outputs": [],
   "source": [
    "def Create_Table():\n",
    "  # connecting to the database\n",
    "  connection = sqlite3.connect(\"Practice_Lab.db\")\n",
    "\n",
    "  # cursor\n",
    "  crsr = connection.cursor()\n",
    "\n",
    "  # SQL command to create a table in the database\n",
    "  sql_command = \"\"\"\n",
    "  CREATE TABLE INSTRUCTOR (Instructor_id NUMBER(6), \n",
    "  Name VARCHAR(20), Designation VARCHAR(25), \n",
    "  Dept_name VARCHAR(25));\n",
    "  \"\"\"\n",
    "\n",
    "  # execute the statement\n",
    "  crsr.execute(sql_command)\n",
    "\n",
    "  # close the connection\n",
    "  connection.close()"
   ]
  },
  {
   "cell_type": "code",
   "execution_count": 4,
   "metadata": {
    "id": "iL7n5pLz2bCq"
   },
   "outputs": [],
   "source": [
    "def Insert_Data():\n",
    "  # connecting to the database\n",
    "  connection = sqlite3.connect(\"Practice_Lab.db\")\n",
    "\n",
    "  # cursor\n",
    "  crsr = connection.cursor()\n",
    "\n",
    "  # SQL command to insert the data in the table\n",
    "  sql_command1 = \"\"\"\n",
    "  INSERT INTO INSTRUCTOR VALUES(100001,'Dr. SENTHILNATHAN T','Associate Professor', 'Computer Science');\n",
    "  \"\"\"\n",
    "  crsr.execute(sql_command1)\n",
    "  \n",
    "  sql_command2 = \"\"\"\n",
    "  INSERT INTO INSTRUCTOR VALUES(100002,'Dr. DEEPA V JOSE', 'Associate Professor', 'Computer Science');\n",
    "  \"\"\"\n",
    "  crsr.execute(sql_command2)\n",
    "\n",
    "  sql_command3 = \"\"\"\n",
    "  INSERT INTO INSTRUCTOR VALUES(100003,'Dr ANILA E I', 'Professor', 'Physics');\n",
    "  \"\"\"\n",
    "  crsr.execute(sql_command3)\n",
    "\n",
    "  sql_command4 = \"\"\"\n",
    "  INSERT INTO INSTRUCTOR VALUES(100004,'Dr GEORGE THOMAS C', 'Professor', 'Physics');\n",
    "  \"\"\"\n",
    "  crsr.execute(sql_command4)\n",
    "\n",
    "  sql_command5 = \"\"\"\n",
    "  INSERT INTO INSTRUCTOR VALUES(100005,'Dr JIJU GILLARIOSE', 'Assistant Professor', 'Statistics');\n",
    "  \"\"\"\n",
    "  crsr.execute(sql_command5)\n",
    "\n",
    "  sql_command6 = \"\"\"\n",
    "  INSERT INTO INSTRUCTOR VALUES(100006,'Dr SEENA THOMAS K', 'Assistant Professor', 'Statistics');\n",
    "  \"\"\"\n",
    "  crsr.execute(sql_command6)\n",
    "\n",
    "  sql_command7 = \"\"\"\n",
    "  INSERT INTO INSTRUCTOR VALUES(100007,'Dr RUBY S M', 'Associate Professor', 'Maths');\n",
    "  \"\"\"\n",
    "  crsr.execute(sql_command7)\n",
    "  \n",
    "  # To save the changes in the files. Never skip this.\n",
    "  # If we skip this, nothing will be saved in the database.\n",
    "  connection.commit()\n",
    "\n",
    "  # close the connection\n",
    "  connection.close()"
   ]
  },
  {
   "cell_type": "code",
   "execution_count": 5,
   "metadata": {
    "id": "q5TZuDYR2XSa"
   },
   "outputs": [],
   "source": [
    "def Update_Data():\n",
    "  # Connecting to sqlite\n",
    "  conn = sqlite3.connect('Practice_Lab.db')\n",
    "\n",
    "  # Creating a cursor object using\n",
    "  # the cursor() method\n",
    "  cursor = conn.cursor()\n",
    "\n",
    "  # Updating\n",
    "  cursor.execute('''\n",
    "  UPDATE INSTRUCTOR SET Designation = \"Coordinator\" WHERE \n",
    "  Instructor_id = 100001;''')\n",
    "\n",
    "  # Commit your changes in the database\n",
    "  conn.commit()\n",
    "\n",
    "  # Closing the connection \n",
    "  conn.close()"
   ]
  },
  {
   "cell_type": "code",
   "execution_count": 6,
   "metadata": {
    "id": "V_ku43Uk2XPT"
   },
   "outputs": [],
   "source": [
    "def Physics_prof():\n",
    "  # connecting to the database\n",
    "  connection = sqlite3.connect(\"Practice_Lab.db\")\n",
    "\n",
    "  # cursor\n",
    "  crsr = connection.cursor()\n",
    "\n",
    "  # SQL command to create a table in the database\n",
    "  sql_command = \"\"\"\n",
    "  SELECT Name FROM INSTRUCTOR WHERE Dept_name='Physics';\n",
    "  \"\"\"\n",
    "  \n",
    "  # execute the statement\n",
    "  crsr.execute(sql_command)\n",
    "  ans = crsr.fetchall()\n",
    "  for i in ans:\n",
    "    print(i)\n",
    "\n",
    "  # close the connection\n",
    "  connection.close()"
   ]
  },
  {
   "cell_type": "code",
   "execution_count": 7,
   "metadata": {
    "id": "4smLX6D94rgj"
   },
   "outputs": [],
   "source": [
    "def Alter_table():\n",
    "  # connecting to the database\n",
    "  connection = sqlite3.connect(\"Practice_Lab.db\")\n",
    "\n",
    "  # cursor\n",
    "  crsr = connection.cursor()\n",
    "\n",
    "  # SQL command to create a table in the database\n",
    "  sql3 = \"\"\"\n",
    "  ALTER TABLE INSTRUCTOR ADD Gross_Salary NUMBER(10);\n",
    "  \"\"\"\n",
    "  crsr.execute(sql3)\n",
    "\n",
    "  crsr.execute( \"\"\"\n",
    "  UPDATE INSTRUCTOR SET Gross_Salary=6000000 WHERE Instructor_id = 100001;\n",
    "  \"\"\")\n",
    "  \n",
    "  crsr.execute( \"\"\"\n",
    "  UPDATE INSTRUCTOR SET Gross_Salary=5000000 WHERE Instructor_id = 100002;\n",
    "  \"\"\")\n",
    "\n",
    "  crsr.execute( \"\"\"\n",
    "  UPDATE INSTRUCTOR SET Gross_Salary=8000000 WHERE Instructor_id = 100003;\n",
    "  \"\"\")\n",
    "\n",
    "  crsr.execute( \"\"\"\n",
    "  UPDATE INSTRUCTOR SET Gross_Salary=8000000 WHERE Instructor_id = 100004;\n",
    "  \"\"\")\n",
    "\n",
    "  crsr.execute( \"\"\"\n",
    "  UPDATE INSTRUCTOR SET Gross_Salary=7500000 WHERE Instructor_id = 100005;\n",
    "  \"\"\")\n",
    "\n",
    "  crsr.execute( \"\"\"\n",
    "  UPDATE INSTRUCTOR SET Gross_Salary=9000000 WHERE Instructor_id = 100006;\n",
    "  \"\"\")\n",
    "\n",
    "  crsr.execute( \"\"\"\n",
    "  UPDATE INSTRUCTOR SET Gross_Salary=6000000 WHERE Instructor_id = 100007;\n",
    "  \"\"\")\n",
    "\n",
    "  connection.commit()\n",
    "\n",
    "  # close the connection\n",
    "  connection.close()"
   ]
  },
  {
   "cell_type": "code",
   "execution_count": 8,
   "metadata": {
    "id": "g_aIkdv84reb"
   },
   "outputs": [],
   "source": [
    "def Delete_Data():\n",
    "  # Connecting to sqlite\n",
    "  conn = sqlite3.connect('Practice_Lab.db')\n",
    "\n",
    "  # Creating a cursor object using\n",
    "  # the cursor() method\n",
    "  cursor = conn.cursor()\n",
    "\n",
    "  # Updating\n",
    "  cursor.execute('''DELETE FROM INSTRUCTOR WHERE Instructor_id=100007;''')\n",
    "\n",
    "  # Commit your changes in the database\n",
    "  conn.commit()\n",
    "\n",
    "  # Closing the connection\n",
    "  conn.close() "
   ]
  },
  {
   "cell_type": "code",
   "execution_count": 9,
   "metadata": {
    "id": "2dQbJGgW4rZO"
   },
   "outputs": [],
   "source": [
    "def Display_Data():\n",
    "  # connect withe the myTable database\n",
    "  connection = sqlite3.connect(\"Practice_Lab.db\")\n",
    "\n",
    "  # cursor object\n",
    "  crsr = connection.cursor() \n",
    "\n",
    "  # execute the command to fetch all the data from the table emp\n",
    "  crsr.execute(\"SELECT * FROM INSTRUCTOR\")\n",
    "\n",
    "  # store all the fetched data in the ans variable\n",
    "  ans = crsr.fetchall()\n",
    "\n",
    "  # Since we have already selected all the data entries\n",
    "  # using the \"SELECT *\" SQL command and stored them in\n",
    "  # the ans variable, all we need to do now is to print\n",
    "  # out the ans variable\n",
    "  for i in ans:\n",
    "    print(i)"
   ]
  },
  {
   "cell_type": "code",
   "execution_count": 10,
   "metadata": {
    "id": "K9OzgCDhFid7"
   },
   "outputs": [],
   "source": [
    "def max_salary():\n",
    "  connection = sqlite3.connect(\"Practice_Lab.db\")\n",
    "  crsr = connection.cursor()\n",
    "  crsr.execute('''SELECT MAX(Gross_Salary) FROM INSTRUCTOR;''')\n",
    "  ans = crsr.fetchall()\n",
    "  print(ans)\n",
    "  connection.close() "
   ]
  },
  {
   "cell_type": "code",
   "execution_count": 11,
   "metadata": {
    "id": "6WVYwk5BFibj"
   },
   "outputs": [],
   "source": [
    "def avg_salary():\n",
    "  connection = sqlite3.connect(\"Practice_Lab.db\")\n",
    "  crsr = connection.cursor()\n",
    "  crsr.execute('''SELECT AVG(Gross_Salary) FROM INSTRUCTOR;''')\n",
    "  ans = crsr.fetchall()\n",
    "  print(ans)\n",
    "  connection.close()"
   ]
  },
  {
   "cell_type": "code",
   "execution_count": 12,
   "metadata": {
    "id": "I-CxxyQXFiZA"
   },
   "outputs": [],
   "source": [
    "def count():\n",
    "  connection = sqlite3.connect(\"Practice_Lab.db\")\n",
    "  crsr = connection.cursor()\n",
    "  crsr.execute('''SELECT COUNT(Instructor_id) FROM INSTRUCTOR;''')\n",
    "  ans = crsr.fetchall()\n",
    "  print(ans)\n",
    "  connection.close() "
   ]
  },
  {
   "cell_type": "code",
   "execution_count": 13,
   "metadata": {
    "id": "gOlZGN36II5e"
   },
   "outputs": [],
   "source": [
    "def limit_5():\n",
    "  connection = sqlite3.connect(\"Practice_Lab.db\")\n",
    "  crsr = connection.cursor()\n",
    "  crsr.execute('''SELECT * FROM INSTRUCTOR LIMIT 5''')\n",
    "  ans = crsr.fetchall()\n",
    "  print(ans)\n",
    "  connection.close()"
   ]
  },
  {
   "cell_type": "code",
   "execution_count": 14,
   "metadata": {
    "id": "j-ug0Tl9I_Hf"
   },
   "outputs": [],
   "source": [
    "def upper_names():\n",
    "  connection = sqlite3.connect(\"Practice_Lab.db\")\n",
    "  crsr = connection.cursor()\n",
    "  crsr.execute('''SELECT UPPER(Name) FROM INSTRUCTOR''')\n",
    "  ans = crsr.fetchall()\n",
    "  #for i in ans:\n",
    "  print(ans)\n",
    "  connection.close()"
   ]
  },
  {
   "cell_type": "code",
   "execution_count": 15,
   "metadata": {
    "colab": {
     "base_uri": "https://localhost:8080/"
    },
    "id": "X1urH9fl4rWx",
    "outputId": "d6bf5dd6-a4b4-4648-ac47-ece17afa12f1"
   },
   "outputs": [
    {
     "name": "stdout",
     "output_type": "stream",
     "text": [
      "Connected to the database\n",
      "Table created\n"
     ]
    }
   ],
   "source": [
    "#Creating the database\n",
    "# connecting to the database and it will create a database if it doesn't exist and then connects to it\n",
    "connection = sqlite3.connect(\"Practice_Lab.db\")\n",
    "\n",
    "# cursor\n",
    "crsr = connection.cursor()\n",
    "# print statement will execute if there are no errors\n",
    "print(\"Connected to the database\")\n",
    "\n",
    "sql_command = \"\"\"\n",
    "  CREATE TABLE INSTRUCTOR (Instructor_id NUMBER(6), \n",
    "  Name VARCHAR(20), Designation VARCHAR(25), \n",
    "  Dept_name VARCHAR(25));\n",
    "  \"\"\"\n",
    "\n",
    "sql = \"DROP TABLE INSTRUCTOR\" \n",
    "#crsr.execute(sql)\n",
    "\n",
    "# execute the statement\n",
    "crsr.execute(sql_command)\n",
    "print(\"Table created\")\n",
    "\n",
    "# close the connection\n",
    "connection.close()"
   ]
  },
  {
   "cell_type": "code",
   "execution_count": 16,
   "metadata": {
    "id": "dGe1J0qL-yI_"
   },
   "outputs": [],
   "source": [
    "Display_Data()"
   ]
  },
  {
   "cell_type": "code",
   "execution_count": 17,
   "metadata": {
    "colab": {
     "base_uri": "https://localhost:8080/"
    },
    "id": "HQq0RKdE4rRq",
    "outputId": "25d18242-2849-4ecc-db86-efd7b8b99020"
   },
   "outputs": [
    {
     "name": "stdout",
     "output_type": "stream",
     "text": [
      "Database after Inserting into the data...\n",
      "(100001, 'Dr. SENTHILNATHAN T', 'Associate Professor', 'Computer Science')\n",
      "(100002, 'Dr. DEEPA V JOSE', 'Associate Professor', 'Computer Science')\n",
      "(100003, 'Dr ANILA E I', 'Professor', 'Physics')\n",
      "(100004, 'Dr GEORGE THOMAS C', 'Professor', 'Physics')\n",
      "(100005, 'Dr JIJU GILLARIOSE', 'Assistant Professor', 'Statistics')\n",
      "(100006, 'Dr SEENA THOMAS K', 'Assistant Professor', 'Statistics')\n",
      "(100007, 'Dr RUBY S M', 'Associate Professor', 'Maths')\n"
     ]
    }
   ],
   "source": [
    "print(\"Database after Inserting into the data...\")\n",
    "Insert_Data()\n",
    "Display_Data()"
   ]
  },
  {
   "cell_type": "code",
   "execution_count": 18,
   "metadata": {
    "colab": {
     "base_uri": "https://localhost:8080/"
    },
    "id": "jnhqhLL0-2gy",
    "outputId": "f3380ed1-8217-45c7-9081-e5df06cf5807"
   },
   "outputs": [
    {
     "name": "stdout",
     "output_type": "stream",
     "text": [
      "Contents after Updating the database ...\n",
      "(100001, 'Dr. SENTHILNATHAN T', 'Coordinator', 'Computer Science')\n",
      "(100002, 'Dr. DEEPA V JOSE', 'Associate Professor', 'Computer Science')\n",
      "(100003, 'Dr ANILA E I', 'Professor', 'Physics')\n",
      "(100004, 'Dr GEORGE THOMAS C', 'Professor', 'Physics')\n",
      "(100005, 'Dr JIJU GILLARIOSE', 'Assistant Professor', 'Statistics')\n",
      "(100006, 'Dr SEENA THOMAS K', 'Assistant Professor', 'Statistics')\n",
      "(100007, 'Dr RUBY S M', 'Associate Professor', 'Maths')\n"
     ]
    }
   ],
   "source": [
    "print(\"Contents after Updating the database ...\")\n",
    "Update_Data()\n",
    "Display_Data()"
   ]
  },
  {
   "cell_type": "code",
   "execution_count": 19,
   "metadata": {
    "colab": {
     "base_uri": "https://localhost:8080/"
    },
    "id": "c9ZAMm0U-5ST",
    "outputId": "ce7225d1-ed12-4b37-c91d-ab28434c37bf"
   },
   "outputs": [
    {
     "name": "stdout",
     "output_type": "stream",
     "text": [
      "To find Physics professors working in the institution...\n",
      "('Dr ANILA E I',)\n",
      "('Dr GEORGE THOMAS C',)\n"
     ]
    }
   ],
   "source": [
    "print(\"To find Physics professors working in the institution...\")\n",
    "Physics_prof()"
   ]
  },
  {
   "cell_type": "code",
   "execution_count": 20,
   "metadata": {
    "colab": {
     "base_uri": "https://localhost:8080/"
    },
    "id": "8Dbjk48s_FF4",
    "outputId": "c8bda255-4dee-4c20-8204-75627c41dd41"
   },
   "outputs": [
    {
     "name": "stdout",
     "output_type": "stream",
     "text": [
      "Contents after Altering the database ...\n",
      "(100001, 'Dr. SENTHILNATHAN T', 'Coordinator', 'Computer Science', 6000000)\n",
      "(100002, 'Dr. DEEPA V JOSE', 'Associate Professor', 'Computer Science', 5000000)\n",
      "(100003, 'Dr ANILA E I', 'Professor', 'Physics', 8000000)\n",
      "(100004, 'Dr GEORGE THOMAS C', 'Professor', 'Physics', 8000000)\n",
      "(100005, 'Dr JIJU GILLARIOSE', 'Assistant Professor', 'Statistics', 7500000)\n",
      "(100006, 'Dr SEENA THOMAS K', 'Assistant Professor', 'Statistics', 9000000)\n",
      "(100007, 'Dr RUBY S M', 'Associate Professor', 'Maths', 6000000)\n"
     ]
    }
   ],
   "source": [
    "print(\"Contents after Altering the database ...\")\n",
    "Alter_table()\n",
    "Display_Data()"
   ]
  },
  {
   "cell_type": "code",
   "execution_count": 21,
   "metadata": {
    "colab": {
     "base_uri": "https://localhost:8080/"
    },
    "id": "IGH6Jfdr_GfK",
    "outputId": "4571c602-aa16-4906-eb41-985af8075daf"
   },
   "outputs": [
    {
     "name": "stdout",
     "output_type": "stream",
     "text": [
      "Contents of the database after Deleting...\n",
      "(100001, 'Dr. SENTHILNATHAN T', 'Coordinator', 'Computer Science', 6000000)\n",
      "(100002, 'Dr. DEEPA V JOSE', 'Associate Professor', 'Computer Science', 5000000)\n",
      "(100003, 'Dr ANILA E I', 'Professor', 'Physics', 8000000)\n",
      "(100004, 'Dr GEORGE THOMAS C', 'Professor', 'Physics', 8000000)\n",
      "(100005, 'Dr JIJU GILLARIOSE', 'Assistant Professor', 'Statistics', 7500000)\n",
      "(100006, 'Dr SEENA THOMAS K', 'Assistant Professor', 'Statistics', 9000000)\n"
     ]
    }
   ],
   "source": [
    "print(\"Contents of the database after Deleting...\")\n",
    "Delete_Data()\n",
    "Display_Data()"
   ]
  },
  {
   "cell_type": "code",
   "execution_count": 22,
   "metadata": {
    "colab": {
     "base_uri": "https://localhost:8080/"
    },
    "id": "V63U3_UxARyl",
    "outputId": "aa617460-aaf0-4f84-84a0-303c9be657d4"
   },
   "outputs": [
    {
     "name": "stdout",
     "output_type": "stream",
     "text": [
      "The maximum Gross salary is: \n",
      "[(9000000,)]\n"
     ]
    }
   ],
   "source": [
    "print(\"The maximum Gross salary is: \")\n",
    "max_salary()"
   ]
  },
  {
   "cell_type": "code",
   "execution_count": 23,
   "metadata": {
    "colab": {
     "base_uri": "https://localhost:8080/"
    },
    "id": "W21BzPZ9ARv3",
    "outputId": "f7e58a23-b6f8-481b-ef86-acd3d6deb3b7"
   },
   "outputs": [
    {
     "name": "stdout",
     "output_type": "stream",
     "text": [
      "The average Gross salary is: \n",
      "[(7250000.0,)]\n"
     ]
    }
   ],
   "source": [
    "print(\"The average Gross salary is: \")\n",
    "avg_salary() "
   ]
  },
  {
   "cell_type": "code",
   "execution_count": 24,
   "metadata": {
    "colab": {
     "base_uri": "https://localhost:8080/"
    },
    "id": "ZnlqOyaGGrsa",
    "outputId": "b31496e7-ad28-4612-c909-0060cb14c483"
   },
   "outputs": [
    {
     "name": "stdout",
     "output_type": "stream",
     "text": [
      "The total number of Instructors is: \n",
      "[(6,)]\n"
     ]
    }
   ],
   "source": [
    "print(\"The total number of Instructors is: \")\n",
    "count()"
   ]
  },
  {
   "cell_type": "code",
   "execution_count": 25,
   "metadata": {
    "colab": {
     "base_uri": "https://localhost:8080/"
    },
    "id": "PyRQ1sP-HK3E",
    "outputId": "ad1375b7-e1e7-4071-d183-c93b21a03748"
   },
   "outputs": [
    {
     "name": "stdout",
     "output_type": "stream",
     "text": [
      "To get only the first 5 Instructors details: \n",
      "[(100001, 'Dr. SENTHILNATHAN T', 'Coordinator', 'Computer Science', 6000000), (100002, 'Dr. DEEPA V JOSE', 'Associate Professor', 'Computer Science', 5000000), (100003, 'Dr ANILA E I', 'Professor', 'Physics', 8000000), (100004, 'Dr GEORGE THOMAS C', 'Professor', 'Physics', 8000000), (100005, 'Dr JIJU GILLARIOSE', 'Assistant Professor', 'Statistics', 7500000)]\n"
     ]
    }
   ],
   "source": [
    "print(\"To get only the first 5 Instructors details: \")\n",
    "limit_5()"
   ]
  },
  {
   "cell_type": "code",
   "execution_count": 26,
   "metadata": {
    "colab": {
     "base_uri": "https://localhost:8080/"
    },
    "id": "Iq-YQLuFIa5z",
    "outputId": "7c5f5906-67d0-4103-e228-1beddc0b9a1a"
   },
   "outputs": [
    {
     "name": "stdout",
     "output_type": "stream",
     "text": [
      "To get the Instructor names in Uppercase: \n",
      "[('DR. SENTHILNATHAN T',), ('DR. DEEPA V JOSE',), ('DR ANILA E I',), ('DR GEORGE THOMAS C',), ('DR JIJU GILLARIOSE',), ('DR SEENA THOMAS K',)]\n"
     ]
    }
   ],
   "source": [
    "print(\"To get the Instructor names in Uppercase: \")\n",
    "upper_names()"
   ]
  }
 ],
 "metadata": {
  "colab": {
   "collapsed_sections": [],
   "name": "2148023_PL_SQL.ipynb",
   "provenance": []
  },
  "kernelspec": {
   "display_name": "Python 3",
   "language": "python",
   "name": "python3"
  },
  "language_info": {
   "codemirror_mode": {
    "name": "ipython",
    "version": 3
   },
   "file_extension": ".py",
   "mimetype": "text/x-python",
   "name": "python",
   "nbconvert_exporter": "python",
   "pygments_lexer": "ipython3",
   "version": "3.8.8"
  }
 },
 "nbformat": 4,
 "nbformat_minor": 1
}
