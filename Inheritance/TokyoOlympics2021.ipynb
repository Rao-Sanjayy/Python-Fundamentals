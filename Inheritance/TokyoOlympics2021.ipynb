{
 "cells": [
  {
   "cell_type": "markdown",
   "metadata": {
    "id": "YyGnHF7VUQ_p"
   },
   "source": [
    "# INHERITANCE IN PYTHON\n",
    "*   Author: Sanjay S Rao\n",
    "*   LinkedIn: https://www.linkedin.com/in/sanjay-srinivasa-rao-b67a771a0/"
   ]
  },
  {
   "cell_type": "markdown",
   "metadata": {
    "id": "kmdsuWnuUvxq"
   },
   "source": [
    "**Inheritance** is the capability of one class to derive or inherit the properties from another class. The benefits of inheritance are: \n",
    " \n",
    "1. It represents real-world relationships well.\n",
    "2. It provides reusability of a code. We don’t have to write the same code again and again. Also, it allows us to add more features to a class without modifying it.\n",
    "3. It is transitive in nature, which means that if class B inherits from another class A, then all the subclasses of B would automatically inherit from class A."
   ]
  },
  {
   "cell_type": "markdown",
   "metadata": {
    "id": "nxk9rrp0UQ4K"
   },
   "source": [
    "### Problem Statement\n",
    "Implement a program to demonstrate the working of hybrid inheritance to solve a real world problem considering Tokyo 2020 Olympics as your arena. Make sure that you are using relevant validations"
   ]
  },
  {
   "cell_type": "markdown",
   "metadata": {
    "id": "nOBwilSEUF1V"
   },
   "source": [
    "### Importing necessary packages"
   ]
  },
  {
   "cell_type": "code",
   "execution_count": null,
   "metadata": {
    "id": "dLJ0ry6lCoa2"
   },
   "outputs": [],
   "source": [
    "import pandas as pd"
   ]
  },
  {
   "cell_type": "markdown",
   "metadata": {
    "id": "6lwt1EA0ULKE"
   },
   "source": [
    "### Loading the datasets the are used in this exercise"
   ]
  },
  {
   "cell_type": "code",
   "execution_count": null,
   "metadata": {
    "id": "F6QNXVS6GIup"
   },
   "outputs": [],
   "source": [
    "#loading the datasets into specified variables\n",
    "o_teams_data = pd.read_excel(\"/content/Teams.xlsx\")\n",
    "o_athletes_data = pd.read_excel(\"/content/Athletes.xlsx\")\n",
    "o_medals_data = pd.read_excel(\"/content/Medals.xlsx\")\n",
    "p_teams_data = pd.read_csv(\"/content/paralympic-teams.csv\")\n",
    "p_athletes_data = pd.read_csv(\"/content/paralympic-athletes.csv\")\n",
    "p_medals_data = pd.read_csv(\"/content/paralympic-medal-tally.csv\")"
   ]
  },
  {
   "cell_type": "markdown",
   "metadata": {
    "id": "3K0wtdlIU7km"
   },
   "source": [
    "### Creating the Parent Class (Super class) - TOKYO"
   ]
  },
  {
   "cell_type": "code",
   "execution_count": null,
   "metadata": {
    "id": "9atZBNrbCrQF"
   },
   "outputs": [],
   "source": [
    "class Tokyo:\n",
    "  def __init__(self):\n",
    "    self.intro = \"\"\"\n",
    "    ****************Welcome To Tokyo Olympics 2020/21****************\n",
    "                 \"\"\"\n",
    "    self.place = \"Tokyo, Japan\"\n",
    "  \n",
    "  def ceremony(self):\n",
    "    self.olympics =f\"\"\"\n",
    "    The Olympic Games was held from 23rd July 2021 to \n",
    "    8th Aug 2021 at {self.place}\"\"\"\n",
    "    self.paralympics = f\"\"\"\n",
    "    The Paralympic Games was held from 24th Aug 2021 to \n",
    "    5th Sept 2021 at {self.place}\"\"\"\n",
    "\n",
    "  def olympics_datasets(self):\n",
    "    #o_teams_data = pd.read_excel(\"/content/Teams.xlsx\")\n",
    "    o_team_india = o_teams_data.loc[o_teams_data['Name'] == 'India']\n",
    "    self.o_ind = o_team_india\n",
    "    #o_athletes_data = pd.read_excel(\"/content/Athletes.xlsx\")\n",
    "    o_athletes_india = o_athletes_data.loc[o_athletes_data['NOC'] == 'India']\n",
    "    self.o_athletes = o_athletes_india\n",
    "    #o_medals_data = pd.read_excel(\"/content/Medals.xlsx\")\n",
    "    self.o_medals_data = o_medals_data\n",
    "    o_medals_india = o_medals_data.loc[o_medals_data['Team/NOC'] == 'India']\n",
    "    self.o_medals = o_medals_india\n",
    "\n",
    "  def paralympics_datasets(self):\n",
    "    #p_teams_data = pd.read_csv(\"/content/paralympic-teams.csv\")\n",
    "    self.p_teams = p_teams_data\n",
    "    p_team_india = p_teams_data.loc[p_teams_data['CountryCode'] == 'IND']\n",
    "    self.p_ind = p_team_india\n",
    "    #p_athletes_data = pd.read_csv(\"/content/paralympic-athletes.csv\")\n",
    "    p_athletes_india = p_athletes_data.loc[p_athletes_data['CountryCode'] == 'IND']\n",
    "    self.p_athletes = p_athletes_india\n",
    "    #p_medals_data = pd.read_csv(\"/content/paralympic-medal-tally.csv\")\n",
    "    self.p_medals_data = p_medals_data\n",
    "    p_medals_india = p_medals_data.loc[p_medals_data['Country-Code'] == 'IND']\n",
    "    self.p_medals = p_medals_india"
   ]
  },
  {
   "cell_type": "code",
   "execution_count": null,
   "metadata": {
    "id": "5YDQNz-JCtnE"
   },
   "outputs": [],
   "source": [
    "#creating the object for the Tokyo class\n",
    "#obj = Tokyo()\n",
    "#print(obj.intro,\"\\n\") #introduction message \n",
    "#obj.ceremony() #calling the ceremony function\n",
    "#obj.olympics_datasets() #calling the dataset functions\n",
    "#obj.paralympics_datasets() #calling the dataset functions"
   ]
  },
  {
   "cell_type": "markdown",
   "metadata": {
    "id": "HPXVY0bWVCnl"
   },
   "source": [
    "### Creating the Subclasses of Tokyo superclass\n",
    "\n",
    "#### Illustrating Hierarchical inheritance."
   ]
  },
  {
   "cell_type": "code",
   "execution_count": null,
   "metadata": {
    "id": "y-XuL362DA3o"
   },
   "outputs": [],
   "source": [
    "class Olympic_games(Tokyo): \n",
    "  def __init__(self):\n",
    "    self.olympics_datasets()\n",
    "  def events(self):\n",
    "    print(\"The events that were held at the Olympic Games are:\")\n",
    "    all_events = pd.unique(o_teams_data['Discipline'])\n",
    "    self.all_events = all_events\n",
    "  def top_5_countries(self):\n",
    "    top = obj.o_medals_data.head(5)\n",
    "    self.top = top\n",
    "    print(\"The top five countries are:\",f\"\\n {self.top}\")\n",
    "  def indian_o_team(self):\n",
    "    team = obj.o_ind\n",
    "    self.team = team\n",
    "    print(\"Our Indian teams currently participating are:\", f\" \\n {self.team}\")\n",
    "  def indian_o_athletes(self):\n",
    "    athletes = obj.o_athletes\n",
    "    self.athletes = athletes\n",
    "    print(\"The list of all Indian atheletes:\",f\"\\n {self.athletes}\")"
   ]
  },
  {
   "cell_type": "code",
   "execution_count": null,
   "metadata": {
    "id": "aMa8hS7qEJi6"
   },
   "outputs": [],
   "source": [
    "#obj1 = Olympic_games()\n",
    "#obj.ceremony()\n",
    "#print(obj.olympics,\"\\n\")\n",
    "#obj1.events()\n",
    "#print(obj1.all_events,'\\n')\n",
    "#obj.olympics_datasets()\n",
    "#obj1.top_5_countries()\n",
    "#obj1.indian_o_team()\n",
    "#obj1.indian_o_athletes()"
   ]
  },
  {
   "cell_type": "code",
   "execution_count": null,
   "metadata": {
    "id": "RSjMhLj9Egsr"
   },
   "outputs": [],
   "source": [
    "class Paralympic_games(Tokyo): \n",
    "  def p_events(self):\n",
    "    print(\"The events that were held at the Paralympic Games are:\")\n",
    "    p_all_events = pd.unique(obj.p_teams['Sport'])\n",
    "    self.p_all_events = p_all_events\n",
    "  def top_5_countries(self):\n",
    "    top = obj.p_medals_data.head(5)\n",
    "    self.top = top\n",
    "    print(f\"The top five countries are:\",f\"\\n{self.top}\",\"\\n\")\n",
    "  def indian_p_teams(self):\n",
    "    team = obj.p_ind\n",
    "    self.team = team\n",
    "    print(\"Our Indian teams currently participating are:\", f\" \\n {self.team}\",\"\\n\")\n",
    "  def indian_p_athletes(self):\n",
    "    athletes = obj.p_athletes\n",
    "    self.athletes = athletes\n",
    "    print(\"The list of all Indian atheletes:\",f\"\\n {self.athletes}\",\"\\n\")"
   ]
  },
  {
   "cell_type": "code",
   "execution_count": null,
   "metadata": {
    "id": "SFrxUPGPGzQl"
   },
   "outputs": [],
   "source": [
    "#obj2 = Paralympic_games()\n",
    "#print(obj.paralympics,\"\\n\")\n",
    "#obj2.p_events()\n",
    "#print(obj2.p_all_events,'\\n')\n",
    "#obj2.top_5_countries()\n",
    "#obj2.indian_p_athletes()\n",
    "#obj2.indian_p_teams()"
   ]
  },
  {
   "cell_type": "markdown",
   "metadata": {
    "id": "l0tD4nb6VJW0"
   },
   "source": [
    "#### Illustrating Multiple Inheritance by inheriting the properties of Class Olympic_games and Paralympic_games into Medals class."
   ]
  },
  {
   "cell_type": "code",
   "execution_count": null,
   "metadata": {
    "id": "teV3vhuQG2-_"
   },
   "outputs": [],
   "source": [
    "class Medals(Olympic_games,Paralympic_games):\n",
    "  def __init__(self):\n",
    "    Paralympic_games.__init__(self)\n",
    "    Olympic_games.__init__(self)\n",
    "  def indian_o_medals(self):\n",
    "    o_medals = obj.o_medals\n",
    "    self.o_medals = o_medals\n",
    "    print(\"The medals won by Indians at the Olympic Games are:\",f\"\\n {self.o_medals}\",\"\\n\")\n",
    "  def indian_p_medals(self):\n",
    "    p_medals = obj.p_medals\n",
    "    self.p_medals = p_medals\n",
    "    print(\"The medals won by Indians at the Paralympic Games are:\",f\"\\n {self.p_medals}\",\"\\n\")"
   ]
  },
  {
   "cell_type": "code",
   "execution_count": null,
   "metadata": {
    "id": "rCYIxFNhG25x"
   },
   "outputs": [],
   "source": [
    "#obj3 = Medals()\n",
    "#obj3.indian_o_medals()\n",
    "#obj3.indian_p_medals()"
   ]
  },
  {
   "cell_type": "markdown",
   "metadata": {
    "id": "NL90nFrZVriR"
   },
   "source": [
    "**Hierarchical and Multiple Inheritances together make up the HYBRID INHERITANCE**"
   ]
  },
  {
   "cell_type": "markdown",
   "metadata": {
    "id": "VILMq6MZV1N-"
   },
   "source": [
    "### Creating an interactive block to output the desired data."
   ]
  },
  {
   "cell_type": "code",
   "execution_count": null,
   "metadata": {
    "colab": {
     "base_uri": "https://localhost:8080/"
    },
    "id": "7rTRecHEG77P",
    "outputId": "241dd396-48ef-442c-8d85-a758464f7e3a"
   },
   "outputs": [
    {
     "name": "stdout",
     "output_type": "stream",
     "text": [
      "\n",
      "    ****************Welcome To Tokyo Olympics 2020/21****************\n",
      "                 \n",
      "\n",
      "The Olympics is divided into two parts, choose which one you would like to know\n",
      "about:\n",
      "1. Olympic Games\n",
      "2. Paralympic Games\n",
      "3. Medals Won by India \n",
      "\n",
      "1, 2 or 3 : 1\n",
      "\n",
      "    The Olympic Games was held from 23rd July 2021 to \n",
      "    8th Aug 2021 at Tokyo, Japan \n",
      "\n",
      "\n",
      "      What would you like to know about here?\n",
      "      1. All Events\n",
      "      2. Top 5 Countries on the leaderboard\n",
      "      3. Indian Teams\n",
      "      4. Indian Athletes\n",
      "      \n",
      "Enter your choice: 3\n",
      "Our Indian teams currently participating are:  \n",
      "       Name Discipline    NOC                 Event\n",
      "37   India    Archery  India            Men's Team\n",
      "38   India    Archery  India            Mixed Team\n",
      "161  India  Athletics  India  4 x 400m Relay Mixed\n",
      "162  India  Athletics  India  Men's 4 x 400m Relay\n",
      "467  India     Hockey  India                   Men\n",
      "468  India     Hockey  India                 Women\n"
     ]
    }
   ],
   "source": [
    "obj = Tokyo()\n",
    "print(obj.intro)\n",
    "print(\"\"\"\n",
    "The Olympics is divided into two parts, choose which one you would like to know\n",
    "about:\n",
    "1. Olympic Games\n",
    "2. Paralympic Games\n",
    "3. Medals Won by India \n",
    "\"\"\")\n",
    "choice = int(input(\"1, 2 or 3 : \"))\n",
    "i=0\n",
    "while i>= 0:\n",
    "  i = -1\n",
    "  if choice == 1:\n",
    "      obj.ceremony()\n",
    "      obj1 = Olympic_games()\n",
    "      print(obj.olympics,\"\\n\")\n",
    "      print(\"\"\"\n",
    "      What would you like to know about here?\n",
    "      1. All Events\n",
    "      2. Top 5 Countries on the leaderboard\n",
    "      3. Indian Teams\n",
    "      4. Indian Athletes\n",
    "      \"\"\")\n",
    "      o_choice = int(input(\"Enter your choice: \"))\n",
    "      j=0\n",
    "      while j>= 0:\n",
    "        j = -1\n",
    "        if o_choice == 1:\n",
    "          obj1.events()\n",
    "          print(obj1.all_events,'\\n')\n",
    "        elif o_choice == 2:\n",
    "          obj.olympics_datasets()\n",
    "          obj1.top_5_countries()\n",
    "        elif o_choice == 3:\n",
    "          obj.olympics_datasets()\n",
    "          obj1.indian_o_team()\n",
    "        elif o_choice == 4:\n",
    "          obj.olympics_datasets()\n",
    "          print(obj1.indian_o_athletes())\n",
    "        else:\n",
    "          j = 1\n",
    "          print(\"Invalid input. Please re-enter again\")\n",
    "          o_choice = int(input(\"Enter your choice: \"))\n",
    "\n",
    "  elif choice == 2:\n",
    "      obj.ceremony()\n",
    "      obj2 = Paralympic_games()\n",
    "      print(obj.paralympics,\"\\n\")\n",
    "      print(\"\"\"\n",
    "      What would you like to know about here?\n",
    "      1. All Events\n",
    "      2. Top 5 Countries on the leaderboard\n",
    "      3. Indian Teams\n",
    "      4. Indian Athletes\n",
    "      \"\"\")\n",
    "      p_choice = int(input(\"Enter your choice: \"))\n",
    "      j=0\n",
    "      while j>= 0:\n",
    "        j = -1\n",
    "        if p_choice == 1:\n",
    "          obj2.p_events()\n",
    "          print(obj2.p_all_events,'\\n')\n",
    "        elif p_choice == 2:\n",
    "          obj.paralympics_datasets()\n",
    "          obj2.top_5_countries()\n",
    "        elif p_choice == 3:\n",
    "          obj.paralympics_datasets()\n",
    "          obj2.indian_p_teams()\n",
    "        elif p_choice == 4:\n",
    "          obj.paralympics_datasets()\n",
    "          print(obj2.indian_p_athletes())\n",
    "        else:\n",
    "          j = 1\n",
    "          print(\"Invalid input. Please re-enter again\")\n",
    "          p_choice = int(input(\"Enter your choice: \"))\n",
    "  elif choice == 3:\n",
    "    print(\"\"\"\n",
    "    In Tokyo Olympics 2021, India showed great determination and our efforts\n",
    "    did not go in vain. We were able to bag few medals including Gold!\n",
    "    Select the type of Games to check the medal count of India.\n",
    "    1. Olympic Games\n",
    "    2. Paralympic Games \n",
    "    \"\"\")\n",
    "    m_choice = int(input(\"1 or 2 : \"))\n",
    "    obj3 = Medals()\n",
    "    k=0\n",
    "    while k>=0:\n",
    "      k = -1\n",
    "      if m_choice == 1:\n",
    "        obj.olympics_datasets()\n",
    "        obj3.indian_o_medals()\n",
    "      elif m_choice == 2:\n",
    "        obj.paralympics_datasets()\n",
    "        obj3.indian_p_medals()\n",
    "      else:\n",
    "        k = 1\n",
    "        print(\"Please enter a valid choice!\")\n",
    "        m_choice = int(input(\"1 or 2 : \"))\n",
    "\n",
    "  else:\n",
    "      i = 1\n",
    "      print(\"Invalid input. Please re-enter again\")\n",
    "      choice = int(input(\"1, 2 or 3 : \"))"
   ]
  },
  {
   "cell_type": "markdown",
   "metadata": {
    "id": "X2ZdTB6EUCYE"
   },
   "source": [
    "## Validation"
   ]
  },
  {
   "cell_type": "code",
   "execution_count": null,
   "metadata": {
    "colab": {
     "base_uri": "https://localhost:8080/",
     "height": 461
    },
    "id": "ti5hNtVVG74P",
    "outputId": "57123fc8-4f7d-4858-eb4d-b8dbe977d5e8"
   },
   "outputs": [
    {
     "name": "stdout",
     "output_type": "stream",
     "text": [
      "\n",
      "    ****************Welcome To Tokyo Olympics 2020/21****************\n",
      "                 \n",
      "\n",
      "The Olympics is divided into two parts, choose which one you would like to know\n",
      "about:\n",
      "1. Olympic Games\n",
      "2. Paralympic Games\n",
      "3. Medals Won by India \n",
      "\n",
      "1, 2 or 3 : 4\n",
      "Invalid input. Please re-enter again\n",
      "1, 2 or 3 : 5\n",
      "Invalid input. Please re-enter again\n",
      "1, 2 or 3 : sad\n"
     ]
    },
    {
     "ename": "ValueError",
     "evalue": "ignored",
     "output_type": "error",
     "traceback": [
      "\u001b[0;31m---------------------------------------------------------------------------\u001b[0m",
      "\u001b[0;31mValueError\u001b[0m                                Traceback (most recent call last)",
      "\u001b[0;32m<ipython-input-121-48832f758b4c>\u001b[0m in \u001b[0;36m<module>\u001b[0;34m()\u001b[0m\n\u001b[1;32m    103\u001b[0m       \u001b[0mi\u001b[0m \u001b[0;34m=\u001b[0m \u001b[0;36m1\u001b[0m\u001b[0;34m\u001b[0m\u001b[0;34m\u001b[0m\u001b[0m\n\u001b[1;32m    104\u001b[0m       \u001b[0mprint\u001b[0m\u001b[0;34m(\u001b[0m\u001b[0;34m\"Invalid input. Please re-enter again\"\u001b[0m\u001b[0;34m)\u001b[0m\u001b[0;34m\u001b[0m\u001b[0;34m\u001b[0m\u001b[0m\n\u001b[0;32m--> 105\u001b[0;31m       \u001b[0mchoice\u001b[0m \u001b[0;34m=\u001b[0m \u001b[0mint\u001b[0m\u001b[0;34m(\u001b[0m\u001b[0minput\u001b[0m\u001b[0;34m(\u001b[0m\u001b[0;34m\"1, 2 or 3 : \"\u001b[0m\u001b[0;34m)\u001b[0m\u001b[0;34m)\u001b[0m\u001b[0;34m\u001b[0m\u001b[0;34m\u001b[0m\u001b[0m\n\u001b[0m",
      "\u001b[0;31mValueError\u001b[0m: invalid literal for int() with base 10: 'sad'"
     ]
    }
   ],
   "source": [
    "obj = Tokyo()\n",
    "print(obj.intro)\n",
    "print(\"\"\"\n",
    "The Olympics is divided into two parts, choose which one you would like to know\n",
    "about:\n",
    "1. Olympic Games\n",
    "2. Paralympic Games\n",
    "3. Medals Won by India \n",
    "\"\"\")\n",
    "choice = int(input(\"1, 2 or 3 : \"))\n",
    "i=0\n",
    "while i>= 0:\n",
    "  i = -1\n",
    "  if choice == 1:\n",
    "      obj.ceremony()\n",
    "      obj1 = Olympic_games()\n",
    "      print(obj.olympics,\"\\n\")\n",
    "      print(\"\"\"\n",
    "      What would you like to know about here?\n",
    "      1. All Events\n",
    "      2. Top 5 Countries on the leaderboard\n",
    "      3. Indian Teams\n",
    "      4. Indian Athletes\n",
    "      \"\"\")\n",
    "      o_choice = int(input(\"Enter your choice: \"))\n",
    "      j=0\n",
    "      while j>= 0:\n",
    "        j = -1\n",
    "        if o_choice == 1:\n",
    "          obj1.events()\n",
    "          print(obj1.all_events,'\\n')\n",
    "        elif o_choice == 2:\n",
    "          obj.olympics_datasets()\n",
    "          obj1.top_5_countries()\n",
    "        elif o_choice == 3:\n",
    "          obj.olympics_datasets()\n",
    "          obj1.indian_o_team()\n",
    "        elif o_choice == 4:\n",
    "          obj.olympics_datasets()\n",
    "          print(obj1.indian_o_athletes())\n",
    "        else:\n",
    "          j = 1\n",
    "          print(\"Invalid input. Please re-enter again\")\n",
    "          o_choice = int(input(\"Enter your choice: \"))\n",
    "\n",
    "  elif choice == 2:\n",
    "      obj.ceremony()\n",
    "      obj2 = Paralympic_games()\n",
    "      print(obj.paralympics,\"\\n\")\n",
    "      print(\"\"\"\n",
    "      What would you like to know about here?\n",
    "      1. All Events\n",
    "      2. Top 5 Countries on the leaderboard\n",
    "      3. Indian Teams\n",
    "      4. Indian Athletes\n",
    "      \"\"\")\n",
    "      p_choice = int(input(\"Enter your choice: \"))\n",
    "      j=0\n",
    "      while j>= 0:\n",
    "        j = -1\n",
    "        if p_choice == 1:\n",
    "          obj2.p_events()\n",
    "          print(obj2.p_all_events,'\\n')\n",
    "        elif p_choice == 2:\n",
    "          obj.paralympics_datasets()\n",
    "          obj2.top_5_countries()\n",
    "        elif p_choice == 3:\n",
    "          obj.paralympics_datasets()\n",
    "          obj2.indian_p_teams()\n",
    "        elif p_choice == 4:\n",
    "          obj.paralympics_datasets()\n",
    "          print(obj2.indian_p_athletes())\n",
    "        else:\n",
    "          j = 1\n",
    "          print(\"Invalid input. Please re-enter again\")\n",
    "          p_choice = int(input(\"Enter your choice: \"))\n",
    "  elif choice == 3:\n",
    "    print(\"\"\"\n",
    "    In Tokyo Olympics 2021, India showed great determination and our efforts\n",
    "    did not go in vain. We were able to bag few medals including Gold!\n",
    "    Select the type of Games to check the medal count of India.\n",
    "    1. Olympic Games\n",
    "    2. Paralympic Games \n",
    "    \"\"\")\n",
    "    m_choice = int(input(\"1 or 2 : \"))\n",
    "    \n",
    "    k=0\n",
    "    while k>=0:\n",
    "      k = -1\n",
    "      if m_choice == 1:\n",
    "        obj.olympics_datasets()\n",
    "        obj3.indian_o_medals()\n",
    "      elif m_choice == 2:\n",
    "        obj3 = Medals()\n",
    "        obj.paralympics_datasets()\n",
    "        obj3.indian_p_medals()\n",
    "      else:\n",
    "        k = 1\n",
    "        print(\"Please enter a valid choice!\")\n",
    "        m_choice = int(input(\"1 or 2 : \"))\n",
    "\n",
    "  else:\n",
    "      i = 1\n",
    "      print(\"Invalid input. Please re-enter again\")\n",
    "      choice = int(input(\"1, 2 or 3 : \"))"
   ]
  },
  {
   "cell_type": "code",
   "execution_count": null,
   "metadata": {
    "colab": {
     "base_uri": "https://localhost:8080/"
    },
    "id": "U008zbTHWC55",
    "outputId": "a988dfef-160c-4989-be17-a3cfbe840d8c"
   },
   "outputs": [
    {
     "name": "stdout",
     "output_type": "stream",
     "text": [
      "\n",
      "    ****************Welcome To Tokyo Olympics 2020/21****************\n",
      "                 \n",
      "\n",
      "The Olympics is divided into two parts, choose which one you would like to know\n",
      "about:\n",
      "1. Olympic Games\n",
      "2. Paralympic Games\n",
      "3. Medals Won by India \n",
      "\n",
      "1, 2 or 3 : 4\n",
      "Invalid input. Please re-enter again\n",
      "1, 2 or 3 : 6\n",
      "Invalid input. Please re-enter again\n",
      "1, 2 or 3 : 1\n",
      "\n",
      "    The Olympic Games was held from 23rd July 2021 to \n",
      "    8th Aug 2021 at Tokyo, Japan \n",
      "\n",
      "\n",
      "      What would you like to know about here?\n",
      "      1. All Events\n",
      "      2. Top 5 Countries on the leaderboard\n",
      "      3. Indian Teams\n",
      "      4. Indian Athletes\n",
      "      \n",
      "Enter your choice: 6\n",
      "Invalid input. Please re-enter again\n",
      "Enter your choice: 7\n",
      "Invalid input. Please re-enter again\n",
      "Enter your choice: 2\n",
      "The top five countries are: \n",
      "    Rank                    Team/NOC  Gold  Silver  Bronze  Total  Rank by Total\n",
      "0     1    United States of America    39      41      33    113              1\n",
      "1     2  People's Republic of China    38      32      18     88              2\n",
      "2     3                       Japan    27      14      17     58              5\n",
      "3     4               Great Britain    22      21      22     65              4\n",
      "4     5                         ROC    20      28      23     71              3\n"
     ]
    }
   ],
   "source": [
    "obj = Tokyo()\n",
    "print(obj.intro)\n",
    "print(\"\"\"\n",
    "The Olympics is divided into two parts, choose which one you would like to know\n",
    "about:\n",
    "1. Olympic Games\n",
    "2. Paralympic Games\n",
    "3. Medals Won by India \n",
    "\"\"\")\n",
    "choice = int(input(\"1, 2 or 3 : \"))\n",
    "i=0\n",
    "while i>= 0:\n",
    "  i = -1\n",
    "  if choice == 1:\n",
    "      obj.ceremony()\n",
    "      obj1 = Olympic_games()\n",
    "      print(obj.olympics,\"\\n\")\n",
    "      print(\"\"\"\n",
    "      What would you like to know about here?\n",
    "      1. All Events\n",
    "      2. Top 5 Countries on the leaderboard\n",
    "      3. Indian Teams\n",
    "      4. Indian Athletes\n",
    "      \"\"\")\n",
    "      o_choice = int(input(\"Enter your choice: \"))\n",
    "      j=0\n",
    "      while j>= 0:\n",
    "        j = -1\n",
    "        if o_choice == 1:\n",
    "          obj1.events()\n",
    "          print(obj1.all_events,'\\n')\n",
    "        elif o_choice == 2:\n",
    "          obj.olympics_datasets()\n",
    "          obj1.top_5_countries()\n",
    "        elif o_choice == 3:\n",
    "          obj.olympics_datasets()\n",
    "          obj1.indian_o_team()\n",
    "        elif o_choice == 4:\n",
    "          obj.olympics_datasets()\n",
    "          print(obj1.indian_o_athletes())\n",
    "        else:\n",
    "          j = 1\n",
    "          print(\"Invalid input. Please re-enter again\")\n",
    "          o_choice = int(input(\"Enter your choice: \"))\n",
    "\n",
    "  elif choice == 2:\n",
    "      obj.ceremony()\n",
    "      obj2 = Paralympic_games()\n",
    "      print(obj.paralympics,\"\\n\")\n",
    "      print(\"\"\"\n",
    "      What would you like to know about here?\n",
    "      1. All Events\n",
    "      2. Top 5 Countries on the leaderboard\n",
    "      3. Indian Teams\n",
    "      4. Indian Athletes\n",
    "      \"\"\")\n",
    "      p_choice = int(input(\"Enter your choice: \"))\n",
    "      j=0\n",
    "      while j>= 0:\n",
    "        j = -1\n",
    "        if p_choice == 1:\n",
    "          obj2.p_events()\n",
    "          print(obj2.p_all_events,'\\n')\n",
    "        elif p_choice == 2:\n",
    "          obj.paralympics_datasets()\n",
    "          obj2.top_5_countries()\n",
    "        elif p_choice == 3:\n",
    "          obj.paralympics_datasets()\n",
    "          obj2.indian_p_teams()\n",
    "        elif p_choice == 4:\n",
    "          obj.paralympics_datasets()\n",
    "          print(obj2.indian_p_athletes())\n",
    "        else:\n",
    "          j = 1\n",
    "          print(\"Invalid input. Please re-enter again\")\n",
    "          p_choice = int(input(\"Enter your choice: \"))\n",
    "  elif choice == 3:\n",
    "    print(\"\"\"\n",
    "    In Tokyo Olympics 2021, India showed great determination and our efforts\n",
    "    did not go in vain. We were able to bag few medals including Gold!\n",
    "    Select the type of Games to check the medal count of India.\n",
    "    1. Olympic Games\n",
    "    2. Paralympic Games \n",
    "    \"\"\")\n",
    "    m_choice = int(input(\"1 or 2 : \"))\n",
    "    \n",
    "    k=0\n",
    "    while k>=0:\n",
    "      k = -1\n",
    "      if m_choice == 1:\n",
    "        obj.olympics_datasets()\n",
    "        obj3.indian_o_medals()\n",
    "      elif m_choice == 2:\n",
    "        obj3 = Medals()\n",
    "        obj.paralympics_datasets()\n",
    "        obj3.indian_p_medals()\n",
    "      else:\n",
    "        k = 1\n",
    "        print(\"Please enter a valid choice!\")\n",
    "        m_choice = int(input(\"1 or 2 : \"))\n",
    "\n",
    "  else:\n",
    "      i = 1\n",
    "      print(\"Invalid input. Please re-enter again\")\n",
    "      choice = int(input(\"1, 2 or 3 : \"))"
   ]
  },
  {
   "cell_type": "code",
   "execution_count": null,
   "metadata": {
    "id": "Sxt9ePpuWHtA"
   },
   "outputs": [],
   "source": [
    "class Medals(Olympic_games,Paralympic_games):\n",
    "  def __init__(self):\n",
    "    Paralympic_games.__init__(self)\n",
    "    Olympic_games.__init__(self)\n",
    "  def indian_o_medals(self):\n",
    "    o_medals = obj.o_medals\n",
    "    self.o_medals = o_medals\n",
    "    print(\"The medals won by Indians at the Olympic Games are:\",f\"\\n {self.o_medals}\",\"\\n\")\n",
    "  def indian_p_medals(self):\n",
    "    p_medals = obj.p_medals\n",
    "    self.p_medals = p_medals\n",
    "    print(\"The medals won by Indians at the Paralympic Games are:\",f\"\\n {self.p_medals}\",\"\\n\")"
   ]
  },
  {
   "cell_type": "code",
   "execution_count": null,
   "metadata": {
    "colab": {
     "base_uri": "https://localhost:8080/",
     "height": 287
    },
    "id": "38MFuzhxWUWg",
    "outputId": "b7a8806e-3236-4833-e191-a387f5c0eed8"
   },
   "outputs": [
    {
     "ename": "AttributeError",
     "evalue": "ignored",
     "output_type": "error",
     "traceback": [
      "\u001b[0;31m---------------------------------------------------------------------------\u001b[0m",
      "\u001b[0;31mAttributeError\u001b[0m                            Traceback (most recent call last)",
      "\u001b[0;32m<ipython-input-131-4e50b1d0cf68>\u001b[0m in \u001b[0;36m<module>\u001b[0;34m()\u001b[0m\n\u001b[0;32m----> 1\u001b[0;31m \u001b[0mobj3\u001b[0m\u001b[0;34m.\u001b[0m\u001b[0mindian_p_medals\u001b[0m\u001b[0;34m(\u001b[0m\u001b[0;34m)\u001b[0m\u001b[0;34m\u001b[0m\u001b[0;34m\u001b[0m\u001b[0m\n\u001b[0m",
      "\u001b[0;32m<ipython-input-94-98d7be465c98>\u001b[0m in \u001b[0;36mindian_p_medals\u001b[0;34m(self)\u001b[0m\n\u001b[1;32m      8\u001b[0m     \u001b[0mprint\u001b[0m\u001b[0;34m(\u001b[0m\u001b[0;34m\"The medals won by Indians at the Olympic Games are:\"\u001b[0m\u001b[0;34m,\u001b[0m\u001b[0;34mf\"\\n {self.o_medals}\"\u001b[0m\u001b[0;34m,\u001b[0m\u001b[0;34m\"\\n\"\u001b[0m\u001b[0;34m)\u001b[0m\u001b[0;34m\u001b[0m\u001b[0;34m\u001b[0m\u001b[0m\n\u001b[1;32m      9\u001b[0m   \u001b[0;32mdef\u001b[0m \u001b[0mindian_p_medals\u001b[0m\u001b[0;34m(\u001b[0m\u001b[0mself\u001b[0m\u001b[0;34m)\u001b[0m\u001b[0;34m:\u001b[0m\u001b[0;34m\u001b[0m\u001b[0;34m\u001b[0m\u001b[0m\n\u001b[0;32m---> 10\u001b[0;31m     \u001b[0mp_medals\u001b[0m \u001b[0;34m=\u001b[0m \u001b[0mobj\u001b[0m\u001b[0;34m.\u001b[0m\u001b[0mp_medals\u001b[0m\u001b[0;34m\u001b[0m\u001b[0;34m\u001b[0m\u001b[0m\n\u001b[0m\u001b[1;32m     11\u001b[0m     \u001b[0mself\u001b[0m\u001b[0;34m.\u001b[0m\u001b[0mp_medals\u001b[0m \u001b[0;34m=\u001b[0m \u001b[0mp_medals\u001b[0m\u001b[0;34m\u001b[0m\u001b[0;34m\u001b[0m\u001b[0m\n\u001b[1;32m     12\u001b[0m     \u001b[0mprint\u001b[0m\u001b[0;34m(\u001b[0m\u001b[0;34m\"The medals won by Indians at the Paralympic Games are:\"\u001b[0m\u001b[0;34m,\u001b[0m\u001b[0;34mf\"\\n {self.p_medals}\"\u001b[0m\u001b[0;34m,\u001b[0m\u001b[0;34m\"\\n\"\u001b[0m\u001b[0;34m)\u001b[0m\u001b[0;34m\u001b[0m\u001b[0;34m\u001b[0m\u001b[0m\n",
      "\u001b[0;31mAttributeError\u001b[0m: 'Tokyo' object has no attribute 'p_medals'"
     ]
    }
   ],
   "source": [
    "obj3.indian_p_medals()"
   ]
  },
  {
   "cell_type": "code",
   "execution_count": null,
   "metadata": {
    "id": "SIuvB2_SWnmY"
   },
   "outputs": [],
   "source": [
    "#error as we did not specify the obj.paralympics_datasets() calling"
   ]
  }
 ],
 "metadata": {
  "colab": {
   "collapsed_sections": [],
   "name": "P3_2148023.ipynb",
   "provenance": []
  },
  "kernelspec": {
   "display_name": "Python 3",
   "language": "python",
   "name": "python3"
  },
  "language_info": {
   "codemirror_mode": {
    "name": "ipython",
    "version": 3
   },
   "file_extension": ".py",
   "mimetype": "text/x-python",
   "name": "python",
   "nbconvert_exporter": "python",
   "pygments_lexer": "ipython3",
   "version": "3.8.8"
  }
 },
 "nbformat": 4,
 "nbformat_minor": 1
}
