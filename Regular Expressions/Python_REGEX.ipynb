{
 "cells": [
  {
   "cell_type": "markdown",
   "metadata": {
    "id": "D0noBROI6bne"
   },
   "source": [
    "# PYTHON REGEX\n",
    "*   Author: Sanjay S Rao\n",
    "*   LinkedIn: https://www.linkedin.com/in/sanjay-srinivasa-rao-b67a771a0/\n",
    "\n",
    "**Regular expressions** *(called REs, or regexes, or regex patterns) are essentially a tiny, highly specialized programming language embedded inside Python and made available through the re module.*"
   ]
  },
  {
   "cell_type": "code",
   "execution_count": 1,
   "metadata": {
    "id": "WwaDinwBqjif"
   },
   "outputs": [],
   "source": [
    "import re "
   ]
  },
  {
   "cell_type": "code",
   "execution_count": 2,
   "metadata": {
    "colab": {
     "base_uri": "https://localhost:8080/"
    },
    "id": "kgEMrvkWsr0z",
    "outputId": "24c40871-f90a-4c9a-96ff-92863819d60f"
   },
   "outputs": [
    {
     "name": "stdout",
     "output_type": "stream",
     "text": [
      "{'Raj': '18', 'Ravi': '21', 'Sonali': '20', 'Vaishali': '22'}\n"
     ]
    }
   ],
   "source": [
    "NameAge = '''\n",
    "Raj is 18 and Ravi is 21\n",
    "Sonali is 20 and Vaishali is 22\n",
    "'''\n",
    "\n",
    "ages = re.findall(r'\\d{1,3}', NameAge)\n",
    "names = re.findall(r'[A-Z][a-z]*', NameAge)\n",
    "\n",
    "ageDict = {}\n",
    "\n",
    "x = 0\n",
    "\n",
    "for eachname in names:\n",
    "  ageDict[eachname] = ages[x]\n",
    "  x += 1\n",
    "\n",
    "print(ageDict)"
   ]
  },
  {
   "cell_type": "markdown",
   "metadata": {
    "id": "b9EIwRqD5xWk"
   },
   "source": [
    "## Finding a word in a String"
   ]
  },
  {
   "cell_type": "code",
   "execution_count": 3,
   "metadata": {
    "colab": {
     "base_uri": "https://localhost:8080/"
    },
    "id": "9NeKILmGtn1D",
    "outputId": "2d59fe1c-7d42-422c-f026-8362ac1a7b82"
   },
   "outputs": [
    {
     "name": "stdout",
     "output_type": "stream",
     "text": [
      "inform\n"
     ]
    }
   ],
   "source": [
    "#finding a word in a String\n",
    "\n",
    "allinform = re.findall(\"inform\", \"The college should inform the students regarding the lastest covid regulations\")\n",
    "\n",
    "for i in allinform:\n",
    "  print(i)"
   ]
  },
  {
   "cell_type": "markdown",
   "metadata": {
    "id": "EQF8AG3454OK"
   },
   "source": [
    "## To generate an iterator"
   ]
  },
  {
   "cell_type": "code",
   "execution_count": 4,
   "metadata": {
    "colab": {
     "base_uri": "https://localhost:8080/"
    },
    "id": "VwzFgcDhue_i",
    "outputId": "8e204e59-2846-48d5-a23b-c8bd055a2c59"
   },
   "outputs": [
    {
     "name": "stdout",
     "output_type": "stream",
     "text": [
      "(11, 17)\n",
      "(38, 44)\n"
     ]
    }
   ],
   "source": [
    "#to generate an iterator\n",
    "# i.e., to get the starting and ending index of all the matches\n",
    "\n",
    "string = \"we need to inform him with the latest information\"\n",
    "\n",
    "for i in re.finditer(\"inform\", string):\n",
    "  locTuple = i.span() #returns a tuple containing starting and ending index of the matched string\n",
    "  print(locTuple)"
   ]
  },
  {
   "cell_type": "markdown",
   "metadata": {
    "id": "U5K2VtEq57mk"
   },
   "source": [
    "## To find words following a similar pattern "
   ]
  },
  {
   "cell_type": "code",
   "execution_count": 5,
   "metadata": {
    "colab": {
     "base_uri": "https://localhost:8080/"
    },
    "id": "qbHIZOCOvFtC",
    "outputId": "25b16742-7edd-4801-da59-c6266f1bad6d"
   },
   "outputs": [
    {
     "name": "stdout",
     "output_type": "stream",
     "text": [
      "sat\n",
      "mat\n",
      "cat\n",
      "hat\n"
     ]
    }
   ],
   "source": [
    "#to find words following a similar pattern \n",
    "string2 = \"sat,mat,here,there,cat,hat,Sat\"\n",
    "\n",
    "allStr = re.findall(\"[smch]at\", string2)\n",
    "\n",
    "for i in allStr:\n",
    "  print(i)"
   ]
  },
  {
   "cell_type": "markdown",
   "metadata": {
    "id": "zKpIVH8b5-MV"
   },
   "source": [
    "## To replace a part of string"
   ]
  },
  {
   "cell_type": "code",
   "execution_count": 6,
   "metadata": {
    "colab": {
     "base_uri": "https://localhost:8080/"
    },
    "id": "DhL3bqhPwX4o",
    "outputId": "0e103242-8fe1-4825-b8eb-5f0d81705c0c"
   },
   "outputs": [
    {
     "name": "stdout",
     "output_type": "stream",
     "text": [
      "hat mat rat\n",
      "hat mat bat\n"
     ]
    }
   ],
   "source": [
    "#to replace a part of string\n",
    "\n",
    "objects = \"hat mat rat\"\n",
    "print(objects)\n",
    "\n",
    "regex = re.compile(\"[r]at\")\n",
    "\n",
    "objects = regex.sub(\"bat\",objects)\n",
    "\n",
    "print(objects)"
   ]
  },
  {
   "cell_type": "code",
   "execution_count": 7,
   "metadata": {
    "colab": {
     "base_uri": "https://localhost:8080/"
    },
    "id": "nlIe_4HcxmSi",
    "outputId": "d8a7644c-98b3-4232-8793-6ec05565d87a"
   },
   "outputs": [
    {
     "name": "stdout",
     "output_type": "stream",
     "text": [
      "\n",
      "This is an\n",
      "example for\n",
      "dealing with\n",
      "whitespaces and lines\n",
      "\n",
      " This is an example for dealing with whitespaces and lines \n"
     ]
    }
   ],
   "source": [
    "string3 = '''\n",
    "This is an\n",
    "example for\n",
    "dealing with\n",
    "whitespaces and lines\n",
    "'''\n",
    "print(string3)\n",
    "\n",
    "regex = re.compile(\"\\n\")\n",
    "\n",
    "string3 = regex.sub(\" \",string3)\n",
    "print(string3)\n"
   ]
  },
  {
   "cell_type": "markdown",
   "metadata": {
    "id": "ZQONy-5O6Bae"
   },
   "source": [
    "## To match a particular character in a string"
   ]
  },
  {
   "cell_type": "code",
   "execution_count": 8,
   "metadata": {
    "colab": {
     "base_uri": "https://localhost:8080/"
    },
    "id": "uhe1WAkUyxHn",
    "outputId": "c0abb0ab-9806-4d1f-f382-e02253a07cfb"
   },
   "outputs": [
    {
     "name": "stdout",
     "output_type": "stream",
     "text": [
      "No. of ocurrances:  1\n"
     ]
    }
   ],
   "source": [
    "#to match a particular character in a string\n",
    "num = \"12345\"\n",
    "\n",
    "print(\"No. of ocurrances: \", len(re.findall(\"\\d{5}\", num)))"
   ]
  },
  {
   "cell_type": "code",
   "execution_count": 9,
   "metadata": {
    "colab": {
     "base_uri": "https://localhost:8080/"
    },
    "id": "5F5uDW2szi3j",
    "outputId": "efee5343-9075-48e2-fc0a-fc32eae2a883"
   },
   "outputs": [
    {
     "name": "stdout",
     "output_type": "stream",
     "text": [
      "No. of ocurrances:  3\n"
     ]
    }
   ],
   "source": [
    "num = \"123 1234 12345 123456 1234567\"\n",
    "\n",
    "print(\"No. of ocurrances: \", len(re.findall(\"\\d{5,7}\", num)))"
   ]
  },
  {
   "cell_type": "markdown",
   "metadata": {
    "id": "BOHIiF2B6D1I"
   },
   "source": [
    "## To verify a phone number"
   ]
  },
  {
   "cell_type": "code",
   "execution_count": 10,
   "metadata": {
    "colab": {
     "base_uri": "https://localhost:8080/"
    },
    "id": "csdlb7kVzoyv",
    "outputId": "74b2ee12-7cd1-4fed-ab9f-392932a63137"
   },
   "outputs": [
    {
     "name": "stdout",
     "output_type": "stream",
     "text": [
      "It belongs to India!\n"
     ]
    }
   ],
   "source": [
    "#to verify a phone number\n",
    "\n",
    "# \\w [a-zA-Z0-9_] Matches any alphanumeric character;\n",
    "# \\d [0-9] Matches any decimal digit;\n",
    "\n",
    "phnno = \"+918050200252\"\n",
    "if re.search(\"\\w[+91]\\w{10}\",phnno):\n",
    "  print(\"It belongs to India!\")\n"
   ]
  },
  {
   "cell_type": "markdown",
   "metadata": {
    "id": "0THp_Ww_6Qcu"
   },
   "source": [
    "## To validate a Fullname"
   ]
  },
  {
   "cell_type": "code",
   "execution_count": 11,
   "metadata": {
    "colab": {
     "base_uri": "https://localhost:8080/"
    },
    "id": "dQ1wg4iL0pgt",
    "outputId": "b0d0be07-41d2-4598-b2ee-0688ee533cc0"
   },
   "outputs": [
    {
     "name": "stdout",
     "output_type": "stream",
     "text": [
      "Valid Fullname.\n"
     ]
    }
   ],
   "source": [
    "#to validate a Fullname\n",
    "\n",
    "# \\s = [\\f \\n \\t \\v \\r] Matches any whitespace character;\n",
    "\n",
    "name = \"Sanjay Rao\"\n",
    "\n",
    "if re.search(\"\\w{2,20}\\s\\w{2,20}\",name):\n",
    "  print(\"Valid Fullname.\")\n"
   ]
  }
 ],
 "metadata": {
  "colab": {
   "collapsed_sections": [],
   "name": "2148023_PL_REGEX.ipynb",
   "provenance": []
  },
  "kernelspec": {
   "display_name": "Python 3",
   "language": "python",
   "name": "python3"
  },
  "language_info": {
   "codemirror_mode": {
    "name": "ipython",
    "version": 3
   },
   "file_extension": ".py",
   "mimetype": "text/x-python",
   "name": "python",
   "nbconvert_exporter": "python",
   "pygments_lexer": "ipython3",
   "version": "3.8.8"
  }
 },
 "nbformat": 4,
 "nbformat_minor": 1
}
