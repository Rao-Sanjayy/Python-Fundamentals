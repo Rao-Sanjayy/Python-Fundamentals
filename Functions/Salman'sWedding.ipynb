{
 "cells": [
  {
   "cell_type": "markdown",
   "metadata": {
    "id": "wr8V4mIWf0cw"
   },
   "source": [
    "# **FUNCTIONS IN PYTHON**\n",
    "*   Author: Sanjay S Rao\n",
    "*   LinkedIn: https://www.linkedin.com/in/sanjay-srinivasa-rao-b67a771a0/\n",
    "*   e-mail: sanjay.s.rao04@gmail.com\n"
    "\n",
    "**Problem statement:**\n",
    "\n",
    "There are rumours that box office sultan, Salman Khan is getting MARRIED soon! The most awaited event will surely be a grand occasion. So he wants you to plan his wedding planner. Help him make his big day memorable. Create an interactive program to take care of the budget of the entire marriage ceremony."
   ]
  },
  {
   "cell_type": "code",
   "execution_count": null,
   "metadata": {
    "colab": {
     "base_uri": "https://localhost:8080/"
    },
    "id": "UsmVAyb588yr",
    "outputId": "85ca2044-4159-4b82-9dfe-0fdb989f84bb"
   },
   "outputs": [
    {
     "name": "stdout",
     "output_type": "stream",
     "text": [
      "Collecting forex_python\n",
      "  Downloading forex_python-1.6-py3-none-any.whl (8.1 kB)\n",
      "Collecting simplejson\n",
      "  Downloading simplejson-3.17.5-cp37-cp37m-manylinux_2_5_x86_64.manylinux1_x86_64.manylinux_2_12_x86_64.manylinux2010_x86_64.whl (129 kB)\n",
      "\u001b[K     |████████████████████████████████| 129 kB 7.2 MB/s \n",
      "\u001b[?25hRequirement already satisfied: requests in /usr/local/lib/python3.7/dist-packages (from forex_python) (2.23.0)\n",
      "Requirement already satisfied: certifi>=2017.4.17 in /usr/local/lib/python3.7/dist-packages (from requests->forex_python) (2021.5.30)\n",
      "Requirement already satisfied: urllib3!=1.25.0,!=1.25.1,<1.26,>=1.21.1 in /usr/local/lib/python3.7/dist-packages (from requests->forex_python) (1.24.3)\n",
      "Requirement already satisfied: chardet<4,>=3.0.2 in /usr/local/lib/python3.7/dist-packages (from requests->forex_python) (3.0.4)\n",
      "Requirement already satisfied: idna<3,>=2.5 in /usr/local/lib/python3.7/dist-packages (from requests->forex_python) (2.10)\n",
      "Installing collected packages: simplejson, forex-python\n",
      "Successfully installed forex-python-1.6 simplejson-3.17.5\n"
     ]
    }
   ],
   "source": [
    "import pandas as pd\n",
    "import numpy as np\n",
    "!pip install forex_python "
   ]
  },
  {
   "cell_type": "markdown",
   "metadata": {
    "id": "gZLzk01e4aYo"
   },
   "source": [
    "## **WELCOME TO SHAADI MUBARAK PLANNERS**\n",
    "We're delighted to have you are here with us today, Salman Khan!\n",
    "\n",
    "A heartly congratulations on the fixure of your marriage.\n",
    "\n",
    "We were told that you are looking for a destination wedding with your beautiful spouse. Here we provide you with the best places for your magical day and it is our responsibility to make it such"
   ]
  },
  {
   "cell_type": "code",
   "execution_count": null,
   "metadata": {
    "id": "1_vO6LIX2_wD"
   },
   "outputs": [],
   "source": [
    "destinations = [[\"Negril\",\"Jamaica\",\"4\",\"JMD\",3000],\n",
    "                [\"Vail\",\"Colorado\",\"4.5\",\"USD\",4500],\n",
    "                [\"Paris\",\"France\",\"5\",\"EUR\",5600],\n",
    "                [\"NewYork\",\"USA\",\"4.8\",\"USD\",2000],\n",
    "                [\"Rome\",\"Italy\",\"4.8\",\"EUR\",4500],\n",
    "                [\"Montezuma\",\"Costa Rica\",\"4.6\",\"CRC\",3400],\n",
    "                [\"Koh Samui\",\"Thailand\",\"4.9\",\"THB\",4600]\n",
    "                ]\n",
    "p_catalouge = pd.DataFrame(destinations, columns = ['City','Country','Rating',\n",
    "                                            'Currency Code','Estimated Price'])"
   ]
  },
  {
   "cell_type": "code",
   "execution_count": null,
   "metadata": {
    "colab": {
     "base_uri": "https://localhost:8080/",
     "height": 269
    },
    "id": "juApWwf34QFh",
    "outputId": "d53ddc15-6670-4022-883c-0add7ed89ec2"
   },
   "outputs": [
    {
     "data": {
      "text/html": [
       "<div>\n",
       "<style scoped>\n",
       "    .dataframe tbody tr th:only-of-type {\n",
       "        vertical-align: middle;\n",
       "    }\n",
       "\n",
       "    .dataframe tbody tr th {\n",
       "        vertical-align: top;\n",
       "    }\n",
       "\n",
       "    .dataframe thead th {\n",
       "        text-align: right;\n",
       "    }\n",
       "</style>\n",
       "<table border=\"1\" class=\"dataframe\">\n",
       "  <thead>\n",
       "    <tr style=\"text-align: right;\">\n",
       "      <th></th>\n",
       "      <th>City</th>\n",
       "      <th>Country</th>\n",
       "      <th>Rating</th>\n",
       "      <th>Currency Code</th>\n",
       "      <th>Estimated Price</th>\n",
       "    </tr>\n",
       "  </thead>\n",
       "  <tbody>\n",
       "    <tr>\n",
       "      <th>0</th>\n",
       "      <td>Negril</td>\n",
       "      <td>Jamaica</td>\n",
       "      <td>4</td>\n",
       "      <td>JMD</td>\n",
       "      <td>3000</td>\n",
       "    </tr>\n",
       "    <tr>\n",
       "      <th>1</th>\n",
       "      <td>Vail</td>\n",
       "      <td>Colorado</td>\n",
       "      <td>4.5</td>\n",
       "      <td>USD</td>\n",
       "      <td>4500</td>\n",
       "    </tr>\n",
       "    <tr>\n",
       "      <th>2</th>\n",
       "      <td>Paris</td>\n",
       "      <td>France</td>\n",
       "      <td>5</td>\n",
       "      <td>EUR</td>\n",
       "      <td>5600</td>\n",
       "    </tr>\n",
       "    <tr>\n",
       "      <th>3</th>\n",
       "      <td>NewYork</td>\n",
       "      <td>USA</td>\n",
       "      <td>4.8</td>\n",
       "      <td>USD</td>\n",
       "      <td>2000</td>\n",
       "    </tr>\n",
       "    <tr>\n",
       "      <th>4</th>\n",
       "      <td>Rome</td>\n",
       "      <td>Italy</td>\n",
       "      <td>4.8</td>\n",
       "      <td>EUR</td>\n",
       "      <td>4500</td>\n",
       "    </tr>\n",
       "    <tr>\n",
       "      <th>5</th>\n",
       "      <td>Montezuma</td>\n",
       "      <td>Costa Rica</td>\n",
       "      <td>4.6</td>\n",
       "      <td>CRC</td>\n",
       "      <td>3400</td>\n",
       "    </tr>\n",
       "    <tr>\n",
       "      <th>6</th>\n",
       "      <td>Koh Samui</td>\n",
       "      <td>Thailand</td>\n",
       "      <td>4.9</td>\n",
       "      <td>THB</td>\n",
       "      <td>4600</td>\n",
       "    </tr>\n",
       "  </tbody>\n",
       "</table>\n",
       "</div>"
      ],
      "text/plain": [
       "        City     Country Rating Currency Code  Estimated Price\n",
       "0     Negril     Jamaica      4           JMD             3000\n",
       "1       Vail    Colorado    4.5           USD             4500\n",
       "2      Paris      France      5           EUR             5600\n",
       "3    NewYork         USA    4.8           USD             2000\n",
       "4       Rome       Italy    4.8           EUR             4500\n",
       "5  Montezuma  Costa Rica    4.6           CRC             3400\n",
       "6  Koh Samui    Thailand    4.9           THB             4600"
      ]
     },
     "execution_count": 3,
     "metadata": {},
     "output_type": "execute_result"
    }
   ],
   "source": [
    "p_catalouge"
   ]
  },
  {
   "cell_type": "code",
   "execution_count": null,
   "metadata": {
    "colab": {
     "base_uri": "https://localhost:8080/"
    },
    "id": "eFGsWB7J9GyM",
    "outputId": "7d5acdb6-1550-4784-8f0a-4502da9ab04f"
   },
   "outputs": [
    {
     "name": "stdout",
     "output_type": "stream",
     "text": [
      "Each of the above mentioned cities are chosen among the best.\n",
      "Enter the City of your choice:Paris\n",
      "Paris? I always knew you had a great sense of choice when \n",
      "it comes to this.\n"
     ]
    }
   ],
   "source": [
    "print(\"Each of the above mentioned cities are chosen among the best.\")\n",
    "choice = input(\"Enter the City of your choice:\")\n",
    "print(f\"\"\"{choice}? I always knew you had a great sense of choice when \n",
    "it comes to this.\"\"\")"
   ]
  },
  {
   "cell_type": "code",
   "execution_count": null,
   "metadata": {
    "id": "TqT5vLj3BTWq"
   },
   "outputs": [],
   "source": [
    "p_catalouge = p_catalouge.set_index('City')"
   ]
  },
  {
   "cell_type": "code",
   "execution_count": null,
   "metadata": {
    "colab": {
     "base_uri": "https://localhost:8080/"
    },
    "id": "neUunjZDT090",
    "outputId": "5656ba01-4020-43b0-ccda-39dc284600de"
   },
   "outputs": [
    {
     "name": "stdout",
     "output_type": "stream",
     "text": [
      "Exchange rate:  0.011492865803552446\n",
      "The cost of venue in EUR is 5600\n",
      "Tax is 448.0 EUR \n",
      "Discount offered on the venue is 1008.0 EUR\n",
      "Total cost for booking the venue is 5040.0 EUR\n",
      "Total cost for venue booking in Rs is 438532.92\n"
     ]
    }
   ],
   "source": [
    "# real time currency conversion rate\n",
    "from forex_python.converter import CurrencyRates \n",
    "from_country = 'INR'\n",
    "to = p_catalouge.loc[choice]['Currency Code']\n",
    "\n",
    "c = CurrencyRates()\n",
    "\n",
    "rate = c.get_rate(from_country,to)\n",
    "print(\"Exchange rate: \",rate)\n",
    "\n",
    "# venue booking\n",
    "venue_price = p_catalouge.loc[choice]['Estimated Price']\n",
    "\n",
    "venue_cost = lambda venue_price, rate : venue_price/rate\n",
    "\n",
    "def venue():\n",
    "    print(f\"The cost of venue in {to} is {venue_price}\")\n",
    "    tax = 0.08 * venue_price\n",
    "    print(f\"Tax is {round(tax,2)} {to} \")\n",
    "    disc = 0.18 * venue_price\n",
    "    print(f\"Discount offered on the venue is {round(disc,2)} {to}\")\n",
    "    t = venue_price + tax - disc\n",
    "    print(f\"Total cost for booking the venue is {round(t,2)} {to}\")\n",
    "    inr = t/rate\n",
    "    print(f\"Total cost for venue booking in Rs is {round(inr,2)}\")\n",
    "    \n",
    "venue()"
   ]
  },
  {
   "cell_type": "code",
   "execution_count": null,
   "metadata": {
    "colab": {
     "base_uri": "https://localhost:8080/"
    },
    "id": "Izm7xjopRAQt",
    "outputId": "a52fcf4c-a179-4846-942e-c9e51f6b9449"
   },
   "outputs": [
    {
     "name": "stdout",
     "output_type": "stream",
     "text": [
      "\n",
      "Here are all the events that we've planned for the big day!!\n",
      "1. Bachelor's party\n",
      "2. Engagement\n",
      "3. Sangeet\n",
      "4. Local tour\n",
      "5. Nikkah\n",
      "6. Reception\n",
      "\n",
      "I suppose you've cleared your calender as this wedding is going to be for 14days\n",
      "full of entertainment and happiness around. It's our duty to make it a memorable\n",
      "one for you.\n",
      "\n",
      "\n",
      "BACHELOR'S PARTY:\n",
      "So, your best man, Sharukh Khan is throwing an awesome Bachelor's party for you \n",
      "where we would be collaborating with him and plan this out. Also he made us\n",
      "clear that all the bills would be directly sent you xD .\n",
      "Now it's upto you to accept this or not. \n",
      "A friend for life right and what's a bill? Jk.\n",
      "\n",
      "yes or no?: yes\n",
      "\n",
      "ENGAGEMENT:\n",
      "All the events to be held during the engagement including the rings will be \n",
      "done by us and it would approximately cost you around Rs.150000/- \n",
      "You can choose not to accept this, we would just be providing you with a \n",
      "basic plan excluding the rings and it will be costing you Rs.45000/- \n",
      "\n",
      "yes or no?: yes\n",
      "\n",
      "SANGEET:\n",
      "The sangeet planned will include a professional DJ, a choreographer, and a \n",
      "mehandi artist. Each of which is essential entities for the success of the \n",
      "sangeet ceremony. Is that fine by you?\n",
      "\n",
      "yes or no?: yes\n"
     ]
    }
   ],
   "source": [
    "print(\"\"\"\n",
    "Here are all the events that we've planned for the big day!!\n",
    "1. Bachelor's party\n",
    "2. Engagement\n",
    "3. Sangeet\n",
    "4. Local tour\n",
    "5. Nikkah\n",
    "6. Reception\n",
    "\n",
    "I suppose you've cleared your calender as this wedding is going to be for 14days\n",
    "full of entertainment and happiness around. It's our duty to make it a memorable\n",
    "one for you.\n",
    "\"\"\")\n",
    "\n",
    "# getting confirmation on all the events\n",
    "# The Bachelor's party!!\n",
    "print(\"\"\"\n",
    "BACHELOR'S PARTY:\n",
    "So, your best man, Sharukh Khan is throwing an awesome Bachelor's party for you \n",
    "where we would be collaborating with him and plan this out. Also he made us\n",
    "clear that all the bills would be directly sent you xD .\n",
    "Now it's upto you to accept this or not. \n",
    "A friend for life right and what's a bill? Jk.\n",
    "\"\"\")\n",
    "bparty = input(\"yes or no?: \")\n",
    "\n",
    "i=0\n",
    "while i>= 0:\n",
    "  i = -1\n",
    "  if bparty == 'yes':\n",
    "      bparty_cost = 115000\n",
    "  elif bparty == 'no':\n",
    "      bparty_cost = 0\n",
    "  else:\n",
    "      i = 1\n",
    "      print(\"Invalid input. Please re-enter again\")\n",
    "      bparty = input(\"yes or no?: \")\n",
    "\n",
    "# The Engagement!!\n",
    "print(\"\"\"\n",
    "ENGAGEMENT:\n",
    "All the events to be held during the engagement including the rings will be \n",
    "done by us and it would approximately cost you around Rs.150000/- \n",
    "You can choose not to accept this, we would just be providing you with a \n",
    "basic plan excluding the rings and it will be costing you Rs.45000/- \n",
    "\"\"\")\n",
    "eparty = input(\"yes or no?: \")\n",
    "\n",
    "i=0\n",
    "while i>= 0:\n",
    "  i = -1\n",
    "  if eparty == 'yes':\n",
    "      engagement_cost = 150000\n",
    "  elif eparty == 'no':\n",
    "      engagement_cost = 45000\n",
    "  else:\n",
    "      i = 1\n",
    "      print(\"Invalid input. Please re-enter again\")\n",
    "      eparty = input(\"yes or no?: \")\n",
    "\n",
    "# The Sangeet party\n",
    "print(\"\"\"\n",
    "SANGEET:\n",
    "The sangeet planned will include a professional DJ, a choreographer, and a \n",
    "mehandi artist. Each of which is essential entities for the success of the \n",
    "sangeet ceremony. Is that fine by you?\n",
    "\"\"\")\n",
    "sparty = input(\"yes or no?: \")\n",
    "\n",
    "i=0\n",
    "while i>= 0:\n",
    "  i = -1\n",
    "  if sparty == 'yes':\n",
    "      sangeet_cost = 100000\n",
    "  elif sparty == 'no':\n",
    "      sangeet_cost = 0\n",
    "  else:\n",
    "      i = 1\n",
    "      print(\"Invalid input. Please re-enter again\")\n",
    "      sparty = input(\"yes or no?: \")"
   ]
  },
  {
   "cell_type": "code",
   "execution_count": null,
   "metadata": {
    "id": "09lWdVFVRAN-"
   },
   "outputs": [],
   "source": [
    "# Local tour catalouge\n",
    "tour = [[\"Negril\",\"Jamaica\",\"Seven Mile Beach,The Negril Cliffs,Mayfield Falls\"],\n",
    "        [\"Vail\",\"Colorado\",\"White River National Forest,Vail ski,Museum\"],\n",
    "        [\"Paris\",\"France\",\"Eiffel Tower,Louvre Museum,Cruise on the Seine\"],\n",
    "        [\"NewYork\",\"USA\",\"Central Park,Empire State Building\"],\n",
    "        [\"Rome\",\"Italy\",\" Colosseum, Vatican City, Pantheon\"],\n",
    "        [\"Montezuma\",\"Costa Rica\",\"AsvoCR,Playa Montezuma,Iglisea Catolica\"],\n",
    "        [\"Koh Samui\",\"Thailand\",\"\"\"Ang Thong Marine Park,Big Buddha Temple,\n",
    "        Na Muang Waterfall\"\"\"]\n",
    "        ]\n",
    "tour_c = pd.DataFrame(tour, columns = ['City','Country','Places'])"
   ]
  },
  {
   "cell_type": "code",
   "execution_count": null,
   "metadata": {
    "colab": {
     "base_uri": "https://localhost:8080/",
     "height": 269
    },
    "id": "QuSoxIi1RALG",
    "outputId": "25994836-ddbf-4826-9cd0-2d365e7ceae1"
   },
   "outputs": [
    {
     "data": {
      "text/html": [
       "<div>\n",
       "<style scoped>\n",
       "    .dataframe tbody tr th:only-of-type {\n",
       "        vertical-align: middle;\n",
       "    }\n",
       "\n",
       "    .dataframe tbody tr th {\n",
       "        vertical-align: top;\n",
       "    }\n",
       "\n",
       "    .dataframe thead th {\n",
       "        text-align: right;\n",
       "    }\n",
       "</style>\n",
       "<table border=\"1\" class=\"dataframe\">\n",
       "  <thead>\n",
       "    <tr style=\"text-align: right;\">\n",
       "      <th></th>\n",
       "      <th>City</th>\n",
       "      <th>Country</th>\n",
       "      <th>Places</th>\n",
       "    </tr>\n",
       "  </thead>\n",
       "  <tbody>\n",
       "    <tr>\n",
       "      <th>0</th>\n",
       "      <td>Negril</td>\n",
       "      <td>Jamaica</td>\n",
       "      <td>Seven Mile Beach,The Negril Cliffs,Mayfield Falls</td>\n",
       "    </tr>\n",
       "    <tr>\n",
       "      <th>1</th>\n",
       "      <td>Vail</td>\n",
       "      <td>Colorado</td>\n",
       "      <td>White River National Forest,Vail ski,Museum</td>\n",
       "    </tr>\n",
       "    <tr>\n",
       "      <th>2</th>\n",
       "      <td>Paris</td>\n",
       "      <td>France</td>\n",
       "      <td>Eiffel Tower,Louvre Museum,Cruise on the Seine</td>\n",
       "    </tr>\n",
       "    <tr>\n",
       "      <th>3</th>\n",
       "      <td>NewYork</td>\n",
       "      <td>USA</td>\n",
       "      <td>Central Park,Empire State Building</td>\n",
       "    </tr>\n",
       "    <tr>\n",
       "      <th>4</th>\n",
       "      <td>Rome</td>\n",
       "      <td>Italy</td>\n",
       "      <td>Colosseum, Vatican City, Pantheon</td>\n",
       "    </tr>\n",
       "    <tr>\n",
       "      <th>5</th>\n",
       "      <td>Montezuma</td>\n",
       "      <td>Costa Rica</td>\n",
       "      <td>AsvoCR,Playa Montezuma,Iglisea Catolica</td>\n",
       "    </tr>\n",
       "    <tr>\n",
       "      <th>6</th>\n",
       "      <td>Koh Samui</td>\n",
       "      <td>Thailand</td>\n",
       "      <td>Ang Thong Marine Park,Big Buddha Temple,\\n    ...</td>\n",
       "    </tr>\n",
       "  </tbody>\n",
       "</table>\n",
       "</div>"
      ],
      "text/plain": [
       "        City     Country                                             Places\n",
       "0     Negril     Jamaica  Seven Mile Beach,The Negril Cliffs,Mayfield Falls\n",
       "1       Vail    Colorado        White River National Forest,Vail ski,Museum\n",
       "2      Paris      France     Eiffel Tower,Louvre Museum,Cruise on the Seine\n",
       "3    NewYork         USA                 Central Park,Empire State Building\n",
       "4       Rome       Italy                  Colosseum, Vatican City, Pantheon\n",
       "5  Montezuma  Costa Rica            AsvoCR,Playa Montezuma,Iglisea Catolica\n",
       "6  Koh Samui    Thailand  Ang Thong Marine Park,Big Buddha Temple,\\n    ..."
      ]
     },
     "execution_count": 9,
     "metadata": {},
     "output_type": "execute_result"
    }
   ],
   "source": [
    "tour_c"
   ]
  },
  {
   "cell_type": "code",
   "execution_count": null,
   "metadata": {
    "colab": {
     "base_uri": "https://localhost:8080/"
    },
    "id": "TGy_GyvjRAId",
    "outputId": "d7daf25c-f222-47ca-effd-93ee717c7d84"
   },
   "outputs": [
    {
     "name": "stdout",
     "output_type": "stream",
     "text": [
      "\n",
      "LOCAL TOUR PACKAGE:\n",
      "So, since it's a destination wedding, we are offering a one day tour package\n",
      "where we'll be showing you the best places around in the Venue city, inclusive\n",
      "of all the guide charges, transportation and beverages. \n",
      "The places which we'll be covering in your selected venue city are:\n",
      "\n",
      "Would you like you to have this package included?\n",
      "yes or no?: yes\n"
     ]
    }
   ],
   "source": [
    "print(\"\"\"\n",
    "LOCAL TOUR PACKAGE:\n",
    "So, since it's a destination wedding, we are offering a one day tour package\n",
    "where we'll be showing you the best places around in the Venue city, inclusive\n",
    "of all the guide charges, transportation and beverages. \n",
    "The places which we'll be covering in your selected venue city are:\n",
    "\"\"\")\n",
    "tour_c.loc[tour_c['City'] == choice]\n",
    "\n",
    "print(\"Would you like you to have this package included?\")\n",
    "tpack = input(\"yes or no?: \")\n",
    "\n",
    "i=0\n",
    "while i>= 0:\n",
    "  i = -1\n",
    "  if tpack == 'yes':\n",
    "      tour_cost = 130000\n",
    "  elif tpack == 'no':\n",
    "      tour_cost = 0\n",
    "  else:\n",
    "      i = 1\n",
    "      print(\"Invalid input. Please re-enter again\")\n",
    "      tpack = input(\"yes or no?: \")"
   ]
  },
  {
   "cell_type": "code",
   "execution_count": null,
   "metadata": {
    "colab": {
     "base_uri": "https://localhost:8080/"
    },
    "id": "tNM2hOKiRAFp",
    "outputId": "62ab67de-6073-460d-bc85-e9303e356e09"
   },
   "outputs": [
    {
     "name": "stdout",
     "output_type": "stream",
     "text": [
      "\n",
      "NIKKAH:\n",
      "Big day! We will be planning a sophisticated yet classiest nikkah you have ever\n",
      "seen and it's worth everything. The theme, environment, arrangements, seating\n",
      "everything will be taken care of. This would be costing you approx Rs.150000/-\n",
      "\n"
     ]
    }
   ],
   "source": [
    "# The main event! Nikkah\n",
    "print(\"\"\"\n",
    "NIKKAH:\n",
    "Big day! We will be planning a sophisticated yet classiest nikkah you have ever\n",
    "seen and it's worth everything. The theme, environment, arrangements, seating\n",
    "everything will be taken care of. This would be costing you approx Rs.150000/-\n",
    "\"\"\")\n",
    "nikkah_cost = 150000"
   ]
  },
  {
   "cell_type": "code",
   "execution_count": null,
   "metadata": {
    "colab": {
     "base_uri": "https://localhost:8080/"
    },
    "id": "Il_ALF7hxFMB",
    "outputId": "979c887a-f7e5-4b4d-8cbc-0eddb9e73d63"
   },
   "outputs": [
    {
     "name": "stdout",
     "output_type": "stream",
     "text": [
      "\n",
      "RECEPTION:\n",
      "The Reception event will be held at the banquet hall with all the guests and\n",
      "a welcome dance for the newly wed couples along with trained artists from our\n",
      "side. The photographer, videographer and make artists are included.\n",
      "This would be costing you approx Rs.250000/-\n",
      "\n"
     ]
    }
   ],
   "source": [
    "# Grand Reception\n",
    "print(\"\"\"\n",
    "RECEPTION:\n",
    "The Reception event will be held at the banquet hall with all the guests and\n",
    "a welcome dance for the newly wed couples along with trained artists from our\n",
    "side. The photographer, videographer and make artists are included.\n",
    "This would be costing you approx Rs.250000/-\n",
    "\"\"\")\n",
    "reception_cost = 250000"
   ]
  },
  {
   "cell_type": "code",
   "execution_count": null,
   "metadata": {
    "colab": {
     "base_uri": "https://localhost:8080/"
    },
    "id": "QX2J_rzGxFJN",
    "outputId": "1f1abb6f-f4d5-4835-9001-4d840220e621"
   },
   "outputs": [
    {
     "name": "stdout",
     "output_type": "stream",
     "text": [
      "\n",
      "Accommodation for the guests is as important as any other thing. The types of\n",
      "accommodation available for your services are:\n",
      "\n",
      "  Type of accommodation Cost per head\n",
      "0                 Villa          6000\n",
      "1             Apartment          6500\n",
      "2           Guest House          7000\n",
      "3          Luxury Lodge          9000\n",
      "How many guests will be joining you for the big day?\n",
      "75\n"
     ]
    }
   ],
   "source": [
    "# Accommodation for the guests\n",
    "print(\"\"\"\n",
    "Accommodation for the guests is as important as any other thing. The types of\n",
    "accommodation available for your services are:\n",
    "\"\"\")\n",
    "type_accommodation = [['Villa','6000'],['Apartment','6500'],\n",
    "                      ['Guest House','7000'],['Luxury Lodge','9000']]\n",
    "accommodation = pd.DataFrame(type_accommodation,columns = ['Type of accommodation',\n",
    "                                               'Cost per head'])\n",
    "print(accommodation)\n",
    "print(\"How many guests will be joining you for the big day?\")\n",
    "no_of_guests = int(input())\n"
   ]
  },
  {
   "cell_type": "code",
   "execution_count": null,
   "metadata": {
    "colab": {
     "base_uri": "https://localhost:8080/"
    },
    "id": "dMz_bF_Z2gDM",
    "outputId": "c860d93c-7546-4d4c-edd2-b0009193cf98"
   },
   "outputs": [
    {
     "name": "stdout",
     "output_type": "stream",
     "text": [
      "Please enter the index number corresponding to your preference:3\n"
     ]
    }
   ],
   "source": [
    "index = int(input(\"Please enter the index number corresponding to your preference:\"))\n",
    "\n",
    "if index in range(0,4):\n",
    "  pass\n",
    "else:\n",
    "  print(\"Please enter a valid index:\")"
   ]
  },
  {
   "cell_type": "code",
   "execution_count": null,
   "metadata": {
    "colab": {
     "base_uri": "https://localhost:8080/"
    },
    "id": "DhDb2wmkxFGG",
    "outputId": "6d79133e-0928-4ca1-f3ed-70abc86b9b20"
   },
   "outputs": [
    {
     "name": "stdout",
     "output_type": "stream",
     "text": [
      "9000\n",
      "126000\n"
     ]
    }
   ],
   "source": [
    "cost_per_head = int(accommodation.loc[index]['Cost per head'])\n",
    "print(cost_per_head)\n",
    "accommodation_cost = cost_per_head *  14 #days\n",
    "print(accommodation_cost) "
   ]
  },
  {
   "cell_type": "code",
   "execution_count": null,
   "metadata": {
    "colab": {
     "base_uri": "https://localhost:8080/",
     "height": 223
    },
    "id": "IVwqiJzFCJlB",
    "outputId": "4242627d-0140-4eca-d0b9-d6e669fc6ce5"
   },
   "outputs": [
    {
     "name": "stdout",
     "output_type": "stream",
     "text": [
      "We've varied options of food cusine for the main events. Here is the menu:\n"
     ]
    },
    {
     "data": {
      "text/html": [
       "<div>\n",
       "<style scoped>\n",
       "    .dataframe tbody tr th:only-of-type {\n",
       "        vertical-align: middle;\n",
       "    }\n",
       "\n",
       "    .dataframe tbody tr th {\n",
       "        vertical-align: top;\n",
       "    }\n",
       "\n",
       "    .dataframe thead th {\n",
       "        text-align: right;\n",
       "    }\n",
       "</style>\n",
       "<table border=\"1\" class=\"dataframe\">\n",
       "  <thead>\n",
       "    <tr style=\"text-align: right;\">\n",
       "      <th></th>\n",
       "      <th>Cuisine type</th>\n",
       "      <th>No of items</th>\n",
       "      <th>Cost per plate</th>\n",
       "    </tr>\n",
       "  </thead>\n",
       "  <tbody>\n",
       "    <tr>\n",
       "      <th>0</th>\n",
       "      <td>Carribean</td>\n",
       "      <td>20</td>\n",
       "      <td>2500</td>\n",
       "    </tr>\n",
       "    <tr>\n",
       "      <th>1</th>\n",
       "      <td>Italian</td>\n",
       "      <td>20</td>\n",
       "      <td>2500</td>\n",
       "    </tr>\n",
       "    <tr>\n",
       "      <th>2</th>\n",
       "      <td>Desi Indian</td>\n",
       "      <td>25</td>\n",
       "      <td>2000</td>\n",
       "    </tr>\n",
       "    <tr>\n",
       "      <th>3</th>\n",
       "      <td>Multicuisine</td>\n",
       "      <td>20</td>\n",
       "      <td>2300</td>\n",
       "    </tr>\n",
       "    <tr>\n",
       "      <th>4</th>\n",
       "      <td>Chinese</td>\n",
       "      <td>15</td>\n",
       "      <td>1600</td>\n",
       "    </tr>\n",
       "  </tbody>\n",
       "</table>\n",
       "</div>"
      ],
      "text/plain": [
       "   Cuisine type No of items Cost per plate\n",
       "0     Carribean          20           2500\n",
       "1       Italian          20           2500\n",
       "2   Desi Indian          25           2000\n",
       "3  Multicuisine          20           2300\n",
       "4       Chinese          15           1600"
      ]
     },
     "execution_count": 16,
     "metadata": {},
     "output_type": "execute_result"
    }
   ],
   "source": [
    "# Food\n",
    "print(\"We've varied options of food cusine for the main events. Here is the menu:\")\n",
    "food_data = [['Carribean','20','2500'],\n",
    "             ['Italian','20','2500'],\n",
    "             ['Desi Indian','25','2000'],\n",
    "             ['Multicuisine','20','2300'],\n",
    "             ['Chinese','15','1600']]\n",
    "food_menu = pd.DataFrame(food_data, columns = ['Cuisine type','No of items','Cost per plate'])\n",
    "food_menu "
   ]
  },
  {
   "cell_type": "code",
   "execution_count": null,
   "metadata": {
    "colab": {
     "base_uri": "https://localhost:8080/"
    },
    "id": "PWJ3M2KwCJiW",
    "outputId": "b341944f-c06b-4bc5-d440-f05369624136"
   },
   "outputs": [
    {
     "name": "stdout",
     "output_type": "stream",
     "text": [
      "Let's start with Sangeet event. What cuisine would you like to include?\n",
      "Enter the index of the cuisine type:2\n"
     ]
    }
   ],
   "source": [
    "# Food for each main event\n",
    "print(\"Let's start with Sangeet event. What cuisine would you like to include?\")\n",
    "s_fc = int(input(\"Enter the index of the cuisine type:\"))\n",
    "if s_fc in range(0,5):\n",
    "  pass\n",
    "else:\n",
    "  print(\"Please enter a valid index:\")\n",
    "\n",
    "per_plate_cost = int(food_menu.loc[s_fc]['Cost per plate'])\n",
    "sangeet_fc = lambda per_plate_cost,no_of_guests: no_of_guests * per_plate_cost"
   ]
  },
  {
   "cell_type": "code",
   "execution_count": null,
   "metadata": {
    "colab": {
     "base_uri": "https://localhost:8080/"
    },
    "id": "0-dwgWDNCJfj",
    "outputId": "0590e64a-a155-4007-9dd4-a51d4b1b7357"
   },
   "outputs": [
    {
     "name": "stdout",
     "output_type": "stream",
     "text": [
      "Now the Nikkah event. What cuisine would you like to include?\n",
      "Enter the index of the cuisine type:4\n"
     ]
    }
   ],
   "source": [
    "print(\"Now the Nikkah event. What cuisine would you like to include?\")\n",
    "n_fc = int(input(\"Enter the index of the cuisine type:\"))\n",
    "if n_fc in range(0,5):\n",
    "  pass\n",
    "else:\n",
    "  print(\"Please enter a valid index:\")\n",
    "\n",
    "per_plate_cost = int(food_menu.loc[n_fc]['Cost per plate'])\n",
    "nikkah_fc = lambda per_plate_cost,no_of_guests: no_of_guests * per_plate_cost"
   ]
  },
  {
   "cell_type": "code",
   "execution_count": null,
   "metadata": {
    "colab": {
     "base_uri": "https://localhost:8080/"
    },
    "id": "qbgtXOSBIHmb",
    "outputId": "0e7ad40f-1b9f-4cf3-9e8f-3681ea6f7773"
   },
   "outputs": [
    {
     "name": "stdout",
     "output_type": "stream",
     "text": [
      "Last but the most important one, Reception event. What cuisine would you like to include?\n",
      "Enter the index of the cuisine type:3\n"
     ]
    }
   ],
   "source": [
    "print(\"Last but the most important one, Reception event. What cuisine would you like to include?\")\n",
    "r_fc = int(input(\"Enter the index of the cuisine type:\"))\n",
    "if r_fc in range(0,5):\n",
    "  pass\n",
    "else:\n",
    "  print(\"Please enter a valid index:\")\n",
    "\n",
    "per_plate_cost = int(food_menu.loc[r_fc]['Cost per plate'])\n",
    "reception_fc = lambda per_plate_cost,no_of_guests: no_of_guests * per_plate_cost"
   ]
  },
  {
   "cell_type": "code",
   "execution_count": null,
   "metadata": {
    "id": "D_sY2yfiVMvg"
   },
   "outputs": [],
   "source": [
    "# Braches information\n",
    "branches = [[\"Negril\",\"Jamaica\",\"Austin\",\"Norman Manley Blvd, A1, Negril, Jamaica\",\"+1 876-632-7401\",\"shadimubarak_jamaica@gmail.com\"],\n",
    "            [\"Vail\",\"Colorado\",\"Joseph\",\"1 Vail Rd, Vail, CO 81657, United States\",\"+1 970-477-8600\",\"shadimubarak_colorado@gmail.com\"],\n",
    "            [\"Paris\",\"France\",\"Siddharth\",\"51 Bd Saint-Marcel, 75013 Paris, France\",\"+33 1 43 37 81 25\",\"shadimubarak_paris@gmail.com\"],\n",
    "            [\"NewYork\",\"USA\",\"Nadiger\",\"400 5th Ave, New York, NY 10018, United States\",\"+1 212-695-4005\",\"shadimubarak_newyork@gmail.com\"],\n",
    "            [\"Rome\",\"Italy\",\"Abhishek\",\"Via della Fontanella di Borghese, 48, 00186 Roma RM, Italy\",\"+39 06 9779 8080\",\"shadimubarak_italy@gmail.com\"],\n",
    "            [\"Montezuma\",\"Costa Rica\",\"Abbaz\",\"frente de la entrada de la cascada Puntarenas Montezuma, 60111, Costa Rica\",\"+506 2642 0262\",\"shadimubarak_costarica@gmail.com\"],\n",
    "            [\"Koh Samui\",\"Thailand\",\"Sulaiman\",\"208/1 Moo 4, T. Maret, Lamai Beach, Koh Samui, Surat Thani 84310, Thailand\",\"+66 77 429 300\",\"shadimubarak_thailand@gmail.com\"]\n",
    "            ]\n",
    "branch = pd.DataFrame(branches, columns = ['City','Country','Regional Manager',\n",
    "                                           'Address','Phn no.','email'])"
   ]
  },
  {
   "cell_type": "code",
   "execution_count": null,
   "metadata": {
    "colab": {
     "base_uri": "https://localhost:8080/",
     "height": 269
    },
    "id": "Bpj4zaNST45f",
    "outputId": "4543566e-7c09-4c1e-f9e4-08de36bae0b1"
   },
   "outputs": [
    {
     "data": {
      "text/html": [
       "<div>\n",
       "<style scoped>\n",
       "    .dataframe tbody tr th:only-of-type {\n",
       "        vertical-align: middle;\n",
       "    }\n",
       "\n",
       "    .dataframe tbody tr th {\n",
       "        vertical-align: top;\n",
       "    }\n",
       "\n",
       "    .dataframe thead th {\n",
       "        text-align: right;\n",
       "    }\n",
       "</style>\n",
       "<table border=\"1\" class=\"dataframe\">\n",
       "  <thead>\n",
       "    <tr style=\"text-align: right;\">\n",
       "      <th></th>\n",
       "      <th>City</th>\n",
       "      <th>Country</th>\n",
       "      <th>Regional Manager</th>\n",
       "      <th>Address</th>\n",
       "      <th>Phn no.</th>\n",
       "      <th>email</th>\n",
       "    </tr>\n",
       "  </thead>\n",
       "  <tbody>\n",
       "    <tr>\n",
       "      <th>0</th>\n",
       "      <td>Negril</td>\n",
       "      <td>Jamaica</td>\n",
       "      <td>Austin</td>\n",
       "      <td>Norman Manley Blvd, A1, Negril, Jamaica</td>\n",
       "      <td>+1 876-632-7401</td>\n",
       "      <td>shadimubarak_jamaica@gmail.com</td>\n",
       "    </tr>\n",
       "    <tr>\n",
       "      <th>1</th>\n",
       "      <td>Vail</td>\n",
       "      <td>Colorado</td>\n",
       "      <td>Joseph</td>\n",
       "      <td>1 Vail Rd, Vail, CO 81657, United States</td>\n",
       "      <td>+1 970-477-8600</td>\n",
       "      <td>shadimubarak_colorado@gmail.com</td>\n",
       "    </tr>\n",
       "    <tr>\n",
       "      <th>2</th>\n",
       "      <td>Paris</td>\n",
       "      <td>France</td>\n",
       "      <td>Siddharth</td>\n",
       "      <td>51 Bd Saint-Marcel, 75013 Paris, France</td>\n",
       "      <td>+33 1 43 37 81 25</td>\n",
       "      <td>shadimubarak_paris@gmail.com</td>\n",
       "    </tr>\n",
       "    <tr>\n",
       "      <th>3</th>\n",
       "      <td>NewYork</td>\n",
       "      <td>USA</td>\n",
       "      <td>Nadiger</td>\n",
       "      <td>400 5th Ave, New York, NY 10018, United States</td>\n",
       "      <td>+1 212-695-4005</td>\n",
       "      <td>shadimubarak_newyork@gmail.com</td>\n",
       "    </tr>\n",
       "    <tr>\n",
       "      <th>4</th>\n",
       "      <td>Rome</td>\n",
       "      <td>Italy</td>\n",
       "      <td>Abhishek</td>\n",
       "      <td>Via della Fontanella di Borghese, 48, 00186 Ro...</td>\n",
       "      <td>+39 06 9779 8080</td>\n",
       "      <td>shadimubarak_italy@gmail.com</td>\n",
       "    </tr>\n",
       "    <tr>\n",
       "      <th>5</th>\n",
       "      <td>Montezuma</td>\n",
       "      <td>Costa Rica</td>\n",
       "      <td>Abbaz</td>\n",
       "      <td>frente de la entrada de la cascada Puntarenas ...</td>\n",
       "      <td>+506 2642 0262</td>\n",
       "      <td>shadimubarak_costarica@gmail.com</td>\n",
       "    </tr>\n",
       "    <tr>\n",
       "      <th>6</th>\n",
       "      <td>Koh Samui</td>\n",
       "      <td>Thailand</td>\n",
       "      <td>Sulaiman</td>\n",
       "      <td>208/1 Moo 4, T. Maret, Lamai Beach, Koh Samui,...</td>\n",
       "      <td>+66 77 429 300</td>\n",
       "      <td>shadimubarak_thailand@gmail.com</td>\n",
       "    </tr>\n",
       "  </tbody>\n",
       "</table>\n",
       "</div>"
      ],
      "text/plain": [
       "        City     Country  ...            Phn no.                             email\n",
       "0     Negril     Jamaica  ...    +1 876-632-7401    shadimubarak_jamaica@gmail.com\n",
       "1       Vail    Colorado  ...    +1 970-477-8600   shadimubarak_colorado@gmail.com\n",
       "2      Paris      France  ...  +33 1 43 37 81 25      shadimubarak_paris@gmail.com\n",
       "3    NewYork         USA  ...    +1 212-695-4005    shadimubarak_newyork@gmail.com\n",
       "4       Rome       Italy  ...   +39 06 9779 8080      shadimubarak_italy@gmail.com\n",
       "5  Montezuma  Costa Rica  ...     +506 2642 0262  shadimubarak_costarica@gmail.com\n",
       "6  Koh Samui    Thailand  ...     +66 77 429 300   shadimubarak_thailand@gmail.com\n",
       "\n",
       "[7 rows x 6 columns]"
      ]
     },
     "execution_count": 21,
     "metadata": {},
     "output_type": "execute_result"
    }
   ],
   "source": [
    "branch #print the branch dataframe"
   ]
  },
  {
   "cell_type": "code",
   "execution_count": null,
   "metadata": {
    "colab": {
     "base_uri": "https://localhost:8080/",
     "height": 150
    },
    "id": "ASySyTqrURk3",
    "outputId": "de89626e-ce22-4d1c-b5c5-bb7d5da4f27f"
   },
   "outputs": [
    {
     "name": "stdout",
     "output_type": "stream",
     "text": [
      "That covers all the events that we've planned. I want to mention that \n",
      "branches in all the cities that we offered and a personal organiser will\n",
      "accompany you throughout the event.\n",
      "Here is the information of the branch located in: Paris\n"
     ]
    },
    {
     "data": {
      "text/html": [
       "<div>\n",
       "<style scoped>\n",
       "    .dataframe tbody tr th:only-of-type {\n",
       "        vertical-align: middle;\n",
       "    }\n",
       "\n",
       "    .dataframe tbody tr th {\n",
       "        vertical-align: top;\n",
       "    }\n",
       "\n",
       "    .dataframe thead th {\n",
       "        text-align: right;\n",
       "    }\n",
       "</style>\n",
       "<table border=\"1\" class=\"dataframe\">\n",
       "  <thead>\n",
       "    <tr style=\"text-align: right;\">\n",
       "      <th></th>\n",
       "      <th>City</th>\n",
       "      <th>Country</th>\n",
       "      <th>Regional Manager</th>\n",
       "      <th>Address</th>\n",
       "      <th>Phn no.</th>\n",
       "      <th>email</th>\n",
       "    </tr>\n",
       "  </thead>\n",
       "  <tbody>\n",
       "    <tr>\n",
       "      <th>2</th>\n",
       "      <td>Paris</td>\n",
       "      <td>France</td>\n",
       "      <td>Siddharth</td>\n",
       "      <td>51 Bd Saint-Marcel, 75013 Paris, France</td>\n",
       "      <td>+33 1 43 37 81 25</td>\n",
       "      <td>shadimubarak_paris@gmail.com</td>\n",
       "    </tr>\n",
       "  </tbody>\n",
       "</table>\n",
       "</div>"
      ],
      "text/plain": [
       "    City Country  ...            Phn no.                         email\n",
       "2  Paris  France  ...  +33 1 43 37 81 25  shadimubarak_paris@gmail.com\n",
       "\n",
       "[1 rows x 6 columns]"
      ]
     },
     "execution_count": 22,
     "metadata": {},
     "output_type": "execute_result"
    }
   ],
   "source": [
    "print(f\"\"\"That covers all the events that we've planned. I want to mention that \n",
    "branches in all the cities that we offered and a personal organiser will\n",
    "accompany you throughout the event.\n",
    "Here is the information of the branch located in: {choice}\"\"\")\n",
    "branch.loc[branch['City'] == choice]"
   ]
  },
  {
   "cell_type": "code",
   "execution_count": null,
   "metadata": {
    "colab": {
     "base_uri": "https://localhost:8080/"
    },
    "id": "i5MrhWGtJOZ9",
    "outputId": "3197f92c-ef73-4c56-a1de-b2b39ba4759d"
   },
   "outputs": [
    {
     "name": "stdout",
     "output_type": "stream",
     "text": [
      "\n",
      "The choices which you've selected are:\n",
      "City = Paris\n",
      "Bachelor's party = yes\n",
      "Engagement (with rings) = yes\n",
      "Sangeet = yes\n",
      "Local Tour = yes\n",
      "Nikkah = yes\n",
      "Reception = yes\n",
      "Number of guests = 75\n",
      "Type of Accommodation = Luxury Lodge\n",
      "Cuisine for Sangeet = Desi Indian\n",
      "Cuisine for Nikkah = Chinese\n",
      "Cusine for Reception = Multicuisine\n",
      "\n",
      "$$$$$$$$$$$$$$$$ BILL $$$$$$$$$$$$$$$$$$\n",
      "         Particulars       Price\n",
      "1      Venue Booking   487258.80\n",
      "2   Bachelor's party   115000.00\n",
      "3         Engagement   150000.00\n",
      "4            Sangeet   100000.00\n",
      "5         Local Tour   130000.00\n",
      "6             Nikkah   150000.00\n",
      "7          Reception   250000.00\n",
      "8      Accommodation   126000.00\n",
      "9       Sangeet Food   172500.00\n",
      "10       Nikkah Food   172500.00\n",
      "11    Reception Food   172500.00\n",
      "12         Tax (10%)   202575.88\n",
      "13   Discounts (15%)   303863.82\n",
      "14       Grand Total  1924470.86\n",
      "$$$$$$$$$$$$$$$ Thank you! $$$$$$$$$$$$$$$$\n"
     ]
    }
   ],
   "source": [
    "# Bill \n",
    "events_cost = (venue_cost(venue_price,rate)+bparty_cost+engagement_cost+\n",
    "              sangeet_cost+tour_cost+nikkah_cost+reception_cost+accommodation_cost\n",
    "              +sangeet_fc(per_plate_cost,no_of_guests)+\n",
    "              nikkah_fc(per_plate_cost,no_of_guests)+\n",
    "              reception_fc(per_plate_cost,no_of_guests))\n",
    "\n",
    "tax = 0.10 * events_cost\n",
    "\n",
    "discount = 0.15 * events_cost\n",
    "\n",
    "grand_total = events_cost + tax - discount\n",
    "\n",
    "bills = [['Venue Booking',venue_cost(venue_price,rate)],\n",
    "         [\"Bachelor's party\",bparty_cost],\n",
    "         [\"Engagement\",engagement_cost],\n",
    "         [\"Sangeet\",sangeet_cost],\n",
    "         [\"Local Tour\",tour_cost],\n",
    "         [\"Nikkah\",nikkah_cost],\n",
    "         [\"Reception\",reception_cost],\n",
    "         [\"Accommodation\",accommodation_cost],\n",
    "         [\"Sangeet Food\",sangeet_fc(per_plate_cost,no_of_guests)],\n",
    "         [\"Nikkah Food\",nikkah_fc(per_plate_cost,no_of_guests)],\n",
    "         ['Reception Food',reception_fc(per_plate_cost,no_of_guests)],\n",
    "         [\"Tax (10%)\",round(tax,2)],\n",
    "         [\"Discounts (15%)\",round(discount,2)],\n",
    "         [\"Grand Total\",round(grand_total,2)]        \n",
    "]\n",
    "final_bill = pd.DataFrame(bills, columns = ['Particulars','Price'])\n",
    "final_bill = final_bill.set_index(pd.Series(range(1,15)))\n",
    "print(f\"\"\"\n",
    "The choices which you've selected are:\n",
    "City = {choice}\n",
    "Bachelor's party = {bparty}\n",
    "Engagement (with rings) = {eparty}\n",
    "Sangeet = {sparty}\n",
    "Local Tour = {tpack}\n",
    "Nikkah = yes\n",
    "Reception = yes\n",
    "Number of guests = {no_of_guests}\n",
    "Type of Accommodation = {accommodation.loc[index]['Type of accommodation']}\n",
    "Cuisine for Sangeet = {food_menu.loc[s_fc]['Cuisine type']}\n",
    "Cuisine for Nikkah = {food_menu.loc[n_fc]['Cuisine type']}\n",
    "Cusine for Reception = {food_menu.loc[r_fc]['Cuisine type']}\n",
    "\"\"\")\n",
    "\n",
    "print(\"$$$$$$$$$$$$$$$$ BILL $$$$$$$$$$$$$$$$$$\")\n",
    "\n",
    "print(final_bill)\n",
    "\n",
    "print(\"$$$$$$$$$$$$$$$ Thank you! $$$$$$$$$$$$$$$$\")"
   ]
  }
 ],
 "metadata": {
  "colab": {
   "collapsed_sections": [],
   "name": "P2_2148023.ipynb",
   "provenance": []
  },
  "kernelspec": {
   "display_name": "Python 3",
   "language": "python",
   "name": "python3"
  },
  "language_info": {
   "codemirror_mode": {
    "name": "ipython",
    "version": 3
   },
   "file_extension": ".py",
   "mimetype": "text/x-python",
   "name": "python",
   "nbconvert_exporter": "python",
   "pygments_lexer": "ipython3",
   "version": "3.8.8"
  }
 },
 "nbformat": 4,
 "nbformat_minor": 1
}
